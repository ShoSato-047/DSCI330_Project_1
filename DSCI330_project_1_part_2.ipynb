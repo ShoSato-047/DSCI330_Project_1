{
 "cells": [
  {
   "cell_type": "markdown",
   "id": "8c0e5c4e-6a3e-46cd-9caf-2c5edac7d2af",
   "metadata": {},
   "source": [
    "Project overview.  In this project, you will combine all of the text files by their type (attendance or practice quiz) in two ways: with comprehensions and using composable functions.\n",
    "\n",
    "Goal for part 1: \n",
    "\n",
    "Combine all attendance and practice files into one CSV file simultaneously.\n",
    "Add the course and section information as columns in the resulting file.\n",
    "Use comprehensions with records to accomplish this part.\n",
    "You will need to make your own headers based on the README files.\n",
    "There is no missing data, so you can use string split to split up the fixed widths.  \n",
    "Hint for splitting.  Feel free to split the date-time column into two separate columns when splitting, just make sure you adjust the header accordingly.\n",
    "BONUS: Do this using unfold instead of string split.\n",
    "See Activity 2.7.2 - Combining all yearly files with comprehensions for a demonstration of a similar problem.\n",
    "Deliverables.  Submit the following\n",
    "\n",
    "A word document documenting your code/solution,\n",
    "A notebook containing your work.  This should be a new/different notebook, separate from your solution to part 1.  This documents should assume that the unzipped file and all the composable modules are in the root directory (see below)."
   ]
  },
  {
   "cell_type": "code",
   "execution_count": null,
   "id": "228df654-3191-46a5-a733-ad35c661cabb",
   "metadata": {},
   "outputs": [],
   "source": []
  }
 ],
 "metadata": {
  "kernelspec": {
   "display_name": "Python 3 (ipykernel)",
   "language": "python",
   "name": "python3"
  },
  "language_info": {
   "codemirror_mode": {
    "name": "ipython",
    "version": 3
   },
   "file_extension": ".py",
   "mimetype": "text/x-python",
   "name": "python",
   "nbconvert_exporter": "python",
   "pygments_lexer": "ipython3",
   "version": "3.12.7"
  }
 },
 "nbformat": 4,
 "nbformat_minor": 5
}
