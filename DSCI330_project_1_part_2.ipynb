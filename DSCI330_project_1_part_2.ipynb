{
 "cells": [
  {
   "cell_type": "code",
   "execution_count": 114,
   "id": "228df654-3191-46a5-a733-ad35c661cabb",
   "metadata": {},
   "outputs": [
    {
     "name": "stdout",
     "output_type": "stream",
     "text": [
      "Requirement already satisfied: composable in c:\\users\\mp5667di\\appdata\\local\\anaconda3\\envs\\polars\\lib\\site-packages (0.5.4)Note: you may need to restart the kernel to use updated packages.\n",
      "\n",
      "Requirement already satisfied: python-forge<19.0,>=18.6 in c:\\users\\mp5667di\\appdata\\local\\anaconda3\\envs\\polars\\lib\\site-packages (from composable) (18.6.0)\n",
      "Requirement already satisfied: toolz<0.12.0,>=0.11.1 in c:\\users\\mp5667di\\appdata\\local\\anaconda3\\envs\\polars\\lib\\site-packages (from composable) (0.11.2)\n"
     ]
    }
   ],
   "source": [
    "%pip install composable"
   ]
  },
  {
   "cell_type": "code",
   "execution_count": 115,
   "id": "410261b5-6b08-4f04-84ce-add14978b734",
   "metadata": {},
   "outputs": [],
   "source": [
    "from composable import pipeable\n",
    "from composable.strict import map, filter\n",
    "from composable_glob import glob\n",
    "from composable_utility import with_open\n",
    "import composable_records as rec\n",
    "import composable_tuples as tup\n",
    "\n",
    "import re\n",
    "import csv"
   ]
  },
  {
   "cell_type": "code",
   "execution_count": 116,
   "id": "927d0324-c2fb-4fb1-ac83-a777d49e5f2c",
   "metadata": {},
   "outputs": [],
   "source": [
    "from composable_utility import get, with_open, identity\n",
    "from composable_object import obj, attr\n",
    "from composable_origami import fold"
   ]
  },
  {
   "cell_type": "markdown",
   "id": "8c0e5c4e-6a3e-46cd-9caf-2c5edac7d2af",
   "metadata": {},
   "source": [
    "# Project overview:\n",
    "In this project, you will combine all of the text files by their type (attendance or practice quiz) in two ways: with comprehensions and using composable functions.\n",
    "\n",
    "## Goal for part 2: \n",
    "\n",
    "1. Combine all **attendance and practice** files into one CSV file simultaneously.\n",
    "2. Add the course and section information as columns in the resulting file.\n",
    "3. Use comprehensions with records to accomplish this part.\n",
    "4. You will need to make your own headers based on the README files.\n",
    "5. There is no missing data, so you can use string split to split up the fixed widths.  \n",
    "   - Hint for splitting.  Feel free to split the date-time column into two separate columns when splitting, just make sure you adjust the header accordingly.\n",
    "   - BONUS: Do this using unfold instead of string split.\n",
    "6. See Activity 2.7.2 - Combining all yearly files with comprehensions for a demonstration of a similar problem."
   ]
  },
  {
   "cell_type": "markdown",
   "id": "e723f611-34d9-44b1-bc06-21fcc1493033",
   "metadata": {},
   "source": [
    "# Step 1: Convert txt to csv"
   ]
  },
  {
   "cell_type": "markdown",
   "id": "07001918-5370-45e3-a7c2-2b703c1e81a9",
   "metadata": {},
   "source": [
    "## Reading txt files"
   ]
  },
  {
   "cell_type": "code",
   "execution_count": 117,
   "id": "80246295-b6a7-4a2d-b2e5-4546bf746550",
   "metadata": {},
   "outputs": [
    {
     "data": {
      "text/plain": [
       "['./attendance_example_fixed_width\\\\dsci494s7\\\\Attendance Quiz - User Attempts.txt',\n",
       " './attendance_example_fixed_width\\\\dsci494s7\\\\Practice Quiz - Module 1 - User Attempts.txt',\n",
       " './attendance_example_fixed_width\\\\dsci494s7\\\\Practice Quiz - Module 2 - User Attempts.txt',\n",
       " './attendance_example_fixed_width\\\\dsci494s7\\\\Practice Quiz - Module 3 - User Attempts.txt',\n",
       " './attendance_example_fixed_width\\\\dsci494s7\\\\Practice Quiz - Module 4 - User Attempts.txt',\n",
       " './attendance_example_fixed_width\\\\stat180s18\\\\Attendance Quiz - User Attempts.txt',\n",
       " './attendance_example_fixed_width\\\\stat491s1\\\\Attendance Quiz - User Attempts.txt',\n",
       " './attendance_example_fixed_width\\\\stat491s1\\\\Practice Quiz - Module 1 - User Attempts.txt',\n",
       " './attendance_example_fixed_width\\\\stat491s1\\\\Practice Quiz - Module 2 - User Attempts.txt',\n",
       " './attendance_example_fixed_width\\\\stat491s1\\\\Practice Quiz - Module 3 - User Attempts.txt',\n",
       " './attendance_example_fixed_width\\\\stat491s1\\\\Practice Quiz - Module 4 - User Attempts.txt']"
      ]
     },
     "execution_count": 117,
     "metadata": {},
     "output_type": "execute_result"
    }
   ],
   "source": [
    "(paths :=\n",
    " \"./attendance_example_fixed_width/**/* Quiz*.txt\"\n",
    " >> glob(recursive=True)\n",
    ")"
   ]
  },
  {
   "cell_type": "code",
   "execution_count": 118,
   "id": "6848a9ea-21bf-4214-b7b6-d46e2044d458",
   "metadata": {},
   "outputs": [
    {
     "data": {
      "text/plain": [
       "['./attendance_example_fixed_width/dsci494s7/Attendance Quiz - User Attempts.txt',\n",
       " './attendance_example_fixed_width/dsci494s7/Practice Quiz - Module 1 - User Attempts.txt',\n",
       " './attendance_example_fixed_width/dsci494s7/Practice Quiz - Module 2 - User Attempts.txt',\n",
       " './attendance_example_fixed_width/dsci494s7/Practice Quiz - Module 3 - User Attempts.txt',\n",
       " './attendance_example_fixed_width/dsci494s7/Practice Quiz - Module 4 - User Attempts.txt',\n",
       " './attendance_example_fixed_width/stat180s18/Attendance Quiz - User Attempts.txt',\n",
       " './attendance_example_fixed_width/stat491s1/Attendance Quiz - User Attempts.txt',\n",
       " './attendance_example_fixed_width/stat491s1/Practice Quiz - Module 1 - User Attempts.txt',\n",
       " './attendance_example_fixed_width/stat491s1/Practice Quiz - Module 2 - User Attempts.txt',\n",
       " './attendance_example_fixed_width/stat491s1/Practice Quiz - Module 3 - User Attempts.txt',\n",
       " './attendance_example_fixed_width/stat491s1/Practice Quiz - Module 4 - User Attempts.txt']"
      ]
     },
     "execution_count": 118,
     "metadata": {},
     "output_type": "execute_result"
    }
   ],
   "source": [
    "(new_paths := [path.replace(\"\\\\\", \"/\") for path in paths])"
   ]
  },
  {
   "cell_type": "code",
   "execution_count": 119,
   "id": "1bf95c8c-486a-4a54-9def-dd09c9c3d94c",
   "metadata": {},
   "outputs": [
    {
     "data": {
      "text/plain": [
       "['14460432 au9747cp Jericho     Greer       1  1  1  2019-01-14 14:00:00 2019-01-14 14:06:00 100%\\n',\n",
       " '14460432 au9747cp Jericho     Greer       2  1  1  2019-01-16 14:00:00 2019-01-16 14:08:00 100%\\n',\n",
       " '14460432 au9747cp Jericho     Greer       3  1  1  2019-01-18 14:00:00 2019-01-18 14:05:00 100%\\n']"
      ]
     },
     "execution_count": 119,
     "metadata": {},
     "output_type": "execute_result"
    }
   ],
   "source": [
    "with open(new_paths[0], encoding =\"utf-8\") as f:\n",
    "    lines = f.readlines()\n",
    "lines[:3]"
   ]
  },
  {
   "cell_type": "code",
   "execution_count": 120,
   "id": "eacb1ac5-0658-43d2-9795-d0daf27ab0d0",
   "metadata": {},
   "outputs": [
    {
     "data": {
      "text/plain": [
       "[['14460432',\n",
       "  'au9747cp',\n",
       "  'Jericho',\n",
       "  'Greer',\n",
       "  '1',\n",
       "  '1',\n",
       "  '1',\n",
       "  '2019-01-14',\n",
       "  '14:00:00',\n",
       "  '2019-01-14',\n",
       "  '14:06:00',\n",
       "  '100%'],\n",
       " ['14460432',\n",
       "  'au9747cp',\n",
       "  'Jericho',\n",
       "  'Greer',\n",
       "  '2',\n",
       "  '1',\n",
       "  '1',\n",
       "  '2019-01-16',\n",
       "  '14:00:00',\n",
       "  '2019-01-16',\n",
       "  '14:08:00',\n",
       "  '100%']]"
      ]
     },
     "execution_count": 120,
     "metadata": {},
     "output_type": "execute_result"
    }
   ],
   "source": [
    "split_lines = [line.split() for line in lines]\n",
    "split_lines[:2]"
   ]
  },
  {
   "cell_type": "markdown",
   "id": "fc560a63-cecf-4944-8867-21417d876675",
   "metadata": {},
   "source": [
    "## Adding headers to the body of text"
   ]
  },
  {
   "cell_type": "code",
   "execution_count": 121,
   "id": "3efec806-155b-4bde-b283-373f8a2eb1a0",
   "metadata": {},
   "outputs": [
    {
     "data": {
      "text/plain": [
       "[{'ID': '14460432',\n",
       "  'UserName': 'au9747cp',\n",
       "  'FirstName': 'Jericho',\n",
       "  'LastName': 'Greer',\n",
       "  'Attempt': '1',\n",
       "  'Score': '1',\n",
       "  'Out_Of': '1',\n",
       "  'Attempt_Start_Date': '2019-01-14',\n",
       "  'Attempt_Start_Time': '14:00:00',\n",
       "  'Attempt_End_Date': '2019-01-14',\n",
       "  'Attempt_End_Time': '14:06:00',\n",
       "  'Percent': '100%'},\n",
       " {'ID': '14460432',\n",
       "  'UserName': 'au9747cp',\n",
       "  'FirstName': 'Jericho',\n",
       "  'LastName': 'Greer',\n",
       "  'Attempt': '2',\n",
       "  'Score': '1',\n",
       "  'Out_Of': '1',\n",
       "  'Attempt_Start_Date': '2019-01-16',\n",
       "  'Attempt_Start_Time': '14:00:00',\n",
       "  'Attempt_End_Date': '2019-01-16',\n",
       "  'Attempt_End_Time': '14:08:00',\n",
       "  'Percent': '100%'}]"
      ]
     },
     "execution_count": 121,
     "metadata": {},
     "output_type": "execute_result"
    }
   ],
   "source": [
    "# List comprehension to create records (dicts) with keys. \n",
    "# Refer to the README file for more detail. \n",
    "quiz_records = [\n",
    "              {'ID': line[0],       \n",
    "               'UserName': line[1],\n",
    "               'FirstName': line[2],  \n",
    "               \"LastName\": line[3],\n",
    "               \"Attempt\": line[4],\n",
    "               \"Score\": line[5],\n",
    "               \"Out_Of\": line[6],\n",
    "               \"Attempt_Start_Date\": line[7],\n",
    "               \"Attempt_Start_Time\": line[8],\n",
    "               \"Attempt_End_Date\": line[9],\n",
    "               \"Attempt_End_Time\": line[10],\n",
    "               \"Percent\": line[11]\n",
    "              }\n",
    "    for line in split_lines]\n",
    "\n",
    "[record for record in quiz_records][:2]"
   ]
  },
  {
   "cell_type": "markdown",
   "id": "b42b818e-262d-40c2-969b-bf6db9640bdc",
   "metadata": {},
   "source": [
    "## The process of saving a txt as a csv file"
   ]
  },
  {
   "cell_type": "code",
   "execution_count": 122,
   "id": "91e4e5ca-3c19-4275-814c-32e52d28236d",
   "metadata": {},
   "outputs": [
    {
     "name": "stdout",
     "output_type": "stream",
     "text": [
      "CSV file saved: ./attendance_example_fixed_width/dsci494s7/Attendance_quiz.csv\n",
      "CSV file saved: ./attendance_example_fixed_width/dsci494s7/Practice_quiz_Module 1.csv\n",
      "CSV file saved: ./attendance_example_fixed_width/dsci494s7/Practice_quiz_Module 2.csv\n",
      "CSV file saved: ./attendance_example_fixed_width/dsci494s7/Practice_quiz_Module 3.csv\n",
      "CSV file saved: ./attendance_example_fixed_width/dsci494s7/Practice_quiz_Module 4.csv\n",
      "CSV file saved: ./attendance_example_fixed_width/stat180s18/Attendance_quiz.csv\n",
      "CSV file saved: ./attendance_example_fixed_width/stat491s1/Attendance_quiz.csv\n",
      "CSV file saved: ./attendance_example_fixed_width/stat491s1/Practice_quiz_Module 1.csv\n",
      "CSV file saved: ./attendance_example_fixed_width/stat491s1/Practice_quiz_Module 2.csv\n",
      "CSV file saved: ./attendance_example_fixed_width/stat491s1/Practice_quiz_Module 3.csv\n",
      "CSV file saved: ./attendance_example_fixed_width/stat491s1/Practice_quiz_Module 4.csv\n"
     ]
    }
   ],
   "source": [
    "for path in new_paths:\n",
    "    # Extract class section and quiz type\n",
    "    class_section = path.split(\"/\")[-2]  # (dsci494s7, stat180s18, stat491s1)\n",
    "    quiz_type = path.split(\"/\")[-1].split(\" \")[0]  # (Attendance or Practice)\n",
    "\n",
    "    # Extract module number if it exists\n",
    "    module_parts = path.split(\"/\")[-1].split(\" - \")\n",
    "    module_type = module_parts[1] if quiz_type == \"Practice\" and \"Module\" in module_parts[1] else \"\" # Attendance quiz has no Module\n",
    "\n",
    "    # Construct output filename\n",
    "    if module_type:\n",
    "        output_file = f\"./attendance_example_fixed_width/{class_section}/{quiz_type}_quiz_{module_type}.csv\"\n",
    "    else:\n",
    "        output_file = f\"./attendance_example_fixed_width/{class_section}/{quiz_type}_quiz.csv\"\n",
    "\n",
    "    # Extract headers\n",
    "    headers = quiz_records[0].keys()\n",
    "\n",
    "    # Write to CSV\n",
    "    if quiz_records:\n",
    "        with open(output_file, mode=\"w\", newline=\"\") as file:\n",
    "            writer = csv.DictWriter(file, fieldnames=headers)\n",
    "            writer.writeheader()\n",
    "            writer.writerows(quiz_records)\n",
    "\n",
    "        print(f\"CSV file saved: {output_file}\")"
   ]
  },
  {
   "cell_type": "markdown",
   "id": "334b0dee-b972-4921-9dfb-b8b4984fec56",
   "metadata": {},
   "source": [
    "# Step 2: Handling multiple csvs"
   ]
  },
  {
   "cell_type": "markdown",
   "id": "da150326-023c-4d0b-a6b9-a68b2550761e",
   "metadata": {},
   "source": [
    "## Reading csv files"
   ]
  },
  {
   "cell_type": "code",
   "execution_count": 123,
   "id": "bed5e88d-46e1-4459-aa01-82f6faf14c82",
   "metadata": {},
   "outputs": [
    {
     "data": {
      "text/plain": [
       "['./attendance_example_fixed_width\\\\dsci494s7\\\\attendance_quiz.csv',\n",
       " './attendance_example_fixed_width\\\\dsci494s7\\\\Practice_quiz_Module 1.csv',\n",
       " './attendance_example_fixed_width\\\\dsci494s7\\\\Practice_quiz_Module 2.csv',\n",
       " './attendance_example_fixed_width\\\\dsci494s7\\\\Practice_quiz_Module 3.csv',\n",
       " './attendance_example_fixed_width\\\\dsci494s7\\\\Practice_quiz_Module 4.csv',\n",
       " './attendance_example_fixed_width\\\\stat180s18\\\\attendance_quiz.csv',\n",
       " './attendance_example_fixed_width\\\\stat491s1\\\\attendance_quiz.csv',\n",
       " './attendance_example_fixed_width\\\\stat491s1\\\\Practice_quiz_Module 1.csv',\n",
       " './attendance_example_fixed_width\\\\stat491s1\\\\Practice_quiz_Module 2.csv',\n",
       " './attendance_example_fixed_width\\\\stat491s1\\\\Practice_quiz_Module 3.csv',\n",
       " './attendance_example_fixed_width\\\\stat491s1\\\\Practice_quiz_Module 4.csv']"
      ]
     },
     "execution_count": 123,
     "metadata": {},
     "output_type": "execute_result"
    }
   ],
   "source": [
    "(paths :=\n",
    " \"./attendance_example_fixed_width/*/[AP]*_quiz*.csv\"\n",
    " >> glob(recursive=True)\n",
    ")"
   ]
  },
  {
   "cell_type": "code",
   "execution_count": 124,
   "id": "aa7e7bc9-7e93-4f6e-ac92-17bcae585af4",
   "metadata": {},
   "outputs": [
    {
     "data": {
      "text/plain": [
       "['./attendance_example_fixed_width/dsci494s7/Attendance_quiz.csv',\n",
       " './attendance_example_fixed_width/dsci494s7/Practice_quiz_Module 1.csv',\n",
       " './attendance_example_fixed_width/dsci494s7/Practice_quiz_Module 2.csv',\n",
       " './attendance_example_fixed_width/dsci494s7/Practice_quiz_Module 3.csv',\n",
       " './attendance_example_fixed_width/dsci494s7/Practice_quiz_Module 4.csv',\n",
       " './attendance_example_fixed_width/stat180s18/Attendance_quiz.csv',\n",
       " './attendance_example_fixed_width/stat491s1/Attendance_quiz.csv',\n",
       " './attendance_example_fixed_width/stat491s1/Practice_quiz_Module 1.csv',\n",
       " './attendance_example_fixed_width/stat491s1/Practice_quiz_Module 2.csv',\n",
       " './attendance_example_fixed_width/stat491s1/Practice_quiz_Module 3.csv',\n",
       " './attendance_example_fixed_width/stat491s1/Practice_quiz_Module 4.csv']"
      ]
     },
     "execution_count": 124,
     "metadata": {},
     "output_type": "execute_result"
    }
   ],
   "source": [
    "# (csv_paths := [path.replace(\"\\\\\", \"/\") for path in paths])\n",
    "\n",
    "(csv_paths := [path.replace(\"\\\\\", \"/\").replace(\"attendance_quiz\",\"Attendance_quiz\") for path in paths])"
   ]
  },
  {
   "cell_type": "markdown",
   "id": "7b1615f8-f6ca-4d18-b60d-1cb577f68510",
   "metadata": {},
   "source": [
    "## Unfolding the file paths into records"
   ]
  },
  {
   "cell_type": "code",
   "execution_count": 125,
   "id": "6fba4bb3-6fd8-4244-bd64-f665826e7b0d",
   "metadata": {},
   "outputs": [],
   "source": [
    "get_file = lambda path: path.split('/')[-1]\n",
    "get_folder = lambda path: '/'.join(path.split('/')[:-1]) + '/'\n",
    "get_class = lambda path: re.search(r\"([A-Za-z]{4})\\d{3}\", path).group()\n",
    "get_section = lambda path: re.search(r\"s\\d{1,2}\", path).group()\n",
    "get_type = lambda path: path.split('/')[-1].split('_')[0]\n",
    "get_module = lambda path: path.split('/')[-1].split('_')[-1].split('.')[0] if get_type(path) == 'Practice' else ''"
   ]
  },
  {
   "cell_type": "code",
   "execution_count": 126,
   "id": "096b9736-e4d5-4b41-8703-c6a9de1ac4bf",
   "metadata": {},
   "outputs": [
    {
     "data": {
      "text/plain": [
       "[{'file': 'Attendance_quiz.csv',\n",
       "  'folder': './attendance_example_fixed_width/dsci494s7/',\n",
       "  'class': 'dsci494',\n",
       "  'section': 's7',\n",
       "  'type': 'Attendance',\n",
       "  'module': '',\n",
       "  'lines': ['ID,UserName,FirstName,LastName,Attempt,Score,Out_Of,Attempt_Start_Date,Attempt_Start_Time,Attempt_End_Date,Attempt_End_Time,Percent\\n',\n",
       "   '14460432,au9747cp,Jericho,Greer,1,1,1,2019-01-14,14:00:00,2019-01-14,14:06:00,100%\\n']},\n",
       " {'file': 'Practice_quiz_Module 1.csv',\n",
       "  'folder': './attendance_example_fixed_width/dsci494s7/',\n",
       "  'class': 'dsci494',\n",
       "  'section': 's7',\n",
       "  'type': 'Practice',\n",
       "  'module': 'Module 1',\n",
       "  'lines': ['ID,UserName,FirstName,LastName,Attempt,Score,Out_Of,Attempt_Start_Date,Attempt_Start_Time,Attempt_End_Date,Attempt_End_Time,Percent\\n',\n",
       "   '14460432,au9747cp,Jericho,Greer,1,1,1,2019-01-14,14:00:00,2019-01-14,14:06:00,100%\\n']},\n",
       " {'file': 'Practice_quiz_Module 2.csv',\n",
       "  'folder': './attendance_example_fixed_width/dsci494s7/',\n",
       "  'class': 'dsci494',\n",
       "  'section': 's7',\n",
       "  'type': 'Practice',\n",
       "  'module': 'Module 2',\n",
       "  'lines': ['ID,UserName,FirstName,LastName,Attempt,Score,Out_Of,Attempt_Start_Date,Attempt_Start_Time,Attempt_End_Date,Attempt_End_Time,Percent\\n',\n",
       "   '14460432,au9747cp,Jericho,Greer,1,1,1,2019-01-14,14:00:00,2019-01-14,14:06:00,100%\\n']},\n",
       " {'file': 'Practice_quiz_Module 3.csv',\n",
       "  'folder': './attendance_example_fixed_width/dsci494s7/',\n",
       "  'class': 'dsci494',\n",
       "  'section': 's7',\n",
       "  'type': 'Practice',\n",
       "  'module': 'Module 3',\n",
       "  'lines': ['ID,UserName,FirstName,LastName,Attempt,Score,Out_Of,Attempt_Start_Date,Attempt_Start_Time,Attempt_End_Date,Attempt_End_Time,Percent\\n',\n",
       "   '14460432,au9747cp,Jericho,Greer,1,1,1,2019-01-14,14:00:00,2019-01-14,14:06:00,100%\\n']},\n",
       " {'file': 'Practice_quiz_Module 4.csv',\n",
       "  'folder': './attendance_example_fixed_width/dsci494s7/',\n",
       "  'class': 'dsci494',\n",
       "  'section': 's7',\n",
       "  'type': 'Practice',\n",
       "  'module': 'Module 4',\n",
       "  'lines': ['ID,UserName,FirstName,LastName,Attempt,Score,Out_Of,Attempt_Start_Date,Attempt_Start_Time,Attempt_End_Date,Attempt_End_Time,Percent\\n',\n",
       "   '14460432,au9747cp,Jericho,Greer,1,1,1,2019-01-14,14:00:00,2019-01-14,14:06:00,100%\\n']},\n",
       " {'file': 'Attendance_quiz.csv',\n",
       "  'folder': './attendance_example_fixed_width/stat180s18/',\n",
       "  'class': 'stat180',\n",
       "  'section': 's18',\n",
       "  'type': 'Attendance',\n",
       "  'module': '',\n",
       "  'lines': ['ID,UserName,FirstName,LastName,Attempt,Score,Out_Of,Attempt_Start_Date,Attempt_Start_Time,Attempt_End_Date,Attempt_End_Time,Percent\\n',\n",
       "   '14460432,au9747cp,Jericho,Greer,1,1,1,2019-01-14,14:00:00,2019-01-14,14:06:00,100%\\n']},\n",
       " {'file': 'Attendance_quiz.csv',\n",
       "  'folder': './attendance_example_fixed_width/stat491s1/',\n",
       "  'class': 'stat491',\n",
       "  'section': 's1',\n",
       "  'type': 'Attendance',\n",
       "  'module': '',\n",
       "  'lines': ['ID,UserName,FirstName,LastName,Attempt,Score,Out_Of,Attempt_Start_Date,Attempt_Start_Time,Attempt_End_Date,Attempt_End_Time,Percent\\n',\n",
       "   '14460432,au9747cp,Jericho,Greer,1,1,1,2019-01-14,14:00:00,2019-01-14,14:06:00,100%\\n']},\n",
       " {'file': 'Practice_quiz_Module 1.csv',\n",
       "  'folder': './attendance_example_fixed_width/stat491s1/',\n",
       "  'class': 'stat491',\n",
       "  'section': 's1',\n",
       "  'type': 'Practice',\n",
       "  'module': 'Module 1',\n",
       "  'lines': ['ID,UserName,FirstName,LastName,Attempt,Score,Out_Of,Attempt_Start_Date,Attempt_Start_Time,Attempt_End_Date,Attempt_End_Time,Percent\\n',\n",
       "   '14460432,au9747cp,Jericho,Greer,1,1,1,2019-01-14,14:00:00,2019-01-14,14:06:00,100%\\n']},\n",
       " {'file': 'Practice_quiz_Module 2.csv',\n",
       "  'folder': './attendance_example_fixed_width/stat491s1/',\n",
       "  'class': 'stat491',\n",
       "  'section': 's1',\n",
       "  'type': 'Practice',\n",
       "  'module': 'Module 2',\n",
       "  'lines': ['ID,UserName,FirstName,LastName,Attempt,Score,Out_Of,Attempt_Start_Date,Attempt_Start_Time,Attempt_End_Date,Attempt_End_Time,Percent\\n',\n",
       "   '14460432,au9747cp,Jericho,Greer,1,1,1,2019-01-14,14:00:00,2019-01-14,14:06:00,100%\\n']},\n",
       " {'file': 'Practice_quiz_Module 3.csv',\n",
       "  'folder': './attendance_example_fixed_width/stat491s1/',\n",
       "  'class': 'stat491',\n",
       "  'section': 's1',\n",
       "  'type': 'Practice',\n",
       "  'module': 'Module 3',\n",
       "  'lines': ['ID,UserName,FirstName,LastName,Attempt,Score,Out_Of,Attempt_Start_Date,Attempt_Start_Time,Attempt_End_Date,Attempt_End_Time,Percent\\n',\n",
       "   '14460432,au9747cp,Jericho,Greer,1,1,1,2019-01-14,14:00:00,2019-01-14,14:06:00,100%\\n']},\n",
       " {'file': 'Practice_quiz_Module 4.csv',\n",
       "  'folder': './attendance_example_fixed_width/stat491s1/',\n",
       "  'class': 'stat491',\n",
       "  'section': 's1',\n",
       "  'type': 'Practice',\n",
       "  'module': 'Module 4',\n",
       "  'lines': ['ID,UserName,FirstName,LastName,Attempt,Score,Out_Of,Attempt_Start_Date,Attempt_Start_Time,Attempt_End_Date,Attempt_End_Time,Percent\\n',\n",
       "   '14460432,au9747cp,Jericho,Greer,1,1,1,2019-01-14,14:00:00,2019-01-14,14:06:00,100%\\n']}]"
      ]
     },
     "execution_count": 126,
     "metadata": {},
     "output_type": "execute_result"
    }
   ],
   "source": [
    "(paths_and_lines :=\n",
    " [ {'file': get_file(path),\n",
    "    'folder': get_folder(path),\n",
    "    'class': get_class(path),\n",
    "    'section': get_section(path),\n",
    "    'type':   get_type(path),\n",
    "    'module': get_module(path),\n",
    "    'lines':  with_open(lambda f: f.readlines(), path)\n",
    "   }\n",
    "     for path in csv_paths\n",
    " ]\n",
    ") >> map(rec.heads(2))"
   ]
  },
  {
   "cell_type": "markdown",
   "id": "a19308ff-f3e4-4067-af2a-086e73a9e652",
   "metadata": {},
   "source": [
    "## Extracting the headers and bodies"
   ]
  },
  {
   "cell_type": "code",
   "execution_count": 127,
   "id": "55ba5509-7101-456d-9bbf-9546b18e2615",
   "metadata": {},
   "outputs": [
    {
     "data": {
      "text/plain": [
       "[{'file': 'Attendance_quiz.csv',\n",
       "  'folder': './attendance_example_fixed_width/dsci494s7/',\n",
       "  'class': 'dsci494',\n",
       "  'section': 's7',\n",
       "  'type': 'Attendance',\n",
       "  'module': '',\n",
       "  'lines': ['ID,UserName,FirstName,LastName,Attempt,Score,Out_Of,Attempt_Start_Date,Attempt_Start_Time,Attempt_End_Date,Attempt_End_Time,Percent\\n',\n",
       "   '14460432,au9747cp,Jericho,Greer,1,1,1,2019-01-14,14:00:00,2019-01-14,14:06:00,100%\\n'],\n",
       "  'header': 'ID,UserName,FirstName,LastName,Attempt,Score,Out_Of,Attempt_Start_Date,Attempt_Start_Time,Attempt_End_Date,Attempt_End_Time,Percent\\n',\n",
       "  'body': ['14460432,au9747cp,Jericho,Greer,1,1,1,2019-01-14,14:00:00,2019-01-14,14:06:00,100%\\n',\n",
       "   '14460432,au9747cp,Jericho,Greer,2,1,1,2019-01-16,14:00:00,2019-01-16,14:08:00,100%\\n']},\n",
       " {'file': 'Practice_quiz_Module 1.csv',\n",
       "  'folder': './attendance_example_fixed_width/dsci494s7/',\n",
       "  'class': 'dsci494',\n",
       "  'section': 's7',\n",
       "  'type': 'Practice',\n",
       "  'module': 'Module 1',\n",
       "  'lines': ['ID,UserName,FirstName,LastName,Attempt,Score,Out_Of,Attempt_Start_Date,Attempt_Start_Time,Attempt_End_Date,Attempt_End_Time,Percent\\n',\n",
       "   '14460432,au9747cp,Jericho,Greer,1,1,1,2019-01-14,14:00:00,2019-01-14,14:06:00,100%\\n'],\n",
       "  'header': 'ID,UserName,FirstName,LastName,Attempt,Score,Out_Of,Attempt_Start_Date,Attempt_Start_Time,Attempt_End_Date,Attempt_End_Time,Percent\\n',\n",
       "  'body': ['14460432,au9747cp,Jericho,Greer,1,1,1,2019-01-14,14:00:00,2019-01-14,14:06:00,100%\\n',\n",
       "   '14460432,au9747cp,Jericho,Greer,2,1,1,2019-01-16,14:00:00,2019-01-16,14:08:00,100%\\n']},\n",
       " {'file': 'Practice_quiz_Module 2.csv',\n",
       "  'folder': './attendance_example_fixed_width/dsci494s7/',\n",
       "  'class': 'dsci494',\n",
       "  'section': 's7',\n",
       "  'type': 'Practice',\n",
       "  'module': 'Module 2',\n",
       "  'lines': ['ID,UserName,FirstName,LastName,Attempt,Score,Out_Of,Attempt_Start_Date,Attempt_Start_Time,Attempt_End_Date,Attempt_End_Time,Percent\\n',\n",
       "   '14460432,au9747cp,Jericho,Greer,1,1,1,2019-01-14,14:00:00,2019-01-14,14:06:00,100%\\n'],\n",
       "  'header': 'ID,UserName,FirstName,LastName,Attempt,Score,Out_Of,Attempt_Start_Date,Attempt_Start_Time,Attempt_End_Date,Attempt_End_Time,Percent\\n',\n",
       "  'body': ['14460432,au9747cp,Jericho,Greer,1,1,1,2019-01-14,14:00:00,2019-01-14,14:06:00,100%\\n',\n",
       "   '14460432,au9747cp,Jericho,Greer,2,1,1,2019-01-16,14:00:00,2019-01-16,14:08:00,100%\\n']},\n",
       " {'file': 'Practice_quiz_Module 3.csv',\n",
       "  'folder': './attendance_example_fixed_width/dsci494s7/',\n",
       "  'class': 'dsci494',\n",
       "  'section': 's7',\n",
       "  'type': 'Practice',\n",
       "  'module': 'Module 3',\n",
       "  'lines': ['ID,UserName,FirstName,LastName,Attempt,Score,Out_Of,Attempt_Start_Date,Attempt_Start_Time,Attempt_End_Date,Attempt_End_Time,Percent\\n',\n",
       "   '14460432,au9747cp,Jericho,Greer,1,1,1,2019-01-14,14:00:00,2019-01-14,14:06:00,100%\\n'],\n",
       "  'header': 'ID,UserName,FirstName,LastName,Attempt,Score,Out_Of,Attempt_Start_Date,Attempt_Start_Time,Attempt_End_Date,Attempt_End_Time,Percent\\n',\n",
       "  'body': ['14460432,au9747cp,Jericho,Greer,1,1,1,2019-01-14,14:00:00,2019-01-14,14:06:00,100%\\n',\n",
       "   '14460432,au9747cp,Jericho,Greer,2,1,1,2019-01-16,14:00:00,2019-01-16,14:08:00,100%\\n']},\n",
       " {'file': 'Practice_quiz_Module 4.csv',\n",
       "  'folder': './attendance_example_fixed_width/dsci494s7/',\n",
       "  'class': 'dsci494',\n",
       "  'section': 's7',\n",
       "  'type': 'Practice',\n",
       "  'module': 'Module 4',\n",
       "  'lines': ['ID,UserName,FirstName,LastName,Attempt,Score,Out_Of,Attempt_Start_Date,Attempt_Start_Time,Attempt_End_Date,Attempt_End_Time,Percent\\n',\n",
       "   '14460432,au9747cp,Jericho,Greer,1,1,1,2019-01-14,14:00:00,2019-01-14,14:06:00,100%\\n'],\n",
       "  'header': 'ID,UserName,FirstName,LastName,Attempt,Score,Out_Of,Attempt_Start_Date,Attempt_Start_Time,Attempt_End_Date,Attempt_End_Time,Percent\\n',\n",
       "  'body': ['14460432,au9747cp,Jericho,Greer,1,1,1,2019-01-14,14:00:00,2019-01-14,14:06:00,100%\\n',\n",
       "   '14460432,au9747cp,Jericho,Greer,2,1,1,2019-01-16,14:00:00,2019-01-16,14:08:00,100%\\n']},\n",
       " {'file': 'Attendance_quiz.csv',\n",
       "  'folder': './attendance_example_fixed_width/stat180s18/',\n",
       "  'class': 'stat180',\n",
       "  'section': 's18',\n",
       "  'type': 'Attendance',\n",
       "  'module': '',\n",
       "  'lines': ['ID,UserName,FirstName,LastName,Attempt,Score,Out_Of,Attempt_Start_Date,Attempt_Start_Time,Attempt_End_Date,Attempt_End_Time,Percent\\n',\n",
       "   '14460432,au9747cp,Jericho,Greer,1,1,1,2019-01-14,14:00:00,2019-01-14,14:06:00,100%\\n'],\n",
       "  'header': 'ID,UserName,FirstName,LastName,Attempt,Score,Out_Of,Attempt_Start_Date,Attempt_Start_Time,Attempt_End_Date,Attempt_End_Time,Percent\\n',\n",
       "  'body': ['14460432,au9747cp,Jericho,Greer,1,1,1,2019-01-14,14:00:00,2019-01-14,14:06:00,100%\\n',\n",
       "   '14460432,au9747cp,Jericho,Greer,2,1,1,2019-01-16,14:00:00,2019-01-16,14:08:00,100%\\n']},\n",
       " {'file': 'Attendance_quiz.csv',\n",
       "  'folder': './attendance_example_fixed_width/stat491s1/',\n",
       "  'class': 'stat491',\n",
       "  'section': 's1',\n",
       "  'type': 'Attendance',\n",
       "  'module': '',\n",
       "  'lines': ['ID,UserName,FirstName,LastName,Attempt,Score,Out_Of,Attempt_Start_Date,Attempt_Start_Time,Attempt_End_Date,Attempt_End_Time,Percent\\n',\n",
       "   '14460432,au9747cp,Jericho,Greer,1,1,1,2019-01-14,14:00:00,2019-01-14,14:06:00,100%\\n'],\n",
       "  'header': 'ID,UserName,FirstName,LastName,Attempt,Score,Out_Of,Attempt_Start_Date,Attempt_Start_Time,Attempt_End_Date,Attempt_End_Time,Percent\\n',\n",
       "  'body': ['14460432,au9747cp,Jericho,Greer,1,1,1,2019-01-14,14:00:00,2019-01-14,14:06:00,100%\\n',\n",
       "   '14460432,au9747cp,Jericho,Greer,2,1,1,2019-01-16,14:00:00,2019-01-16,14:08:00,100%\\n']},\n",
       " {'file': 'Practice_quiz_Module 1.csv',\n",
       "  'folder': './attendance_example_fixed_width/stat491s1/',\n",
       "  'class': 'stat491',\n",
       "  'section': 's1',\n",
       "  'type': 'Practice',\n",
       "  'module': 'Module 1',\n",
       "  'lines': ['ID,UserName,FirstName,LastName,Attempt,Score,Out_Of,Attempt_Start_Date,Attempt_Start_Time,Attempt_End_Date,Attempt_End_Time,Percent\\n',\n",
       "   '14460432,au9747cp,Jericho,Greer,1,1,1,2019-01-14,14:00:00,2019-01-14,14:06:00,100%\\n'],\n",
       "  'header': 'ID,UserName,FirstName,LastName,Attempt,Score,Out_Of,Attempt_Start_Date,Attempt_Start_Time,Attempt_End_Date,Attempt_End_Time,Percent\\n',\n",
       "  'body': ['14460432,au9747cp,Jericho,Greer,1,1,1,2019-01-14,14:00:00,2019-01-14,14:06:00,100%\\n',\n",
       "   '14460432,au9747cp,Jericho,Greer,2,1,1,2019-01-16,14:00:00,2019-01-16,14:08:00,100%\\n']},\n",
       " {'file': 'Practice_quiz_Module 2.csv',\n",
       "  'folder': './attendance_example_fixed_width/stat491s1/',\n",
       "  'class': 'stat491',\n",
       "  'section': 's1',\n",
       "  'type': 'Practice',\n",
       "  'module': 'Module 2',\n",
       "  'lines': ['ID,UserName,FirstName,LastName,Attempt,Score,Out_Of,Attempt_Start_Date,Attempt_Start_Time,Attempt_End_Date,Attempt_End_Time,Percent\\n',\n",
       "   '14460432,au9747cp,Jericho,Greer,1,1,1,2019-01-14,14:00:00,2019-01-14,14:06:00,100%\\n'],\n",
       "  'header': 'ID,UserName,FirstName,LastName,Attempt,Score,Out_Of,Attempt_Start_Date,Attempt_Start_Time,Attempt_End_Date,Attempt_End_Time,Percent\\n',\n",
       "  'body': ['14460432,au9747cp,Jericho,Greer,1,1,1,2019-01-14,14:00:00,2019-01-14,14:06:00,100%\\n',\n",
       "   '14460432,au9747cp,Jericho,Greer,2,1,1,2019-01-16,14:00:00,2019-01-16,14:08:00,100%\\n']},\n",
       " {'file': 'Practice_quiz_Module 3.csv',\n",
       "  'folder': './attendance_example_fixed_width/stat491s1/',\n",
       "  'class': 'stat491',\n",
       "  'section': 's1',\n",
       "  'type': 'Practice',\n",
       "  'module': 'Module 3',\n",
       "  'lines': ['ID,UserName,FirstName,LastName,Attempt,Score,Out_Of,Attempt_Start_Date,Attempt_Start_Time,Attempt_End_Date,Attempt_End_Time,Percent\\n',\n",
       "   '14460432,au9747cp,Jericho,Greer,1,1,1,2019-01-14,14:00:00,2019-01-14,14:06:00,100%\\n'],\n",
       "  'header': 'ID,UserName,FirstName,LastName,Attempt,Score,Out_Of,Attempt_Start_Date,Attempt_Start_Time,Attempt_End_Date,Attempt_End_Time,Percent\\n',\n",
       "  'body': ['14460432,au9747cp,Jericho,Greer,1,1,1,2019-01-14,14:00:00,2019-01-14,14:06:00,100%\\n',\n",
       "   '14460432,au9747cp,Jericho,Greer,2,1,1,2019-01-16,14:00:00,2019-01-16,14:08:00,100%\\n']},\n",
       " {'file': 'Practice_quiz_Module 4.csv',\n",
       "  'folder': './attendance_example_fixed_width/stat491s1/',\n",
       "  'class': 'stat491',\n",
       "  'section': 's1',\n",
       "  'type': 'Practice',\n",
       "  'module': 'Module 4',\n",
       "  'lines': ['ID,UserName,FirstName,LastName,Attempt,Score,Out_Of,Attempt_Start_Date,Attempt_Start_Time,Attempt_End_Date,Attempt_End_Time,Percent\\n',\n",
       "   '14460432,au9747cp,Jericho,Greer,1,1,1,2019-01-14,14:00:00,2019-01-14,14:06:00,100%\\n'],\n",
       "  'header': 'ID,UserName,FirstName,LastName,Attempt,Score,Out_Of,Attempt_Start_Date,Attempt_Start_Time,Attempt_End_Date,Attempt_End_Time,Percent\\n',\n",
       "  'body': ['14460432,au9747cp,Jericho,Greer,1,1,1,2019-01-14,14:00:00,2019-01-14,14:06:00,100%\\n',\n",
       "   '14460432,au9747cp,Jericho,Greer,2,1,1,2019-01-16,14:00:00,2019-01-16,14:08:00,100%\\n']}]"
      ]
     },
     "execution_count": 127,
     "metadata": {},
     "output_type": "execute_result"
    }
   ],
   "source": [
    "(header_and_body := \n",
    " [record | {'header': record['lines'][0],  # This is `first` element\n",
    "            'body'  : record['lines'][1:], # This is the `rest`\n",
    "           }\n",
    "     for record in paths_and_lines\n",
    " ]\n",
    ") >> map(rec.heads(2))"
   ]
  },
  {
   "cell_type": "markdown",
   "id": "0e1ae060-ee2e-4bfc-a0d9-3b3eb90533ff",
   "metadata": {},
   "source": [
    "## Insert new columns (Class, Section, Type, Module)"
   ]
  },
  {
   "cell_type": "code",
   "execution_count": 128,
   "id": "3d86178c-b6dd-4343-ab19-7b8f34fba811",
   "metadata": {},
   "outputs": [
    {
     "data": {
      "text/plain": [
       "[{'file': 'Attendance_quiz.csv',\n",
       "  'folder': './attendance_example_fixed_width/dsci494s7/',\n",
       "  'class': 'dsci494',\n",
       "  'section': 's7',\n",
       "  'type': 'Attendance',\n",
       "  'module': '',\n",
       "  'lines': ['ID,UserName,FirstName,LastName,Attempt,Score,Out_Of,Attempt_Start_Date,Attempt_Start_Time,Attempt_End_Date,Attempt_End_Time,Percent\\n',\n",
       "   '14460432,au9747cp,Jericho,Greer,1,1,1,2019-01-14,14:00:00,2019-01-14,14:06:00,100%\\n'],\n",
       "  'header': 'Class,Section,Type,Module,ID,UserName,FirstName,LastName,Attempt,Score,Out_Of,Attempt_Start_Date,Attempt_Start_Time,Attempt_End_Date,Attempt_End_Time,Percent\\n',\n",
       "  'body': ['dsci494,s7,Attendance,,14460432,au9747cp,Jericho,Greer,1,1,1,2019-01-14,14:00:00,2019-01-14,14:06:00,100%\\n',\n",
       "   'dsci494,s7,Attendance,,14460432,au9747cp,Jericho,Greer,2,1,1,2019-01-16,14:00:00,2019-01-16,14:08:00,100%\\n']},\n",
       " {'file': 'Practice_quiz_Module 1.csv',\n",
       "  'folder': './attendance_example_fixed_width/dsci494s7/',\n",
       "  'class': 'dsci494',\n",
       "  'section': 's7',\n",
       "  'type': 'Practice',\n",
       "  'module': 'Module 1',\n",
       "  'lines': ['ID,UserName,FirstName,LastName,Attempt,Score,Out_Of,Attempt_Start_Date,Attempt_Start_Time,Attempt_End_Date,Attempt_End_Time,Percent\\n',\n",
       "   '14460432,au9747cp,Jericho,Greer,1,1,1,2019-01-14,14:00:00,2019-01-14,14:06:00,100%\\n'],\n",
       "  'header': 'Class,Section,Type,Module,ID,UserName,FirstName,LastName,Attempt,Score,Out_Of,Attempt_Start_Date,Attempt_Start_Time,Attempt_End_Date,Attempt_End_Time,Percent\\n',\n",
       "  'body': ['dsci494,s7,Practice,Module 1,14460432,au9747cp,Jericho,Greer,1,1,1,2019-01-14,14:00:00,2019-01-14,14:06:00,100%\\n',\n",
       "   'dsci494,s7,Practice,Module 1,14460432,au9747cp,Jericho,Greer,2,1,1,2019-01-16,14:00:00,2019-01-16,14:08:00,100%\\n']},\n",
       " {'file': 'Practice_quiz_Module 2.csv',\n",
       "  'folder': './attendance_example_fixed_width/dsci494s7/',\n",
       "  'class': 'dsci494',\n",
       "  'section': 's7',\n",
       "  'type': 'Practice',\n",
       "  'module': 'Module 2',\n",
       "  'lines': ['ID,UserName,FirstName,LastName,Attempt,Score,Out_Of,Attempt_Start_Date,Attempt_Start_Time,Attempt_End_Date,Attempt_End_Time,Percent\\n',\n",
       "   '14460432,au9747cp,Jericho,Greer,1,1,1,2019-01-14,14:00:00,2019-01-14,14:06:00,100%\\n'],\n",
       "  'header': 'Class,Section,Type,Module,ID,UserName,FirstName,LastName,Attempt,Score,Out_Of,Attempt_Start_Date,Attempt_Start_Time,Attempt_End_Date,Attempt_End_Time,Percent\\n',\n",
       "  'body': ['dsci494,s7,Practice,Module 2,14460432,au9747cp,Jericho,Greer,1,1,1,2019-01-14,14:00:00,2019-01-14,14:06:00,100%\\n',\n",
       "   'dsci494,s7,Practice,Module 2,14460432,au9747cp,Jericho,Greer,2,1,1,2019-01-16,14:00:00,2019-01-16,14:08:00,100%\\n']},\n",
       " {'file': 'Practice_quiz_Module 3.csv',\n",
       "  'folder': './attendance_example_fixed_width/dsci494s7/',\n",
       "  'class': 'dsci494',\n",
       "  'section': 's7',\n",
       "  'type': 'Practice',\n",
       "  'module': 'Module 3',\n",
       "  'lines': ['ID,UserName,FirstName,LastName,Attempt,Score,Out_Of,Attempt_Start_Date,Attempt_Start_Time,Attempt_End_Date,Attempt_End_Time,Percent\\n',\n",
       "   '14460432,au9747cp,Jericho,Greer,1,1,1,2019-01-14,14:00:00,2019-01-14,14:06:00,100%\\n'],\n",
       "  'header': 'Class,Section,Type,Module,ID,UserName,FirstName,LastName,Attempt,Score,Out_Of,Attempt_Start_Date,Attempt_Start_Time,Attempt_End_Date,Attempt_End_Time,Percent\\n',\n",
       "  'body': ['dsci494,s7,Practice,Module 3,14460432,au9747cp,Jericho,Greer,1,1,1,2019-01-14,14:00:00,2019-01-14,14:06:00,100%\\n',\n",
       "   'dsci494,s7,Practice,Module 3,14460432,au9747cp,Jericho,Greer,2,1,1,2019-01-16,14:00:00,2019-01-16,14:08:00,100%\\n']},\n",
       " {'file': 'Practice_quiz_Module 4.csv',\n",
       "  'folder': './attendance_example_fixed_width/dsci494s7/',\n",
       "  'class': 'dsci494',\n",
       "  'section': 's7',\n",
       "  'type': 'Practice',\n",
       "  'module': 'Module 4',\n",
       "  'lines': ['ID,UserName,FirstName,LastName,Attempt,Score,Out_Of,Attempt_Start_Date,Attempt_Start_Time,Attempt_End_Date,Attempt_End_Time,Percent\\n',\n",
       "   '14460432,au9747cp,Jericho,Greer,1,1,1,2019-01-14,14:00:00,2019-01-14,14:06:00,100%\\n'],\n",
       "  'header': 'Class,Section,Type,Module,ID,UserName,FirstName,LastName,Attempt,Score,Out_Of,Attempt_Start_Date,Attempt_Start_Time,Attempt_End_Date,Attempt_End_Time,Percent\\n',\n",
       "  'body': ['dsci494,s7,Practice,Module 4,14460432,au9747cp,Jericho,Greer,1,1,1,2019-01-14,14:00:00,2019-01-14,14:06:00,100%\\n',\n",
       "   'dsci494,s7,Practice,Module 4,14460432,au9747cp,Jericho,Greer,2,1,1,2019-01-16,14:00:00,2019-01-16,14:08:00,100%\\n']},\n",
       " {'file': 'Attendance_quiz.csv',\n",
       "  'folder': './attendance_example_fixed_width/stat180s18/',\n",
       "  'class': 'stat180',\n",
       "  'section': 's18',\n",
       "  'type': 'Attendance',\n",
       "  'module': '',\n",
       "  'lines': ['ID,UserName,FirstName,LastName,Attempt,Score,Out_Of,Attempt_Start_Date,Attempt_Start_Time,Attempt_End_Date,Attempt_End_Time,Percent\\n',\n",
       "   '14460432,au9747cp,Jericho,Greer,1,1,1,2019-01-14,14:00:00,2019-01-14,14:06:00,100%\\n'],\n",
       "  'header': 'Class,Section,Type,Module,ID,UserName,FirstName,LastName,Attempt,Score,Out_Of,Attempt_Start_Date,Attempt_Start_Time,Attempt_End_Date,Attempt_End_Time,Percent\\n',\n",
       "  'body': ['stat180,s18,Attendance,,14460432,au9747cp,Jericho,Greer,1,1,1,2019-01-14,14:00:00,2019-01-14,14:06:00,100%\\n',\n",
       "   'stat180,s18,Attendance,,14460432,au9747cp,Jericho,Greer,2,1,1,2019-01-16,14:00:00,2019-01-16,14:08:00,100%\\n']},\n",
       " {'file': 'Attendance_quiz.csv',\n",
       "  'folder': './attendance_example_fixed_width/stat491s1/',\n",
       "  'class': 'stat491',\n",
       "  'section': 's1',\n",
       "  'type': 'Attendance',\n",
       "  'module': '',\n",
       "  'lines': ['ID,UserName,FirstName,LastName,Attempt,Score,Out_Of,Attempt_Start_Date,Attempt_Start_Time,Attempt_End_Date,Attempt_End_Time,Percent\\n',\n",
       "   '14460432,au9747cp,Jericho,Greer,1,1,1,2019-01-14,14:00:00,2019-01-14,14:06:00,100%\\n'],\n",
       "  'header': 'Class,Section,Type,Module,ID,UserName,FirstName,LastName,Attempt,Score,Out_Of,Attempt_Start_Date,Attempt_Start_Time,Attempt_End_Date,Attempt_End_Time,Percent\\n',\n",
       "  'body': ['stat491,s1,Attendance,,14460432,au9747cp,Jericho,Greer,1,1,1,2019-01-14,14:00:00,2019-01-14,14:06:00,100%\\n',\n",
       "   'stat491,s1,Attendance,,14460432,au9747cp,Jericho,Greer,2,1,1,2019-01-16,14:00:00,2019-01-16,14:08:00,100%\\n']},\n",
       " {'file': 'Practice_quiz_Module 1.csv',\n",
       "  'folder': './attendance_example_fixed_width/stat491s1/',\n",
       "  'class': 'stat491',\n",
       "  'section': 's1',\n",
       "  'type': 'Practice',\n",
       "  'module': 'Module 1',\n",
       "  'lines': ['ID,UserName,FirstName,LastName,Attempt,Score,Out_Of,Attempt_Start_Date,Attempt_Start_Time,Attempt_End_Date,Attempt_End_Time,Percent\\n',\n",
       "   '14460432,au9747cp,Jericho,Greer,1,1,1,2019-01-14,14:00:00,2019-01-14,14:06:00,100%\\n'],\n",
       "  'header': 'Class,Section,Type,Module,ID,UserName,FirstName,LastName,Attempt,Score,Out_Of,Attempt_Start_Date,Attempt_Start_Time,Attempt_End_Date,Attempt_End_Time,Percent\\n',\n",
       "  'body': ['stat491,s1,Practice,Module 1,14460432,au9747cp,Jericho,Greer,1,1,1,2019-01-14,14:00:00,2019-01-14,14:06:00,100%\\n',\n",
       "   'stat491,s1,Practice,Module 1,14460432,au9747cp,Jericho,Greer,2,1,1,2019-01-16,14:00:00,2019-01-16,14:08:00,100%\\n']},\n",
       " {'file': 'Practice_quiz_Module 2.csv',\n",
       "  'folder': './attendance_example_fixed_width/stat491s1/',\n",
       "  'class': 'stat491',\n",
       "  'section': 's1',\n",
       "  'type': 'Practice',\n",
       "  'module': 'Module 2',\n",
       "  'lines': ['ID,UserName,FirstName,LastName,Attempt,Score,Out_Of,Attempt_Start_Date,Attempt_Start_Time,Attempt_End_Date,Attempt_End_Time,Percent\\n',\n",
       "   '14460432,au9747cp,Jericho,Greer,1,1,1,2019-01-14,14:00:00,2019-01-14,14:06:00,100%\\n'],\n",
       "  'header': 'Class,Section,Type,Module,ID,UserName,FirstName,LastName,Attempt,Score,Out_Of,Attempt_Start_Date,Attempt_Start_Time,Attempt_End_Date,Attempt_End_Time,Percent\\n',\n",
       "  'body': ['stat491,s1,Practice,Module 2,14460432,au9747cp,Jericho,Greer,1,1,1,2019-01-14,14:00:00,2019-01-14,14:06:00,100%\\n',\n",
       "   'stat491,s1,Practice,Module 2,14460432,au9747cp,Jericho,Greer,2,1,1,2019-01-16,14:00:00,2019-01-16,14:08:00,100%\\n']},\n",
       " {'file': 'Practice_quiz_Module 3.csv',\n",
       "  'folder': './attendance_example_fixed_width/stat491s1/',\n",
       "  'class': 'stat491',\n",
       "  'section': 's1',\n",
       "  'type': 'Practice',\n",
       "  'module': 'Module 3',\n",
       "  'lines': ['ID,UserName,FirstName,LastName,Attempt,Score,Out_Of,Attempt_Start_Date,Attempt_Start_Time,Attempt_End_Date,Attempt_End_Time,Percent\\n',\n",
       "   '14460432,au9747cp,Jericho,Greer,1,1,1,2019-01-14,14:00:00,2019-01-14,14:06:00,100%\\n'],\n",
       "  'header': 'Class,Section,Type,Module,ID,UserName,FirstName,LastName,Attempt,Score,Out_Of,Attempt_Start_Date,Attempt_Start_Time,Attempt_End_Date,Attempt_End_Time,Percent\\n',\n",
       "  'body': ['stat491,s1,Practice,Module 3,14460432,au9747cp,Jericho,Greer,1,1,1,2019-01-14,14:00:00,2019-01-14,14:06:00,100%\\n',\n",
       "   'stat491,s1,Practice,Module 3,14460432,au9747cp,Jericho,Greer,2,1,1,2019-01-16,14:00:00,2019-01-16,14:08:00,100%\\n']},\n",
       " {'file': 'Practice_quiz_Module 4.csv',\n",
       "  'folder': './attendance_example_fixed_width/stat491s1/',\n",
       "  'class': 'stat491',\n",
       "  'section': 's1',\n",
       "  'type': 'Practice',\n",
       "  'module': 'Module 4',\n",
       "  'lines': ['ID,UserName,FirstName,LastName,Attempt,Score,Out_Of,Attempt_Start_Date,Attempt_Start_Time,Attempt_End_Date,Attempt_End_Time,Percent\\n',\n",
       "   '14460432,au9747cp,Jericho,Greer,1,1,1,2019-01-14,14:00:00,2019-01-14,14:06:00,100%\\n'],\n",
       "  'header': 'Class,Section,Type,Module,ID,UserName,FirstName,LastName,Attempt,Score,Out_Of,Attempt_Start_Date,Attempt_Start_Time,Attempt_End_Date,Attempt_End_Time,Percent\\n',\n",
       "  'body': ['stat491,s1,Practice,Module 4,14460432,au9747cp,Jericho,Greer,1,1,1,2019-01-14,14:00:00,2019-01-14,14:06:00,100%\\n',\n",
       "   'stat491,s1,Practice,Module 4,14460432,au9747cp,Jericho,Greer,2,1,1,2019-01-16,14:00:00,2019-01-16,14:08:00,100%\\n']}]"
      ]
     },
     "execution_count": 128,
     "metadata": {},
     "output_type": "execute_result"
    }
   ],
   "source": [
    "(with_class_section_type_module_columns :=\n",
    " [record | {'header': 'Class,Section,Type,Module,' + record['header'],\n",
    "            'body'  : [f\"{record['class']},{record['section']},{record['type']},{record['module']},\" \n",
    "                       + line for line in record['body']]\n",
    "           }\n",
    "     for record in header_and_body\n",
    " ]\n",
    ") >> map(rec.heads(2))"
   ]
  },
  {
   "cell_type": "markdown",
   "id": "a1c05a3a-eef9-43f2-8da8-6fadcc7300b2",
   "metadata": {},
   "source": [
    "## Group the records by type (Attendance or Practice)"
   ]
  },
  {
   "cell_type": "code",
   "execution_count": 129,
   "id": "ba6ec9c4-959c-44f7-88c0-264e4f192511",
   "metadata": {},
   "outputs": [
    {
     "data": {
      "text/plain": [
       "('Attendance', 'Practice')"
      ]
     },
     "execution_count": 129,
     "metadata": {},
     "output_type": "execute_result"
    }
   ],
   "source": [
    "(all_file_types :=\n",
    " with_class_section_type_module_columns\n",
    " >> map(rec.get('type'))\n",
    " >> pipeable(set)\n",
    " >> pipeable(tuple)\n",
    ")"
   ]
  },
  {
   "cell_type": "code",
   "execution_count": 130,
   "id": "4dce03b9-c89e-4a2d-a3c7-c7d5d2ae96e1",
   "metadata": {},
   "outputs": [
    {
     "data": {
      "text/plain": [
       "{'Attendance': Ellipsis, 'Practice': Ellipsis}"
      ]
     },
     "execution_count": 130,
     "metadata": {},
     "output_type": "execute_result"
    }
   ],
   "source": [
    "(files_by_type :=\n",
    " { type_: ...\n",
    "     for type_ in all_file_types\n",
    " }\n",
    ") "
   ]
  },
  {
   "cell_type": "code",
   "execution_count": 131,
   "id": "288e62f8-c891-43a6-b7b6-3836f0e3e6cc",
   "metadata": {},
   "outputs": [
    {
     "data": {
      "text/plain": [
       "{'Attendance': [{'file': 'Attendance_quiz.csv',\n",
       "   'folder': './attendance_example_fixed_width/dsci494s7/',\n",
       "   'class': 'dsci494',\n",
       "   'section': 's7',\n",
       "   'type': 'Attendance',\n",
       "   'module': '',\n",
       "   'lines': ['ID,UserName,FirstName,LastName,Attempt,Score,Out_Of,Attempt_Start_Date,Attempt_Start_Time,Attempt_End_Date,Attempt_End_Time,Percent\\n',\n",
       "    '14460432,au9747cp,Jericho,Greer,1,1,1,2019-01-14,14:00:00,2019-01-14,14:06:00,100%\\n',\n",
       "    '14460432,au9747cp,Jericho,Greer,2,1,1,2019-01-16,14:00:00,2019-01-16,14:08:00,100%\\n'],\n",
       "   'header': 'Class,Section,Type,Module,ID,UserName,FirstName,LastName,Attempt,Score,Out_Of,Attempt_Start_Date,Attempt_Start_Time,Attempt_End_Date,Attempt_End_Time,Percent\\n',\n",
       "   'body': ['dsci494,s7,Attendance,,14460432,au9747cp,Jericho,Greer,1,1,1,2019-01-14,14:00:00,2019-01-14,14:06:00,100%\\n',\n",
       "    'dsci494,s7,Attendance,,14460432,au9747cp,Jericho,Greer,2,1,1,2019-01-16,14:00:00,2019-01-16,14:08:00,100%\\n',\n",
       "    'dsci494,s7,Attendance,,14460432,au9747cp,Jericho,Greer,3,1,1,2019-01-18,14:00:00,2019-01-18,14:05:00,100%\\n']},\n",
       "  {'file': 'Attendance_quiz.csv',\n",
       "   'folder': './attendance_example_fixed_width/stat180s18/',\n",
       "   'class': 'stat180',\n",
       "   'section': 's18',\n",
       "   'type': 'Attendance',\n",
       "   'module': '',\n",
       "   'lines': ['ID,UserName,FirstName,LastName,Attempt,Score,Out_Of,Attempt_Start_Date,Attempt_Start_Time,Attempt_End_Date,Attempt_End_Time,Percent\\n',\n",
       "    '14460432,au9747cp,Jericho,Greer,1,1,1,2019-01-14,14:00:00,2019-01-14,14:06:00,100%\\n',\n",
       "    '14460432,au9747cp,Jericho,Greer,2,1,1,2019-01-16,14:00:00,2019-01-16,14:08:00,100%\\n'],\n",
       "   'header': 'Class,Section,Type,Module,ID,UserName,FirstName,LastName,Attempt,Score,Out_Of,Attempt_Start_Date,Attempt_Start_Time,Attempt_End_Date,Attempt_End_Time,Percent\\n',\n",
       "   'body': ['stat180,s18,Attendance,,14460432,au9747cp,Jericho,Greer,1,1,1,2019-01-14,14:00:00,2019-01-14,14:06:00,100%\\n',\n",
       "    'stat180,s18,Attendance,,14460432,au9747cp,Jericho,Greer,2,1,1,2019-01-16,14:00:00,2019-01-16,14:08:00,100%\\n',\n",
       "    'stat180,s18,Attendance,,14460432,au9747cp,Jericho,Greer,3,1,1,2019-01-18,14:00:00,2019-01-18,14:05:00,100%\\n']},\n",
       "  {'file': 'Attendance_quiz.csv',\n",
       "   'folder': './attendance_example_fixed_width/stat491s1/',\n",
       "   'class': 'stat491',\n",
       "   'section': 's1',\n",
       "   'type': 'Attendance',\n",
       "   'module': '',\n",
       "   'lines': ['ID,UserName,FirstName,LastName,Attempt,Score,Out_Of,Attempt_Start_Date,Attempt_Start_Time,Attempt_End_Date,Attempt_End_Time,Percent\\n',\n",
       "    '14460432,au9747cp,Jericho,Greer,1,1,1,2019-01-14,14:00:00,2019-01-14,14:06:00,100%\\n',\n",
       "    '14460432,au9747cp,Jericho,Greer,2,1,1,2019-01-16,14:00:00,2019-01-16,14:08:00,100%\\n'],\n",
       "   'header': 'Class,Section,Type,Module,ID,UserName,FirstName,LastName,Attempt,Score,Out_Of,Attempt_Start_Date,Attempt_Start_Time,Attempt_End_Date,Attempt_End_Time,Percent\\n',\n",
       "   'body': ['stat491,s1,Attendance,,14460432,au9747cp,Jericho,Greer,1,1,1,2019-01-14,14:00:00,2019-01-14,14:06:00,100%\\n',\n",
       "    'stat491,s1,Attendance,,14460432,au9747cp,Jericho,Greer,2,1,1,2019-01-16,14:00:00,2019-01-16,14:08:00,100%\\n',\n",
       "    'stat491,s1,Attendance,,14460432,au9747cp,Jericho,Greer,3,1,1,2019-01-18,14:00:00,2019-01-18,14:05:00,100%\\n']}],\n",
       " 'Practice': [{'file': 'Practice_quiz_Module 1.csv',\n",
       "   'folder': './attendance_example_fixed_width/dsci494s7/',\n",
       "   'class': 'dsci494',\n",
       "   'section': 's7',\n",
       "   'type': 'Practice',\n",
       "   'module': 'Module 1',\n",
       "   'lines': ['ID,UserName,FirstName,LastName,Attempt,Score,Out_Of,Attempt_Start_Date,Attempt_Start_Time,Attempt_End_Date,Attempt_End_Time,Percent\\n',\n",
       "    '14460432,au9747cp,Jericho,Greer,1,1,1,2019-01-14,14:00:00,2019-01-14,14:06:00,100%\\n',\n",
       "    '14460432,au9747cp,Jericho,Greer,2,1,1,2019-01-16,14:00:00,2019-01-16,14:08:00,100%\\n'],\n",
       "   'header': 'Class,Section,Type,Module,ID,UserName,FirstName,LastName,Attempt,Score,Out_Of,Attempt_Start_Date,Attempt_Start_Time,Attempt_End_Date,Attempt_End_Time,Percent\\n',\n",
       "   'body': ['dsci494,s7,Practice,Module 1,14460432,au9747cp,Jericho,Greer,1,1,1,2019-01-14,14:00:00,2019-01-14,14:06:00,100%\\n',\n",
       "    'dsci494,s7,Practice,Module 1,14460432,au9747cp,Jericho,Greer,2,1,1,2019-01-16,14:00:00,2019-01-16,14:08:00,100%\\n',\n",
       "    'dsci494,s7,Practice,Module 1,14460432,au9747cp,Jericho,Greer,3,1,1,2019-01-18,14:00:00,2019-01-18,14:05:00,100%\\n']},\n",
       "  {'file': 'Practice_quiz_Module 2.csv',\n",
       "   'folder': './attendance_example_fixed_width/dsci494s7/',\n",
       "   'class': 'dsci494',\n",
       "   'section': 's7',\n",
       "   'type': 'Practice',\n",
       "   'module': 'Module 2',\n",
       "   'lines': ['ID,UserName,FirstName,LastName,Attempt,Score,Out_Of,Attempt_Start_Date,Attempt_Start_Time,Attempt_End_Date,Attempt_End_Time,Percent\\n',\n",
       "    '14460432,au9747cp,Jericho,Greer,1,1,1,2019-01-14,14:00:00,2019-01-14,14:06:00,100%\\n',\n",
       "    '14460432,au9747cp,Jericho,Greer,2,1,1,2019-01-16,14:00:00,2019-01-16,14:08:00,100%\\n'],\n",
       "   'header': 'Class,Section,Type,Module,ID,UserName,FirstName,LastName,Attempt,Score,Out_Of,Attempt_Start_Date,Attempt_Start_Time,Attempt_End_Date,Attempt_End_Time,Percent\\n',\n",
       "   'body': ['dsci494,s7,Practice,Module 2,14460432,au9747cp,Jericho,Greer,1,1,1,2019-01-14,14:00:00,2019-01-14,14:06:00,100%\\n',\n",
       "    'dsci494,s7,Practice,Module 2,14460432,au9747cp,Jericho,Greer,2,1,1,2019-01-16,14:00:00,2019-01-16,14:08:00,100%\\n',\n",
       "    'dsci494,s7,Practice,Module 2,14460432,au9747cp,Jericho,Greer,3,1,1,2019-01-18,14:00:00,2019-01-18,14:05:00,100%\\n']},\n",
       "  {'file': 'Practice_quiz_Module 3.csv',\n",
       "   'folder': './attendance_example_fixed_width/dsci494s7/',\n",
       "   'class': 'dsci494',\n",
       "   'section': 's7',\n",
       "   'type': 'Practice',\n",
       "   'module': 'Module 3',\n",
       "   'lines': ['ID,UserName,FirstName,LastName,Attempt,Score,Out_Of,Attempt_Start_Date,Attempt_Start_Time,Attempt_End_Date,Attempt_End_Time,Percent\\n',\n",
       "    '14460432,au9747cp,Jericho,Greer,1,1,1,2019-01-14,14:00:00,2019-01-14,14:06:00,100%\\n',\n",
       "    '14460432,au9747cp,Jericho,Greer,2,1,1,2019-01-16,14:00:00,2019-01-16,14:08:00,100%\\n'],\n",
       "   'header': 'Class,Section,Type,Module,ID,UserName,FirstName,LastName,Attempt,Score,Out_Of,Attempt_Start_Date,Attempt_Start_Time,Attempt_End_Date,Attempt_End_Time,Percent\\n',\n",
       "   'body': ['dsci494,s7,Practice,Module 3,14460432,au9747cp,Jericho,Greer,1,1,1,2019-01-14,14:00:00,2019-01-14,14:06:00,100%\\n',\n",
       "    'dsci494,s7,Practice,Module 3,14460432,au9747cp,Jericho,Greer,2,1,1,2019-01-16,14:00:00,2019-01-16,14:08:00,100%\\n',\n",
       "    'dsci494,s7,Practice,Module 3,14460432,au9747cp,Jericho,Greer,3,1,1,2019-01-18,14:00:00,2019-01-18,14:05:00,100%\\n']},\n",
       "  {'file': 'Practice_quiz_Module 4.csv',\n",
       "   'folder': './attendance_example_fixed_width/dsci494s7/',\n",
       "   'class': 'dsci494',\n",
       "   'section': 's7',\n",
       "   'type': 'Practice',\n",
       "   'module': 'Module 4',\n",
       "   'lines': ['ID,UserName,FirstName,LastName,Attempt,Score,Out_Of,Attempt_Start_Date,Attempt_Start_Time,Attempt_End_Date,Attempt_End_Time,Percent\\n',\n",
       "    '14460432,au9747cp,Jericho,Greer,1,1,1,2019-01-14,14:00:00,2019-01-14,14:06:00,100%\\n',\n",
       "    '14460432,au9747cp,Jericho,Greer,2,1,1,2019-01-16,14:00:00,2019-01-16,14:08:00,100%\\n'],\n",
       "   'header': 'Class,Section,Type,Module,ID,UserName,FirstName,LastName,Attempt,Score,Out_Of,Attempt_Start_Date,Attempt_Start_Time,Attempt_End_Date,Attempt_End_Time,Percent\\n',\n",
       "   'body': ['dsci494,s7,Practice,Module 4,14460432,au9747cp,Jericho,Greer,1,1,1,2019-01-14,14:00:00,2019-01-14,14:06:00,100%\\n',\n",
       "    'dsci494,s7,Practice,Module 4,14460432,au9747cp,Jericho,Greer,2,1,1,2019-01-16,14:00:00,2019-01-16,14:08:00,100%\\n',\n",
       "    'dsci494,s7,Practice,Module 4,14460432,au9747cp,Jericho,Greer,3,1,1,2019-01-18,14:00:00,2019-01-18,14:05:00,100%\\n']},\n",
       "  {'file': 'Practice_quiz_Module 1.csv',\n",
       "   'folder': './attendance_example_fixed_width/stat491s1/',\n",
       "   'class': 'stat491',\n",
       "   'section': 's1',\n",
       "   'type': 'Practice',\n",
       "   'module': 'Module 1',\n",
       "   'lines': ['ID,UserName,FirstName,LastName,Attempt,Score,Out_Of,Attempt_Start_Date,Attempt_Start_Time,Attempt_End_Date,Attempt_End_Time,Percent\\n',\n",
       "    '14460432,au9747cp,Jericho,Greer,1,1,1,2019-01-14,14:00:00,2019-01-14,14:06:00,100%\\n',\n",
       "    '14460432,au9747cp,Jericho,Greer,2,1,1,2019-01-16,14:00:00,2019-01-16,14:08:00,100%\\n'],\n",
       "   'header': 'Class,Section,Type,Module,ID,UserName,FirstName,LastName,Attempt,Score,Out_Of,Attempt_Start_Date,Attempt_Start_Time,Attempt_End_Date,Attempt_End_Time,Percent\\n',\n",
       "   'body': ['stat491,s1,Practice,Module 1,14460432,au9747cp,Jericho,Greer,1,1,1,2019-01-14,14:00:00,2019-01-14,14:06:00,100%\\n',\n",
       "    'stat491,s1,Practice,Module 1,14460432,au9747cp,Jericho,Greer,2,1,1,2019-01-16,14:00:00,2019-01-16,14:08:00,100%\\n',\n",
       "    'stat491,s1,Practice,Module 1,14460432,au9747cp,Jericho,Greer,3,1,1,2019-01-18,14:00:00,2019-01-18,14:05:00,100%\\n']},\n",
       "  {'file': 'Practice_quiz_Module 2.csv',\n",
       "   'folder': './attendance_example_fixed_width/stat491s1/',\n",
       "   'class': 'stat491',\n",
       "   'section': 's1',\n",
       "   'type': 'Practice',\n",
       "   'module': 'Module 2',\n",
       "   'lines': ['ID,UserName,FirstName,LastName,Attempt,Score,Out_Of,Attempt_Start_Date,Attempt_Start_Time,Attempt_End_Date,Attempt_End_Time,Percent\\n',\n",
       "    '14460432,au9747cp,Jericho,Greer,1,1,1,2019-01-14,14:00:00,2019-01-14,14:06:00,100%\\n',\n",
       "    '14460432,au9747cp,Jericho,Greer,2,1,1,2019-01-16,14:00:00,2019-01-16,14:08:00,100%\\n'],\n",
       "   'header': 'Class,Section,Type,Module,ID,UserName,FirstName,LastName,Attempt,Score,Out_Of,Attempt_Start_Date,Attempt_Start_Time,Attempt_End_Date,Attempt_End_Time,Percent\\n',\n",
       "   'body': ['stat491,s1,Practice,Module 2,14460432,au9747cp,Jericho,Greer,1,1,1,2019-01-14,14:00:00,2019-01-14,14:06:00,100%\\n',\n",
       "    'stat491,s1,Practice,Module 2,14460432,au9747cp,Jericho,Greer,2,1,1,2019-01-16,14:00:00,2019-01-16,14:08:00,100%\\n',\n",
       "    'stat491,s1,Practice,Module 2,14460432,au9747cp,Jericho,Greer,3,1,1,2019-01-18,14:00:00,2019-01-18,14:05:00,100%\\n']},\n",
       "  {'file': 'Practice_quiz_Module 3.csv',\n",
       "   'folder': './attendance_example_fixed_width/stat491s1/',\n",
       "   'class': 'stat491',\n",
       "   'section': 's1',\n",
       "   'type': 'Practice',\n",
       "   'module': 'Module 3',\n",
       "   'lines': ['ID,UserName,FirstName,LastName,Attempt,Score,Out_Of,Attempt_Start_Date,Attempt_Start_Time,Attempt_End_Date,Attempt_End_Time,Percent\\n',\n",
       "    '14460432,au9747cp,Jericho,Greer,1,1,1,2019-01-14,14:00:00,2019-01-14,14:06:00,100%\\n',\n",
       "    '14460432,au9747cp,Jericho,Greer,2,1,1,2019-01-16,14:00:00,2019-01-16,14:08:00,100%\\n'],\n",
       "   'header': 'Class,Section,Type,Module,ID,UserName,FirstName,LastName,Attempt,Score,Out_Of,Attempt_Start_Date,Attempt_Start_Time,Attempt_End_Date,Attempt_End_Time,Percent\\n',\n",
       "   'body': ['stat491,s1,Practice,Module 3,14460432,au9747cp,Jericho,Greer,1,1,1,2019-01-14,14:00:00,2019-01-14,14:06:00,100%\\n',\n",
       "    'stat491,s1,Practice,Module 3,14460432,au9747cp,Jericho,Greer,2,1,1,2019-01-16,14:00:00,2019-01-16,14:08:00,100%\\n',\n",
       "    'stat491,s1,Practice,Module 3,14460432,au9747cp,Jericho,Greer,3,1,1,2019-01-18,14:00:00,2019-01-18,14:05:00,100%\\n']},\n",
       "  {'file': 'Practice_quiz_Module 4.csv',\n",
       "   'folder': './attendance_example_fixed_width/stat491s1/',\n",
       "   'class': 'stat491',\n",
       "   'section': 's1',\n",
       "   'type': 'Practice',\n",
       "   'module': 'Module 4',\n",
       "   'lines': ['ID,UserName,FirstName,LastName,Attempt,Score,Out_Of,Attempt_Start_Date,Attempt_Start_Time,Attempt_End_Date,Attempt_End_Time,Percent\\n',\n",
       "    '14460432,au9747cp,Jericho,Greer,1,1,1,2019-01-14,14:00:00,2019-01-14,14:06:00,100%\\n',\n",
       "    '14460432,au9747cp,Jericho,Greer,2,1,1,2019-01-16,14:00:00,2019-01-16,14:08:00,100%\\n'],\n",
       "   'header': 'Class,Section,Type,Module,ID,UserName,FirstName,LastName,Attempt,Score,Out_Of,Attempt_Start_Date,Attempt_Start_Time,Attempt_End_Date,Attempt_End_Time,Percent\\n',\n",
       "   'body': ['stat491,s1,Practice,Module 4,14460432,au9747cp,Jericho,Greer,1,1,1,2019-01-14,14:00:00,2019-01-14,14:06:00,100%\\n',\n",
       "    'stat491,s1,Practice,Module 4,14460432,au9747cp,Jericho,Greer,2,1,1,2019-01-16,14:00:00,2019-01-16,14:08:00,100%\\n',\n",
       "    'stat491,s1,Practice,Module 4,14460432,au9747cp,Jericho,Greer,3,1,1,2019-01-18,14:00:00,2019-01-18,14:05:00,100%\\n']}]}"
      ]
     },
     "execution_count": 131,
     "metadata": {},
     "output_type": "execute_result"
    }
   ],
   "source": [
    "(files_by_type :=\n",
    " { type_: [r for r in with_class_section_type_module_columns if r['type'] == type_]\n",
    "     for type_ in all_file_types\n",
    " }\n",
    ") >> rec.subset(all_file_types[:3]) >> rec.map(map(rec.heads(3)))"
   ]
  },
  {
   "attachments": {
    "a15b564e-9325-4179-8c84-8d90d5220919.png": {
     "image/png": "[encoded data removed]"
    }
   },
   "cell_type": "markdown",
   "id": "0917d5f8-f920-43be-a769-64ba6d8e7e07",
   "metadata": {},
   "source": [
    "## Zip up the records by file type\n",
    "\n",
    "![image.png](attachment:a15b564e-9325-4179-8c84-8d90d5220919.png)"
   ]
  },
  {
   "cell_type": "code",
   "execution_count": 146,
   "id": "a467b5f3-64fe-4bbc-a345-604ef8f82fa2",
   "metadata": {},
   "outputs": [
    {
     "data": {
      "text/plain": [
       "{'Attendance': {'folder': ['./attendance_example_fixed_width/dsci494s7/',\n",
       "   './attendance_example_fixed_width/stat180s18/',\n",
       "   './attendance_example_fixed_width/stat491s1/'],\n",
       "  'type': ['Attendance', 'Attendance', 'Attendance'],\n",
       "  'header': ['Class,Section,Type,Module,ID,UserName,FirstName,LastName,Attempt,Score,Out_Of,Attempt_Start_Date,Attempt_Start_Time,Attempt_End_Date,Attempt_End_Time,Percent\\n',\n",
       "   'Class,Section,Type,Module,ID,UserName,FirstName,LastName,Attempt,Score,Out_Of,Attempt_Start_Date,Attempt_Start_Time,Attempt_End_Date,Attempt_End_Time,Percent\\n',\n",
       "   'Class,Section,Type,Module,ID,UserName,FirstName,LastName,Attempt,Score,Out_Of,Attempt_Start_Date,Attempt_Start_Time,Attempt_End_Date,Attempt_End_Time,Percent\\n'],\n",
       "  'body': [['dsci494,s7,Attendance,,14460432,au9747cp,Jericho,Greer,1,1,1,2019-01-14,14:00:00,2019-01-14,14:06:00,100%\\n',\n",
       "    'dsci494,s7,Attendance,,14460432,au9747cp,Jericho,Greer,2,1,1,2019-01-16,14:00:00,2019-01-16,14:08:00,100%\\n',\n",
       "    'dsci494,s7,Attendance,,14460432,au9747cp,Jericho,Greer,3,1,1,2019-01-18,14:00:00,2019-01-18,14:05:00,100%\\n'],\n",
       "   ['stat180,s18,Attendance,,14460432,au9747cp,Jericho,Greer,1,1,1,2019-01-14,14:00:00,2019-01-14,14:06:00,100%\\n',\n",
       "    'stat180,s18,Attendance,,14460432,au9747cp,Jericho,Greer,2,1,1,2019-01-16,14:00:00,2019-01-16,14:08:00,100%\\n',\n",
       "    'stat180,s18,Attendance,,14460432,au9747cp,Jericho,Greer,3,1,1,2019-01-18,14:00:00,2019-01-18,14:05:00,100%\\n'],\n",
       "   ['stat491,s1,Attendance,,14460432,au9747cp,Jericho,Greer,1,1,1,2019-01-14,14:00:00,2019-01-14,14:06:00,100%\\n',\n",
       "    'stat491,s1,Attendance,,14460432,au9747cp,Jericho,Greer,2,1,1,2019-01-16,14:00:00,2019-01-16,14:08:00,100%\\n',\n",
       "    'stat491,s1,Attendance,,14460432,au9747cp,Jericho,Greer,3,1,1,2019-01-18,14:00:00,2019-01-18,14:05:00,100%\\n']]},\n",
       " 'Practice': {'folder': ['./attendance_example_fixed_width/dsci494s7/',\n",
       "   './attendance_example_fixed_width/dsci494s7/',\n",
       "   './attendance_example_fixed_width/dsci494s7/',\n",
       "   './attendance_example_fixed_width/dsci494s7/',\n",
       "   './attendance_example_fixed_width/stat491s1/',\n",
       "   './attendance_example_fixed_width/stat491s1/',\n",
       "   './attendance_example_fixed_width/stat491s1/',\n",
       "   './attendance_example_fixed_width/stat491s1/'],\n",
       "  'type': ['Practice',\n",
       "   'Practice',\n",
       "   'Practice',\n",
       "   'Practice',\n",
       "   'Practice',\n",
       "   'Practice',\n",
       "   'Practice',\n",
       "   'Practice'],\n",
       "  'header': ['Class,Section,Type,Module,ID,UserName,FirstName,LastName,Attempt,Score,Out_Of,Attempt_Start_Date,Attempt_Start_Time,Attempt_End_Date,Attempt_End_Time,Percent\\n',\n",
       "   'Class,Section,Type,Module,ID,UserName,FirstName,LastName,Attempt,Score,Out_Of,Attempt_Start_Date,Attempt_Start_Time,Attempt_End_Date,Attempt_End_Time,Percent\\n',\n",
       "   'Class,Section,Type,Module,ID,UserName,FirstName,LastName,Attempt,Score,Out_Of,Attempt_Start_Date,Attempt_Start_Time,Attempt_End_Date,Attempt_End_Time,Percent\\n',\n",
       "   'Class,Section,Type,Module,ID,UserName,FirstName,LastName,Attempt,Score,Out_Of,Attempt_Start_Date,Attempt_Start_Time,Attempt_End_Date,Attempt_End_Time,Percent\\n',\n",
       "   'Class,Section,Type,Module,ID,UserName,FirstName,LastName,Attempt,Score,Out_Of,Attempt_Start_Date,Attempt_Start_Time,Attempt_End_Date,Attempt_End_Time,Percent\\n',\n",
       "   'Class,Section,Type,Module,ID,UserName,FirstName,LastName,Attempt,Score,Out_Of,Attempt_Start_Date,Attempt_Start_Time,Attempt_End_Date,Attempt_End_Time,Percent\\n',\n",
       "   'Class,Section,Type,Module,ID,UserName,FirstName,LastName,Attempt,Score,Out_Of,Attempt_Start_Date,Attempt_Start_Time,Attempt_End_Date,Attempt_End_Time,Percent\\n',\n",
       "   'Class,Section,Type,Module,ID,UserName,FirstName,LastName,Attempt,Score,Out_Of,Attempt_Start_Date,Attempt_Start_Time,Attempt_End_Date,Attempt_End_Time,Percent\\n'],\n",
       "  'body': [['dsci494,s7,Practice,Module 1,14460432,au9747cp,Jericho,Greer,1,1,1,2019-01-14,14:00:00,2019-01-14,14:06:00,100%\\n',\n",
       "    'dsci494,s7,Practice,Module 1,14460432,au9747cp,Jericho,Greer,2,1,1,2019-01-16,14:00:00,2019-01-16,14:08:00,100%\\n',\n",
       "    'dsci494,s7,Practice,Module 1,14460432,au9747cp,Jericho,Greer,3,1,1,2019-01-18,14:00:00,2019-01-18,14:05:00,100%\\n'],\n",
       "   ['dsci494,s7,Practice,Module 2,14460432,au9747cp,Jericho,Greer,1,1,1,2019-01-14,14:00:00,2019-01-14,14:06:00,100%\\n',\n",
       "    'dsci494,s7,Practice,Module 2,14460432,au9747cp,Jericho,Greer,2,1,1,2019-01-16,14:00:00,2019-01-16,14:08:00,100%\\n',\n",
       "    'dsci494,s7,Practice,Module 2,14460432,au9747cp,Jericho,Greer,3,1,1,2019-01-18,14:00:00,2019-01-18,14:05:00,100%\\n'],\n",
       "   ['dsci494,s7,Practice,Module 3,14460432,au9747cp,Jericho,Greer,1,1,1,2019-01-14,14:00:00,2019-01-14,14:06:00,100%\\n',\n",
       "    'dsci494,s7,Practice,Module 3,14460432,au9747cp,Jericho,Greer,2,1,1,2019-01-16,14:00:00,2019-01-16,14:08:00,100%\\n',\n",
       "    'dsci494,s7,Practice,Module 3,14460432,au9747cp,Jericho,Greer,3,1,1,2019-01-18,14:00:00,2019-01-18,14:05:00,100%\\n'],\n",
       "   ['dsci494,s7,Practice,Module 4,14460432,au9747cp,Jericho,Greer,1,1,1,2019-01-14,14:00:00,2019-01-14,14:06:00,100%\\n',\n",
       "    'dsci494,s7,Practice,Module 4,14460432,au9747cp,Jericho,Greer,2,1,1,2019-01-16,14:00:00,2019-01-16,14:08:00,100%\\n',\n",
       "    'dsci494,s7,Practice,Module 4,14460432,au9747cp,Jericho,Greer,3,1,1,2019-01-18,14:00:00,2019-01-18,14:05:00,100%\\n'],\n",
       "   ['stat491,s1,Practice,Module 1,14460432,au9747cp,Jericho,Greer,1,1,1,2019-01-14,14:00:00,2019-01-14,14:06:00,100%\\n',\n",
       "    'stat491,s1,Practice,Module 1,14460432,au9747cp,Jericho,Greer,2,1,1,2019-01-16,14:00:00,2019-01-16,14:08:00,100%\\n',\n",
       "    'stat491,s1,Practice,Module 1,14460432,au9747cp,Jericho,Greer,3,1,1,2019-01-18,14:00:00,2019-01-18,14:05:00,100%\\n'],\n",
       "   ['stat491,s1,Practice,Module 2,14460432,au9747cp,Jericho,Greer,1,1,1,2019-01-14,14:00:00,2019-01-14,14:06:00,100%\\n',\n",
       "    'stat491,s1,Practice,Module 2,14460432,au9747cp,Jericho,Greer,2,1,1,2019-01-16,14:00:00,2019-01-16,14:08:00,100%\\n',\n",
       "    'stat491,s1,Practice,Module 2,14460432,au9747cp,Jericho,Greer,3,1,1,2019-01-18,14:00:00,2019-01-18,14:05:00,100%\\n'],\n",
       "   ['stat491,s1,Practice,Module 3,14460432,au9747cp,Jericho,Greer,1,1,1,2019-01-14,14:00:00,2019-01-14,14:06:00,100%\\n',\n",
       "    'stat491,s1,Practice,Module 3,14460432,au9747cp,Jericho,Greer,2,1,1,2019-01-16,14:00:00,2019-01-16,14:08:00,100%\\n',\n",
       "    'stat491,s1,Practice,Module 3,14460432,au9747cp,Jericho,Greer,3,1,1,2019-01-18,14:00:00,2019-01-18,14:05:00,100%\\n'],\n",
       "   ['stat491,s1,Practice,Module 4,14460432,au9747cp,Jericho,Greer,1,1,1,2019-01-14,14:00:00,2019-01-14,14:06:00,100%\\n',\n",
       "    'stat491,s1,Practice,Module 4,14460432,au9747cp,Jericho,Greer,2,1,1,2019-01-16,14:00:00,2019-01-16,14:08:00,100%\\n',\n",
       "    'stat491,s1,Practice,Module 4,14460432,au9747cp,Jericho,Greer,3,1,1,2019-01-18,14:00:00,2019-01-18,14:05:00,100%\\n']]}}"
      ]
     },
     "execution_count": 146,
     "metadata": {},
     "output_type": "execute_result"
    }
   ],
   "source": [
    "relevant_keys = ['folder', 'type', 'header', 'body'] \n",
    "# all_types = ['Attendance', 'Practice']\n",
    "\n",
    "(zipped_files_by_type :=\n",
    " {type_: {key: [get(key, record, None) for record in el]\n",
    "                for key in relevant_keys}\n",
    "  for type_, el in files_by_type.items()\n",
    " }\n",
    ") >> rec.map(rec.apply(body = map(tup.head(3)))) #>> rec.subset(all_types)[:3]"
   ]
  },
  {
   "attachments": {},
   "cell_type": "markdown",
   "id": "4978c970-5695-4185-ba67-df7fb6fdf1f9",
   "metadata": {},
   "source": [
    "## Extract the first header and folder (assumes they are all the same!)"
   ]
  },
  {
   "cell_type": "code",
   "execution_count": 147,
   "id": "1b62fdbb-50d9-4038-953b-222864ca5880",
   "metadata": {},
   "outputs": [
    {
     "data": {
      "text/plain": [
       "{'Attendance': {'folder': './attendance_example_fixed_width/dsci494s7/',\n",
       "  'type': 'Attendance',\n",
       "  'header': 'Class,Section,Type,Module,ID,UserName,FirstName,LastName,Attempt,Score,Out_Of,Attempt_Start_Date,Attempt_Start_Time,Attempt_End_Date,Attempt_End_Time,Percent\\n',\n",
       "  'body': [['dsci494,s7,Attendance,,14460432,au9747cp,Jericho,Greer,1,1,1,2019-01-14,14:00:00,2019-01-14,14:06:00,100%\\n',\n",
       "    'dsci494,s7,Attendance,,14460432,au9747cp,Jericho,Greer,2,1,1,2019-01-16,14:00:00,2019-01-16,14:08:00,100%\\n',\n",
       "    'dsci494,s7,Attendance,,14460432,au9747cp,Jericho,Greer,3,1,1,2019-01-18,14:00:00,2019-01-18,14:05:00,100%\\n'],\n",
       "   ['stat180,s18,Attendance,,14460432,au9747cp,Jericho,Greer,1,1,1,2019-01-14,14:00:00,2019-01-14,14:06:00,100%\\n',\n",
       "    'stat180,s18,Attendance,,14460432,au9747cp,Jericho,Greer,2,1,1,2019-01-16,14:00:00,2019-01-16,14:08:00,100%\\n',\n",
       "    'stat180,s18,Attendance,,14460432,au9747cp,Jericho,Greer,3,1,1,2019-01-18,14:00:00,2019-01-18,14:05:00,100%\\n'],\n",
       "   ['stat491,s1,Attendance,,14460432,au9747cp,Jericho,Greer,1,1,1,2019-01-14,14:00:00,2019-01-14,14:06:00,100%\\n',\n",
       "    'stat491,s1,Attendance,,14460432,au9747cp,Jericho,Greer,2,1,1,2019-01-16,14:00:00,2019-01-16,14:08:00,100%\\n',\n",
       "    'stat491,s1,Attendance,,14460432,au9747cp,Jericho,Greer,3,1,1,2019-01-18,14:00:00,2019-01-18,14:05:00,100%\\n']]},\n",
       " 'Practice': {'folder': './attendance_example_fixed_width/dsci494s7/',\n",
       "  'type': 'Practice',\n",
       "  'header': 'Class,Section,Type,Module,ID,UserName,FirstName,LastName,Attempt,Score,Out_Of,Attempt_Start_Date,Attempt_Start_Time,Attempt_End_Date,Attempt_End_Time,Percent\\n',\n",
       "  'body': [['dsci494,s7,Practice,Module 1,14460432,au9747cp,Jericho,Greer,1,1,1,2019-01-14,14:00:00,2019-01-14,14:06:00,100%\\n',\n",
       "    'dsci494,s7,Practice,Module 1,14460432,au9747cp,Jericho,Greer,2,1,1,2019-01-16,14:00:00,2019-01-16,14:08:00,100%\\n',\n",
       "    'dsci494,s7,Practice,Module 1,14460432,au9747cp,Jericho,Greer,3,1,1,2019-01-18,14:00:00,2019-01-18,14:05:00,100%\\n'],\n",
       "   ['dsci494,s7,Practice,Module 2,14460432,au9747cp,Jericho,Greer,1,1,1,2019-01-14,14:00:00,2019-01-14,14:06:00,100%\\n',\n",
       "    'dsci494,s7,Practice,Module 2,14460432,au9747cp,Jericho,Greer,2,1,1,2019-01-16,14:00:00,2019-01-16,14:08:00,100%\\n',\n",
       "    'dsci494,s7,Practice,Module 2,14460432,au9747cp,Jericho,Greer,3,1,1,2019-01-18,14:00:00,2019-01-18,14:05:00,100%\\n'],\n",
       "   ['dsci494,s7,Practice,Module 3,14460432,au9747cp,Jericho,Greer,1,1,1,2019-01-14,14:00:00,2019-01-14,14:06:00,100%\\n',\n",
       "    'dsci494,s7,Practice,Module 3,14460432,au9747cp,Jericho,Greer,2,1,1,2019-01-16,14:00:00,2019-01-16,14:08:00,100%\\n',\n",
       "    'dsci494,s7,Practice,Module 3,14460432,au9747cp,Jericho,Greer,3,1,1,2019-01-18,14:00:00,2019-01-18,14:05:00,100%\\n'],\n",
       "   ['dsci494,s7,Practice,Module 4,14460432,au9747cp,Jericho,Greer,1,1,1,2019-01-14,14:00:00,2019-01-14,14:06:00,100%\\n',\n",
       "    'dsci494,s7,Practice,Module 4,14460432,au9747cp,Jericho,Greer,2,1,1,2019-01-16,14:00:00,2019-01-16,14:08:00,100%\\n',\n",
       "    'dsci494,s7,Practice,Module 4,14460432,au9747cp,Jericho,Greer,3,1,1,2019-01-18,14:00:00,2019-01-18,14:05:00,100%\\n'],\n",
       "   ['stat491,s1,Practice,Module 1,14460432,au9747cp,Jericho,Greer,1,1,1,2019-01-14,14:00:00,2019-01-14,14:06:00,100%\\n',\n",
       "    'stat491,s1,Practice,Module 1,14460432,au9747cp,Jericho,Greer,2,1,1,2019-01-16,14:00:00,2019-01-16,14:08:00,100%\\n',\n",
       "    'stat491,s1,Practice,Module 1,14460432,au9747cp,Jericho,Greer,3,1,1,2019-01-18,14:00:00,2019-01-18,14:05:00,100%\\n'],\n",
       "   ['stat491,s1,Practice,Module 2,14460432,au9747cp,Jericho,Greer,1,1,1,2019-01-14,14:00:00,2019-01-14,14:06:00,100%\\n',\n",
       "    'stat491,s1,Practice,Module 2,14460432,au9747cp,Jericho,Greer,2,1,1,2019-01-16,14:00:00,2019-01-16,14:08:00,100%\\n',\n",
       "    'stat491,s1,Practice,Module 2,14460432,au9747cp,Jericho,Greer,3,1,1,2019-01-18,14:00:00,2019-01-18,14:05:00,100%\\n'],\n",
       "   ['stat491,s1,Practice,Module 3,14460432,au9747cp,Jericho,Greer,1,1,1,2019-01-14,14:00:00,2019-01-14,14:06:00,100%\\n',\n",
       "    'stat491,s1,Practice,Module 3,14460432,au9747cp,Jericho,Greer,2,1,1,2019-01-16,14:00:00,2019-01-16,14:08:00,100%\\n',\n",
       "    'stat491,s1,Practice,Module 3,14460432,au9747cp,Jericho,Greer,3,1,1,2019-01-18,14:00:00,2019-01-18,14:05:00,100%\\n'],\n",
       "   ['stat491,s1,Practice,Module 4,14460432,au9747cp,Jericho,Greer,1,1,1,2019-01-14,14:00:00,2019-01-14,14:06:00,100%\\n',\n",
       "    'stat491,s1,Practice,Module 4,14460432,au9747cp,Jericho,Greer,2,1,1,2019-01-16,14:00:00,2019-01-16,14:08:00,100%\\n',\n",
       "    'stat491,s1,Practice,Module 4,14460432,au9747cp,Jericho,Greer,3,1,1,2019-01-18,14:00:00,2019-01-18,14:05:00,100%\\n']]}}"
      ]
     },
     "execution_count": 147,
     "metadata": {},
     "output_type": "execute_result"
    }
   ],
   "source": [
    "(zipped_files_w_header_folder :=\n",
    "{type_: (record | {'header': record['header'][0],  # this is `first` header\n",
    "                   'folder'  : record['folder'][0], # this is `first` folder\n",
    "                   'type'  : record['type'][0], # this is `first` type\n",
    "                  }\n",
    "        )\n",
    " for type_, record in zipped_files_by_type.items()\n",
    "} \n",
    ") >> rec.map(rec.apply(body = map(tup.head(3)))) >> rec.subset(list(all_types)[:3])"
   ]
  },
  {
   "attachments": {
    "91b5d39e-0b37-4fd1-93ab-d64a1b4c5b94.png": {
     "image/png": "[encoded data removed]"
    }
   },
   "cell_type": "markdown",
   "id": "23d7f3d9-06bc-4f50-b572-037fd74777c8",
   "metadata": {},
   "source": [
    "## Fold the bodies into a single list of lines that starts with the header.\n",
    "\n",
    "![image.png](attachment:91b5d39e-0b37-4fd1-93ab-d64a1b4c5b94.png)"
   ]
  },
  {
   "cell_type": "code",
   "execution_count": 149,
   "id": "5a00ed82-a3e1-438c-b5ec-340b5d216757",
   "metadata": {},
   "outputs": [
    {
     "data": {
      "text/plain": [
       "{'Attendance': {'folder': './attendance_example_fixed_width/dsci494s7/',\n",
       "  'type': 'Attendance',\n",
       "  'header': 'Class,Section,Type,Module,ID,UserName,FirstName,LastName,Attempt,Score,Out_Of,Attempt_Start_Date,Attempt_Start_Time,Attempt_End_Date,Attempt_End_Time,Percent\\n',\n",
       "  'body': ['Class,Section,Type,Module,ID,UserName,FirstName,LastName,Attempt,Score,Out_Of,Attempt_Start_Date,Attempt_Start_Time,Attempt_End_Date,Attempt_End_Time,Percent\\n',\n",
       "   'dsci494,s7,Attendance,,14460432,au9747cp,Jericho,Greer,1,1,1,2019-01-14,14:00:00,2019-01-14,14:06:00,100%\\n',\n",
       "   'dsci494,s7,Attendance,,14460432,au9747cp,Jericho,Greer,2,1,1,2019-01-16,14:00:00,2019-01-16,14:08:00,100%\\n']},\n",
       " 'Practice': {'folder': './attendance_example_fixed_width/dsci494s7/',\n",
       "  'type': 'Practice',\n",
       "  'header': 'Class,Section,Type,Module,ID,UserName,FirstName,LastName,Attempt,Score,Out_Of,Attempt_Start_Date,Attempt_Start_Time,Attempt_End_Date,Attempt_End_Time,Percent\\n',\n",
       "  'body': ['Class,Section,Type,Module,ID,UserName,FirstName,LastName,Attempt,Score,Out_Of,Attempt_Start_Date,Attempt_Start_Time,Attempt_End_Date,Attempt_End_Time,Percent\\n',\n",
       "   'dsci494,s7,Practice,Module 1,14460432,au9747cp,Jericho,Greer,1,1,1,2019-01-14,14:00:00,2019-01-14,14:06:00,100%\\n',\n",
       "   'dsci494,s7,Practice,Module 1,14460432,au9747cp,Jericho,Greer,2,1,1,2019-01-16,14:00:00,2019-01-16,14:08:00,100%\\n']}}"
      ]
     },
     "execution_count": 149,
     "metadata": {},
     "output_type": "execute_result"
    }
   ],
   "source": [
    "(files_by_type_w_combined_body :=\n",
    "{type_: (record | {'body':fold(lambda acc, el: acc + el,\n",
    "                           [record['header']],\n",
    "                            record['body']\n",
    "                          )\n",
    "                  } \n",
    "        )\n",
    " for type_, record in zipped_files_w_header_folder.items()\n",
    "}\n",
    ") >> rec.map(rec.apply(body = tup.head(3))) #>> rec.subset(list(all_types)[:5])"
   ]
  },
  {
   "attachments": {
    "45143dba-9dfc-4c66-85ff-0ca47d42eeaf.png": {
     "image/png": "[encoded data removed]"
    }
   },
   "cell_type": "markdown",
   "id": "5e1df46d-a76e-418d-9be1-593bb4a9efc5",
   "metadata": {},
   "source": [
    "## Create each of the output paths.\n",
    "\n",
    "![image.png](attachment:45143dba-9dfc-4c66-85ff-0ca47d42eeaf.png)"
   ]
  },
  {
   "cell_type": "code",
   "execution_count": 170,
   "id": "eacef1c8-dead-4095-bd21-a9ac3efc4d33",
   "metadata": {},
   "outputs": [
    {
     "data": {
      "text/plain": [
       "{'Attendance': {'folder': './attendance_example_fixed_width/dsci494s7/',\n",
       "  'type': 'Attendance',\n",
       "  'header': 'Class,Section,Type,Module,ID,UserName,FirstName,LastName,Attempt,Score,Out_Of,Attempt_Start_Date,Attempt_Start_Time,Attempt_End_Date,Attempt_End_Time,Percent\\n',\n",
       "  'body': ['Class,Section,Type,Module,ID,UserName,FirstName,LastName,Attempt,Score,Out_Of,Attempt_Start_Date,Attempt_Start_Time,Attempt_End_Date,Attempt_End_Time,Percent\\n',\n",
       "   'dsci494,s7,Attendance,,14460432,au9747cp,Jericho,Greer,1,1,1,2019-01-14,14:00:00,2019-01-14,14:06:00,100%\\n',\n",
       "   'dsci494,s7,Attendance,,14460432,au9747cp,Jericho,Greer,2,1,1,2019-01-16,14:00:00,2019-01-16,14:08:00,100%\\n'],\n",
       "  'out_path': './attendance_example_fixed_width/_Part2_Attendance.csv'},\n",
       " 'Practice': {'folder': './attendance_example_fixed_width/dsci494s7/',\n",
       "  'type': 'Practice',\n",
       "  'header': 'Class,Section,Type,Module,ID,UserName,FirstName,LastName,Attempt,Score,Out_Of,Attempt_Start_Date,Attempt_Start_Time,Attempt_End_Date,Attempt_End_Time,Percent\\n',\n",
       "  'body': ['Class,Section,Type,Module,ID,UserName,FirstName,LastName,Attempt,Score,Out_Of,Attempt_Start_Date,Attempt_Start_Time,Attempt_End_Date,Attempt_End_Time,Percent\\n',\n",
       "   'dsci494,s7,Practice,Module 1,14460432,au9747cp,Jericho,Greer,1,1,1,2019-01-14,14:00:00,2019-01-14,14:06:00,100%\\n',\n",
       "   'dsci494,s7,Practice,Module 1,14460432,au9747cp,Jericho,Greer,2,1,1,2019-01-16,14:00:00,2019-01-16,14:08:00,100%\\n'],\n",
       "  'out_path': './attendance_example_fixed_width/_Part2_Practice.csv'}}"
      ]
     },
     "execution_count": 170,
     "metadata": {},
     "output_type": "execute_result"
    }
   ],
   "source": [
    "(with_out_path :=  # use the generic folder name, not the specific class folder\n",
    " {type_:record | {'out_path': './attendance_example_fixed_width/' + '_Part2_' + record['type'] + '.csv',}\n",
    "                         \n",
    "  for type_, record in files_by_type_w_combined_body.items()\n",
    " }\n",
    ") >> rec.subset(all_types[:3]) >> rec.map(rec.apply(body = tup.head(3)))"
   ]
  },
  {
   "attachments": {
    "522c3934-6eea-4377-af97-748a9283d1f2.png": {
     "image/png": "[encoded data removed]"
    }
   },
   "cell_type": "markdown",
   "id": "1dfaed30-675b-4929-b1c3-fc4635b5b020",
   "metadata": {},
   "source": [
    "## Writing out each of the files.\n",
    "\n",
    "![image.png](attachment:522c3934-6eea-4377-af97-748a9283d1f2.png)"
   ]
  },
  {
   "cell_type": "code",
   "execution_count": 167,
   "id": "d06bfb40-a1b9-45b3-8e10-676d3fced843",
   "metadata": {},
   "outputs": [
    {
     "name": "stdout",
     "output_type": "stream",
     "text": [
      "Print all lines for Attendance\n",
      "\n",
      "Print all lines for Practice\n",
      "\n"
     ]
    }
   ],
   "source": [
    "for type_, record in with_out_path.items():\n",
    "    with open(record['out_path'], mode = 'w') as out:\n",
    "        out.writelines(record['body'])\n",
    "        print(f'Print all lines for {type_}\\n')"
   ]
  },
  {
   "cell_type": "markdown",
   "id": "cb4170ae-1d91-4f89-9cc5-f97d31c1bae6",
   "metadata": {},
   "source": [
    "# Deliverables.  \n",
    "Submit the following\n",
    "\n",
    "1. A word document documenting your code/solution,\n",
    "2. A notebook containing your work.  This should be a new/different notebook, separate from your solution to part 1.  This documents should assume that the unzipped file and all the composable modules are in the root directory (see below)."
   ]
  }
 ],
 "metadata": {
  "kernelspec": {
   "display_name": "Python 3 (ipykernel)",
   "language": "python",
   "name": "python3"
  },
  "language_info": {
   "codemirror_mode": {
    "name": "ipython",
    "version": 3
   },
   "file_extension": ".py",
   "mimetype": "text/x-python",
   "name": "python",
   "nbconvert_exporter": "python",
   "pygments_lexer": "ipython3",
   "version": "3.12.7"
  }
 },
 "nbformat": 4,
 "nbformat_minor": 5
}
