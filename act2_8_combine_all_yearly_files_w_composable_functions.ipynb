{
 "cells": [
  {
   "cell_type": "code",
   "execution_count": 51,
   "id": "df6834ec-7d5c-442e-b7ba-2e01975ca725",
   "metadata": {},
   "outputs": [],
   "source": [
    "from composable import pipeable\n",
    "from composable.strict import map, filter\n",
    "import composable_records as rec\n",
    "import composable_tuples as tup\n",
    "from composable_glob import glob\n",
    "from composable_utility import get, with_open, identity, apply\n",
    "from composable_object import obj, attr\n",
    "from composable_origami import fold\n",
    "from operator import add"
   ]
  },
  {
   "cell_type": "markdown",
   "id": "c7b22822-91bf-488e-94fa-bb17dfdc90b2",
   "metadata": {},
   "source": [
    "### Task 2 - Combine all the `Pitching` yearly files using composable functions"
   ]
  },
  {
   "cell_type": "markdown",
   "id": "20b8cf42-7bed-4f84-baca-44ec3b4ece25",
   "metadata": {},
   "source": [
    "#### Get the `Pitching` paths"
   ]
  },
  {
   "cell_type": "code",
   "execution_count": 16,
   "id": "61ab7660-8d3d-4818-a9f7-fc886eebf711",
   "metadata": {},
   "outputs": [
    {
     "data": {
      "text/plain": [
       "['./data/baseballdatabank_2020_to_2023\\\\contrib\\\\2020_AwardsManagers.csv',\n",
       " './data/baseballdatabank_2020_to_2023\\\\contrib\\\\2020_AwardsPlayers.csv',\n",
       " './data/baseballdatabank_2020_to_2023\\\\contrib\\\\2020_AwardsShareManagers.csv',\n",
       " './data/baseballdatabank_2020_to_2023\\\\contrib\\\\2020_AwardsSharePlayers.csv',\n",
       " './data/baseballdatabank_2020_to_2023\\\\contrib\\\\2020_CollegePlaying.csv',\n",
       " './data/baseballdatabank_2020_to_2023\\\\contrib\\\\2020_HallOfFame.csv',\n",
       " './data/baseballdatabank_2020_to_2023\\\\contrib\\\\2020_Salaries.csv',\n",
       " './data/baseballdatabank_2020_to_2023\\\\contrib\\\\2021_AwardsManagers.csv',\n",
       " './data/baseballdatabank_2020_to_2023\\\\contrib\\\\2021_AwardsPlayers.csv',\n",
       " './data/baseballdatabank_2020_to_2023\\\\contrib\\\\2021_AwardsShareManagers.csv',\n",
       " './data/baseballdatabank_2020_to_2023\\\\contrib\\\\2021_AwardsSharePlayers.csv',\n",
       " './data/baseballdatabank_2020_to_2023\\\\contrib\\\\2021_CollegePlaying.csv',\n",
       " './data/baseballdatabank_2020_to_2023\\\\contrib\\\\2021_HallOfFame.csv',\n",
       " './data/baseballdatabank_2020_to_2023\\\\contrib\\\\2021_Salaries.csv',\n",
       " './data/baseballdatabank_2020_to_2023\\\\contrib\\\\2022_AwardsManagers.csv',\n",
       " './data/baseballdatabank_2020_to_2023\\\\contrib\\\\2022_AwardsPlayers.csv',\n",
       " './data/baseballdatabank_2020_to_2023\\\\contrib\\\\2022_AwardsShareManagers.csv',\n",
       " './data/baseballdatabank_2020_to_2023\\\\contrib\\\\2022_AwardsSharePlayers.csv',\n",
       " './data/baseballdatabank_2020_to_2023\\\\contrib\\\\2022_CollegePlaying.csv',\n",
       " './data/baseballdatabank_2020_to_2023\\\\contrib\\\\2022_HallOfFame.csv',\n",
       " './data/baseballdatabank_2020_to_2023\\\\contrib\\\\2022_Salaries.csv',\n",
       " './data/baseballdatabank_2020_to_2023\\\\core\\\\2020_AllstarFull.csv',\n",
       " './data/baseballdatabank_2020_to_2023\\\\core\\\\2020_Appearances.csv',\n",
       " './data/baseballdatabank_2020_to_2023\\\\core\\\\2020_Batting.csv',\n",
       " './data/baseballdatabank_2020_to_2023\\\\core\\\\2020_BattingPost.csv',\n",
       " './data/baseballdatabank_2020_to_2023\\\\core\\\\2020_Fielding.csv',\n",
       " './data/baseballdatabank_2020_to_2023\\\\core\\\\2020_FieldingOF.csv',\n",
       " './data/baseballdatabank_2020_to_2023\\\\core\\\\2020_FieldingOFsplit.csv',\n",
       " './data/baseballdatabank_2020_to_2023\\\\core\\\\2020_FieldingPost.csv',\n",
       " './data/baseballdatabank_2020_to_2023\\\\core\\\\2020_Managers.csv',\n",
       " './data/baseballdatabank_2020_to_2023\\\\core\\\\2020_ManagersHalf.csv',\n",
       " './data/baseballdatabank_2020_to_2023\\\\core\\\\2020_Pitching.csv',\n",
       " './data/baseballdatabank_2020_to_2023\\\\core\\\\2020_PitchingPost.csv',\n",
       " './data/baseballdatabank_2020_to_2023\\\\core\\\\2020_SeriesPost.csv',\n",
       " './data/baseballdatabank_2020_to_2023\\\\core\\\\2020_Teams.csv',\n",
       " './data/baseballdatabank_2020_to_2023\\\\core\\\\2020_TeamsHalf.csv',\n",
       " './data/baseballdatabank_2020_to_2023\\\\core\\\\2021_AllstarFull.csv',\n",
       " './data/baseballdatabank_2020_to_2023\\\\core\\\\2021_Appearances.csv',\n",
       " './data/baseballdatabank_2020_to_2023\\\\core\\\\2021_Batting.csv',\n",
       " './data/baseballdatabank_2020_to_2023\\\\core\\\\2021_BattingPost.csv',\n",
       " './data/baseballdatabank_2020_to_2023\\\\core\\\\2021_Fielding.csv',\n",
       " './data/baseballdatabank_2020_to_2023\\\\core\\\\2021_FieldingOF.csv',\n",
       " './data/baseballdatabank_2020_to_2023\\\\core\\\\2021_FieldingOFsplit.csv',\n",
       " './data/baseballdatabank_2020_to_2023\\\\core\\\\2021_FieldingPost.csv',\n",
       " './data/baseballdatabank_2020_to_2023\\\\core\\\\2021_Managers.csv',\n",
       " './data/baseballdatabank_2020_to_2023\\\\core\\\\2021_ManagersHalf.csv',\n",
       " './data/baseballdatabank_2020_to_2023\\\\core\\\\2021_Pitching.csv',\n",
       " './data/baseballdatabank_2020_to_2023\\\\core\\\\2021_PitchingPost.csv',\n",
       " './data/baseballdatabank_2020_to_2023\\\\core\\\\2021_SeriesPost.csv',\n",
       " './data/baseballdatabank_2020_to_2023\\\\core\\\\2021_Teams.csv',\n",
       " './data/baseballdatabank_2020_to_2023\\\\core\\\\2021_TeamsHalf.csv',\n",
       " './data/baseballdatabank_2020_to_2023\\\\core\\\\2022_AllstarFull.csv',\n",
       " './data/baseballdatabank_2020_to_2023\\\\core\\\\2022_Appearances.csv',\n",
       " './data/baseballdatabank_2020_to_2023\\\\core\\\\2022_Batting.csv',\n",
       " './data/baseballdatabank_2020_to_2023\\\\core\\\\2022_BattingPost.csv',\n",
       " './data/baseballdatabank_2020_to_2023\\\\core\\\\2022_Fielding.csv',\n",
       " './data/baseballdatabank_2020_to_2023\\\\core\\\\2022_FieldingOF.csv',\n",
       " './data/baseballdatabank_2020_to_2023\\\\core\\\\2022_FieldingOFsplit.csv',\n",
       " './data/baseballdatabank_2020_to_2023\\\\core\\\\2022_FieldingPost.csv',\n",
       " './data/baseballdatabank_2020_to_2023\\\\core\\\\2022_Managers.csv',\n",
       " './data/baseballdatabank_2020_to_2023\\\\core\\\\2022_ManagersHalf.csv',\n",
       " './data/baseballdatabank_2020_to_2023\\\\core\\\\2022_Pitching.csv',\n",
       " './data/baseballdatabank_2020_to_2023\\\\core\\\\2022_PitchingPost.csv',\n",
       " './data/baseballdatabank_2020_to_2023\\\\core\\\\2022_SeriesPost.csv',\n",
       " './data/baseballdatabank_2020_to_2023\\\\core\\\\2022_Teams.csv',\n",
       " './data/baseballdatabank_2020_to_2023\\\\core\\\\2022_TeamsHalf.csv',\n",
       " './data/baseballdatabank_2020_to_2023\\\\upstream\\\\2020_Teams.csv',\n",
       " './data/baseballdatabank_2020_to_2023\\\\upstream\\\\2021_Teams.csv',\n",
       " './data/baseballdatabank_2020_to_2023\\\\upstream\\\\2022_Teams.csv']"
      ]
     },
     "execution_count": 16,
     "metadata": {},
     "output_type": "execute_result"
    }
   ],
   "source": [
    "(paths :=\n",
    " \"./data/baseballdatabank_2020_to_2023/**/20*.csv\"\n",
    " >> glob(recursive=True)\n",
    ")"
   ]
  },
  {
   "cell_type": "code",
   "execution_count": 17,
   "id": "6883c568-965d-46d7-8801-f7462af79145",
   "metadata": {},
   "outputs": [
    {
     "data": {
      "text/plain": [
       "['./data/baseballdatabank_2020_to_2023/contrib/2020_AwardsManagers.csv',\n",
       " './data/baseballdatabank_2020_to_2023/contrib/2020_AwardsPlayers.csv',\n",
       " './data/baseballdatabank_2020_to_2023/contrib/2020_AwardsShareManagers.csv',\n",
       " './data/baseballdatabank_2020_to_2023/contrib/2020_AwardsSharePlayers.csv',\n",
       " './data/baseballdatabank_2020_to_2023/contrib/2020_CollegePlaying.csv',\n",
       " './data/baseballdatabank_2020_to_2023/contrib/2020_HallOfFame.csv',\n",
       " './data/baseballdatabank_2020_to_2023/contrib/2020_Salaries.csv',\n",
       " './data/baseballdatabank_2020_to_2023/contrib/2021_AwardsManagers.csv',\n",
       " './data/baseballdatabank_2020_to_2023/contrib/2021_AwardsPlayers.csv',\n",
       " './data/baseballdatabank_2020_to_2023/contrib/2021_AwardsShareManagers.csv',\n",
       " './data/baseballdatabank_2020_to_2023/contrib/2021_AwardsSharePlayers.csv',\n",
       " './data/baseballdatabank_2020_to_2023/contrib/2021_CollegePlaying.csv',\n",
       " './data/baseballdatabank_2020_to_2023/contrib/2021_HallOfFame.csv',\n",
       " './data/baseballdatabank_2020_to_2023/contrib/2021_Salaries.csv',\n",
       " './data/baseballdatabank_2020_to_2023/contrib/2022_AwardsManagers.csv',\n",
       " './data/baseballdatabank_2020_to_2023/contrib/2022_AwardsPlayers.csv',\n",
       " './data/baseballdatabank_2020_to_2023/contrib/2022_AwardsShareManagers.csv',\n",
       " './data/baseballdatabank_2020_to_2023/contrib/2022_AwardsSharePlayers.csv',\n",
       " './data/baseballdatabank_2020_to_2023/contrib/2022_CollegePlaying.csv',\n",
       " './data/baseballdatabank_2020_to_2023/contrib/2022_HallOfFame.csv',\n",
       " './data/baseballdatabank_2020_to_2023/contrib/2022_Salaries.csv',\n",
       " './data/baseballdatabank_2020_to_2023/core/2020_AllstarFull.csv',\n",
       " './data/baseballdatabank_2020_to_2023/core/2020_Appearances.csv',\n",
       " './data/baseballdatabank_2020_to_2023/core/2020_Batting.csv',\n",
       " './data/baseballdatabank_2020_to_2023/core/2020_BattingPost.csv',\n",
       " './data/baseballdatabank_2020_to_2023/core/2020_Fielding.csv',\n",
       " './data/baseballdatabank_2020_to_2023/core/2020_FieldingOF.csv',\n",
       " './data/baseballdatabank_2020_to_2023/core/2020_FieldingOFsplit.csv',\n",
       " './data/baseballdatabank_2020_to_2023/core/2020_FieldingPost.csv',\n",
       " './data/baseballdatabank_2020_to_2023/core/2020_Managers.csv',\n",
       " './data/baseballdatabank_2020_to_2023/core/2020_ManagersHalf.csv',\n",
       " './data/baseballdatabank_2020_to_2023/core/2020_Pitching.csv',\n",
       " './data/baseballdatabank_2020_to_2023/core/2020_PitchingPost.csv',\n",
       " './data/baseballdatabank_2020_to_2023/core/2020_SeriesPost.csv',\n",
       " './data/baseballdatabank_2020_to_2023/core/2020_Teams.csv',\n",
       " './data/baseballdatabank_2020_to_2023/core/2020_TeamsHalf.csv',\n",
       " './data/baseballdatabank_2020_to_2023/core/2021_AllstarFull.csv',\n",
       " './data/baseballdatabank_2020_to_2023/core/2021_Appearances.csv',\n",
       " './data/baseballdatabank_2020_to_2023/core/2021_Batting.csv',\n",
       " './data/baseballdatabank_2020_to_2023/core/2021_BattingPost.csv',\n",
       " './data/baseballdatabank_2020_to_2023/core/2021_Fielding.csv',\n",
       " './data/baseballdatabank_2020_to_2023/core/2021_FieldingOF.csv',\n",
       " './data/baseballdatabank_2020_to_2023/core/2021_FieldingOFsplit.csv',\n",
       " './data/baseballdatabank_2020_to_2023/core/2021_FieldingPost.csv',\n",
       " './data/baseballdatabank_2020_to_2023/core/2021_Managers.csv',\n",
       " './data/baseballdatabank_2020_to_2023/core/2021_ManagersHalf.csv',\n",
       " './data/baseballdatabank_2020_to_2023/core/2021_Pitching.csv',\n",
       " './data/baseballdatabank_2020_to_2023/core/2021_PitchingPost.csv',\n",
       " './data/baseballdatabank_2020_to_2023/core/2021_SeriesPost.csv',\n",
       " './data/baseballdatabank_2020_to_2023/core/2021_Teams.csv',\n",
       " './data/baseballdatabank_2020_to_2023/core/2021_TeamsHalf.csv',\n",
       " './data/baseballdatabank_2020_to_2023/core/2022_AllstarFull.csv',\n",
       " './data/baseballdatabank_2020_to_2023/core/2022_Appearances.csv',\n",
       " './data/baseballdatabank_2020_to_2023/core/2022_Batting.csv',\n",
       " './data/baseballdatabank_2020_to_2023/core/2022_BattingPost.csv',\n",
       " './data/baseballdatabank_2020_to_2023/core/2022_Fielding.csv',\n",
       " './data/baseballdatabank_2020_to_2023/core/2022_FieldingOF.csv',\n",
       " './data/baseballdatabank_2020_to_2023/core/2022_FieldingOFsplit.csv',\n",
       " './data/baseballdatabank_2020_to_2023/core/2022_FieldingPost.csv',\n",
       " './data/baseballdatabank_2020_to_2023/core/2022_Managers.csv',\n",
       " './data/baseballdatabank_2020_to_2023/core/2022_ManagersHalf.csv',\n",
       " './data/baseballdatabank_2020_to_2023/core/2022_Pitching.csv',\n",
       " './data/baseballdatabank_2020_to_2023/core/2022_PitchingPost.csv',\n",
       " './data/baseballdatabank_2020_to_2023/core/2022_SeriesPost.csv',\n",
       " './data/baseballdatabank_2020_to_2023/core/2022_Teams.csv',\n",
       " './data/baseballdatabank_2020_to_2023/core/2022_TeamsHalf.csv',\n",
       " './data/baseballdatabank_2020_to_2023/upstream/2020_Teams.csv',\n",
       " './data/baseballdatabank_2020_to_2023/upstream/2021_Teams.csv',\n",
       " './data/baseballdatabank_2020_to_2023/upstream/2022_Teams.csv']"
      ]
     },
     "execution_count": 17,
     "metadata": {},
     "output_type": "execute_result"
    }
   ],
   "source": [
    "(new_paths := [path.replace(\"\\\\\", \"/\") for path in paths])"
   ]
  },
  {
   "cell_type": "markdown",
   "id": "e446ded9-fbdc-4d4a-ae57-a1f97d1f7664",
   "metadata": {},
   "source": [
    "#### Working pipe"
   ]
  },
  {
   "cell_type": "code",
   "execution_count": 52,
   "id": "e117b8b1-9c36-48c4-8772-a688105bee39",
   "metadata": {},
   "outputs": [
    {
     "data": {
      "text/plain": [
       "0"
      ]
     },
     "execution_count": 52,
     "metadata": {},
     "output_type": "execute_result"
    }
   ],
   "source": [
    "# some useful tools\n",
    "list(range(10)) >> tup.first"
   ]
  },
  {
   "cell_type": "code",
   "execution_count": 53,
   "id": "1885f27f-a237-487c-a4e5-881f7523be48",
   "metadata": {},
   "outputs": [
    {
     "data": {
      "text/plain": [
       "[1, 2, 3, 4, 5, 6, 7, 8, 9]"
      ]
     },
     "execution_count": 53,
     "metadata": {},
     "output_type": "execute_result"
    }
   ],
   "source": [
    "list(range(10)) >> tup.rest"
   ]
  },
  {
   "cell_type": "code",
   "execution_count": 63,
   "id": "095c8761-13be-4fe2-b2b0-417522e2655d",
   "metadata": {},
   "outputs": [
    {
     "ename": "TypeError",
     "evalue": "can only concatenate list (not \"str\") to list",
     "output_type": "error",
     "traceback": [
      "\u001b[1;31m---------------------------------------------------------------------------\u001b[0m",
      "\u001b[1;31mTypeError\u001b[0m                                 Traceback (most recent call last)",
      "Cell \u001b[1;32mIn[63], line 1\u001b[0m\n\u001b[1;32m----> 1\u001b[0m (\u001b[43mnew_paths\u001b[49m\u001b[43m \u001b[49m\n\u001b[0;32m      2\u001b[0m \u001b[43m \u001b[49m\u001b[38;5;241;43m>>\u001b[39;49m\u001b[43m \u001b[49m\u001b[38;5;28;43mmap\u001b[39;49m\u001b[43m(\u001b[49m\u001b[43mrec\u001b[49m\u001b[38;5;241;43m.\u001b[39;49m\u001b[43mcreate\u001b[49m\u001b[43m \u001b[49m\u001b[43m(\u001b[49m\u001b[43mpath\u001b[49m\u001b[43m \u001b[49m\u001b[38;5;241;43m=\u001b[39;49m\u001b[43m \u001b[49m\u001b[43midentity\u001b[49m\u001b[43m,\u001b[49m\u001b[43m                           \u001b[49m\u001b[38;5;66;43;03m# use map - outside is a list[]\u001b[39;49;00m\n\u001b[0;32m      3\u001b[0m \u001b[43m                    \u001b[49m\u001b[43mlines\u001b[49m\u001b[43m \u001b[49m\u001b[38;5;241;43m=\u001b[39;49m\u001b[43m  \u001b[49m\u001b[43mwith_open\u001b[49m\u001b[43m(\u001b[49m\u001b[43mobj\u001b[49m\u001b[38;5;241;43m.\u001b[39;49m\u001b[43mreadlines\u001b[49m\u001b[43m(\u001b[49m\u001b[43m)\u001b[49m\u001b[43m)\u001b[49m\u001b[43m,\u001b[49m\u001b[43m       \u001b[49m\u001b[38;5;66;43;03m# read in lines, you could use lambda\u001b[39;49;00m\n\u001b[0;32m      4\u001b[0m \u001b[43m                   \u001b[49m\u001b[43m)\u001b[49m\n\u001b[0;32m      5\u001b[0m \u001b[43m       \u001b[49m\u001b[43m)\u001b[49m\u001b[43m \u001b[49m\n\u001b[0;32m      6\u001b[0m \u001b[43m \u001b[49m\u001b[38;5;241;43m>>\u001b[39;49m\u001b[43m \u001b[49m\u001b[38;5;28;43mmap\u001b[39;49m\u001b[43m(\u001b[49m\u001b[43mrec\u001b[49m\u001b[38;5;241;43m.\u001b[39;49m\u001b[43mupdate\u001b[49m\u001b[43m(\u001b[49m\u001b[43mlen_lines\u001b[49m\u001b[43m \u001b[49m\u001b[38;5;241;43m=\u001b[39;49m\u001b[43m \u001b[49m\u001b[38;5;28;43;01mlambda\u001b[39;49;00m\u001b[43m \u001b[49m\u001b[43mr\u001b[49m\u001b[43m:\u001b[49m\u001b[43m \u001b[49m\u001b[38;5;28;43mlen\u001b[39;49m\u001b[43m(\u001b[49m\u001b[43mr\u001b[49m\u001b[38;5;241;43m.\u001b[39;49m\u001b[43mlines\u001b[49m\u001b[43m)\u001b[49m\u001b[43m,\u001b[49m\u001b[43m         \u001b[49m\u001b[38;5;66;43;03m# get the length of lines \u001b[39;49;00m\n\u001b[0;32m      7\u001b[0m \u001b[43m                  \u001b[49m\u001b[43m)\u001b[49m\n\u001b[0;32m      8\u001b[0m \u001b[43m       \u001b[49m\u001b[43m)\u001b[49m\n\u001b[0;32m      9\u001b[0m \u001b[43m \u001b[49m\u001b[38;5;241;43m>>\u001b[39;49m\u001b[43m \u001b[49m\u001b[38;5;28;43mfilter\u001b[39;49m\u001b[43m(\u001b[49m\u001b[38;5;28;43;01mlambda\u001b[39;49;00m\u001b[43m \u001b[49m\u001b[43mr\u001b[49m\u001b[43m:\u001b[49m\u001b[43m \u001b[49m\u001b[43mr\u001b[49m\u001b[38;5;241;43m.\u001b[39;49m\u001b[43mlen_lines\u001b[49m\u001b[43m \u001b[49m\u001b[38;5;241;43m>\u001b[39;49m\u001b[43m \u001b[49m\u001b[38;5;241;43m1\u001b[39;49m\u001b[43m)\u001b[49m\u001b[43m                          \u001b[49m\u001b[38;5;66;43;03m# filter out the length bigger than 1 \u001b[39;49;00m\n\u001b[0;32m     10\u001b[0m \u001b[43m \u001b[49m\u001b[38;5;241;43m>>\u001b[39;49m\u001b[43m \u001b[49m\u001b[38;5;28;43mmap\u001b[39;49m\u001b[43m(\u001b[49m\u001b[43mrec\u001b[49m\u001b[38;5;241;43m.\u001b[39;49m\u001b[43mupdate\u001b[49m\u001b[43m(\u001b[49m\u001b[43mfile\u001b[49m\u001b[43m \u001b[49m\u001b[38;5;241;43m=\u001b[39;49m\u001b[43m \u001b[49m\u001b[38;5;28;43;01mlambda\u001b[39;49;00m\u001b[43m \u001b[49m\u001b[43mr\u001b[49m\u001b[43m:\u001b[49m\u001b[43m \u001b[49m\u001b[43mr\u001b[49m\u001b[38;5;241;43m.\u001b[39;49m\u001b[43mpath\u001b[49m\u001b[43m \u001b[49m\u001b[38;5;241;43m>>\u001b[39;49m\u001b[43m \u001b[49m\u001b[43mobj\u001b[49m\u001b[38;5;241;43m.\u001b[39;49m\u001b[43msplit\u001b[49m\u001b[43m(\u001b[49m\u001b[38;5;124;43m'\u001b[39;49m\u001b[38;5;124;43m/\u001b[39;49m\u001b[38;5;124;43m'\u001b[39;49m\u001b[43m)\u001b[49m\u001b[43m \u001b[49m\u001b[38;5;241;43m>>\u001b[39;49m\u001b[43m \u001b[49m\u001b[43mget\u001b[49m\u001b[43m(\u001b[49m\u001b[38;5;241;43m-\u001b[39;49m\u001b[38;5;241;43m1\u001b[39;49m\u001b[43m)\u001b[49m\u001b[43m,\u001b[49m\n\u001b[0;32m     11\u001b[0m \u001b[43m                   \u001b[49m\u001b[43mfile_name\u001b[49m\u001b[43m \u001b[49m\u001b[38;5;241;43m=\u001b[39;49m\u001b[43m \u001b[49m\u001b[38;5;28;43;01mlambda\u001b[39;49;00m\u001b[43m \u001b[49m\u001b[43mr\u001b[49m\u001b[43m:\u001b[49m\u001b[43m \u001b[49m\u001b[43mr\u001b[49m\u001b[38;5;241;43m.\u001b[39;49m\u001b[43mfile\u001b[49m\u001b[38;5;241;43m.\u001b[39;49m\u001b[43msplit\u001b[49m\u001b[43m(\u001b[49m\u001b[38;5;124;43m'\u001b[39;49m\u001b[38;5;124;43m.\u001b[39;49m\u001b[38;5;124;43m'\u001b[39;49m\u001b[43m)\u001b[49m\u001b[43m \u001b[49m\u001b[38;5;241;43m>>\u001b[39;49m\u001b[43m \u001b[49m\u001b[43mget\u001b[49m\u001b[43m(\u001b[49m\u001b[38;5;241;43m0\u001b[39;49m\u001b[43m)\u001b[49m\u001b[43m,\u001b[49m\n\u001b[0;32m     12\u001b[0m \u001b[43m                   \u001b[49m\u001b[43myear\u001b[49m\u001b[43m \u001b[49m\u001b[38;5;241;43m=\u001b[39;49m\u001b[43m \u001b[49m\u001b[38;5;28;43;01mlambda\u001b[39;49;00m\u001b[43m \u001b[49m\u001b[43mr\u001b[49m\u001b[43m:\u001b[49m\u001b[43m \u001b[49m\u001b[43mr\u001b[49m\u001b[38;5;241;43m.\u001b[39;49m\u001b[43mfile_name\u001b[49m\u001b[38;5;241;43m.\u001b[39;49m\u001b[43msplit\u001b[49m\u001b[43m(\u001b[49m\u001b[38;5;124;43m'\u001b[39;49m\u001b[38;5;124;43m_\u001b[39;49m\u001b[38;5;124;43m'\u001b[39;49m\u001b[43m)\u001b[49m\u001b[43m \u001b[49m\u001b[38;5;241;43m>>\u001b[39;49m\u001b[43m \u001b[49m\u001b[43mget\u001b[49m\u001b[43m(\u001b[49m\u001b[38;5;241;43m0\u001b[39;49m\u001b[43m)\u001b[49m\u001b[43m \u001b[49m\u001b[38;5;241;43m>>\u001b[39;49m\u001b[43m \u001b[49m\u001b[43mapply\u001b[49m\u001b[43m(\u001b[49m\u001b[38;5;28;43mint\u001b[39;49m\u001b[43m)\u001b[49m\u001b[43m,\u001b[49m\u001b[43m \u001b[49m\u001b[38;5;66;43;03m# so that you can filter out in order\u001b[39;49;00m\n\u001b[0;32m     13\u001b[0m \u001b[43m                   \u001b[49m\u001b[43mfolder\u001b[49m\u001b[43m \u001b[49m\u001b[38;5;241;43m=\u001b[39;49m\u001b[43m \u001b[49m\u001b[38;5;28;43;01mlambda\u001b[39;49;00m\u001b[43m \u001b[49m\u001b[43mr\u001b[49m\u001b[43m:\u001b[49m\u001b[43m \u001b[49m\u001b[43mr\u001b[49m\u001b[38;5;241;43m.\u001b[39;49m\u001b[43mpath\u001b[49m\u001b[38;5;241;43m.\u001b[39;49m\u001b[43msplit\u001b[49m\u001b[43m(\u001b[49m\u001b[38;5;124;43m'\u001b[39;49m\u001b[38;5;124;43m/20\u001b[39;49m\u001b[38;5;124;43m'\u001b[39;49m\u001b[43m)\u001b[49m\u001b[43m \u001b[49m\u001b[38;5;241;43m>>\u001b[39;49m\u001b[43m \u001b[49m\u001b[43mget\u001b[49m\u001b[43m(\u001b[49m\u001b[38;5;241;43m0\u001b[39;49m\u001b[43m)\u001b[49m\u001b[43m \u001b[49m\u001b[38;5;241;43m>>\u001b[39;49m\u001b[43m \u001b[49m\u001b[43mapply\u001b[49m\u001b[43m(\u001b[49m\u001b[38;5;28;43;01mlambda\u001b[39;49;00m\u001b[43m \u001b[49m\u001b[43ms\u001b[49m\u001b[43m:\u001b[49m\u001b[43m \u001b[49m\u001b[43ms\u001b[49m\u001b[43m \u001b[49m\u001b[38;5;241;43m+\u001b[39;49m\u001b[43m \u001b[49m\u001b[38;5;124;43m'\u001b[39;49m\u001b[38;5;124;43m/\u001b[39;49m\u001b[38;5;124;43m'\u001b[39;49m\u001b[43m)\u001b[49m\u001b[43m,\u001b[49m\n\u001b[0;32m     14\u001b[0m \u001b[43m                   \u001b[49m\u001b[43mtype_\u001b[49m\u001b[43m \u001b[49m\u001b[38;5;241;43m=\u001b[39;49m\u001b[43m \u001b[49m\u001b[38;5;28;43;01mlambda\u001b[39;49;00m\u001b[43m \u001b[49m\u001b[43mr\u001b[49m\u001b[43m:\u001b[49m\u001b[43m \u001b[49m\u001b[43mr\u001b[49m\u001b[38;5;241;43m.\u001b[39;49m\u001b[43mfile_name\u001b[49m\u001b[38;5;241;43m.\u001b[39;49m\u001b[43msplit\u001b[49m\u001b[43m(\u001b[49m\u001b[38;5;124;43m'\u001b[39;49m\u001b[38;5;124;43m_\u001b[39;49m\u001b[38;5;124;43m'\u001b[39;49m\u001b[43m)\u001b[49m\u001b[43m \u001b[49m\u001b[38;5;241;43m>>\u001b[39;49m\u001b[43m \u001b[49m\u001b[43mget\u001b[49m\u001b[43m(\u001b[49m\u001b[38;5;241;43m-\u001b[39;49m\u001b[38;5;241;43m1\u001b[39;49m\u001b[43m)\u001b[49m\u001b[43m,\u001b[49m\n\u001b[0;32m     15\u001b[0m \u001b[43m                   \u001b[49m\u001b[43mheader\u001b[49m\u001b[43m \u001b[49m\u001b[38;5;241;43m=\u001b[39;49m\u001b[43m \u001b[49m\u001b[38;5;28;43;01mlambda\u001b[39;49;00m\u001b[43m \u001b[49m\u001b[43mr\u001b[49m\u001b[43m:\u001b[49m\u001b[43m \u001b[49m\u001b[43mr\u001b[49m\u001b[38;5;241;43m.\u001b[39;49m\u001b[43mlines\u001b[49m\u001b[43m \u001b[49m\u001b[38;5;241;43m>>\u001b[39;49m\u001b[43m \u001b[49m\u001b[43mtup\u001b[49m\u001b[38;5;241;43m.\u001b[39;49m\u001b[43mfirst\u001b[49m\u001b[43m,\u001b[49m\u001b[43m \u001b[49m\u001b[38;5;66;43;03m#get(0),\u001b[39;49;00m\n\u001b[0;32m     16\u001b[0m \u001b[43m                   \u001b[49m\u001b[43mbody\u001b[49m\u001b[43m \u001b[49m\u001b[38;5;241;43m=\u001b[39;49m\u001b[43m \u001b[49m\u001b[38;5;28;43;01mlambda\u001b[39;49;00m\u001b[43m \u001b[49m\u001b[43mr\u001b[49m\u001b[43m:\u001b[49m\u001b[43m \u001b[49m\u001b[43mr\u001b[49m\u001b[38;5;241;43m.\u001b[39;49m\u001b[43mlines\u001b[49m\u001b[43m \u001b[49m\u001b[38;5;241;43m>>\u001b[39;49m\u001b[43m \u001b[49m\u001b[43mtup\u001b[49m\u001b[38;5;241;43m.\u001b[39;49m\u001b[43mrest\u001b[49m\u001b[43m,\u001b[49m\n\u001b[0;32m     17\u001b[0m \u001b[43m                   \u001b[49m\u001b[43msequential\u001b[49m\u001b[43m \u001b[49m\u001b[38;5;241;43m=\u001b[39;49m\u001b[43m \u001b[49m\u001b[38;5;28;43;01mTrue\u001b[39;49;00m\n\u001b[0;32m     18\u001b[0m \u001b[43m                  \u001b[49m\u001b[43m)\u001b[49m\n\u001b[0;32m     19\u001b[0m \u001b[43m       \u001b[49m\u001b[43m)\u001b[49m\n\u001b[0;32m     20\u001b[0m \u001b[43m \u001b[49m\u001b[38;5;241;43m>>\u001b[39;49m\u001b[43m \u001b[49m\u001b[38;5;28;43mmap\u001b[39;49m\u001b[43m(\u001b[49m\u001b[43mrec\u001b[49m\u001b[38;5;241;43m.\u001b[39;49m\u001b[43mapply\u001b[49m\u001b[43m(\u001b[49m\u001b[43mheader\u001b[49m\u001b[43m \u001b[49m\u001b[38;5;241;43m=\u001b[39;49m\u001b[43m \u001b[49m\u001b[38;5;28;43;01mlambda\u001b[39;49;00m\u001b[43m \u001b[49m\u001b[43ms\u001b[49m\u001b[43m:\u001b[49m\u001b[43m \u001b[49m\u001b[38;5;124;43m'\u001b[39;49m\u001b[38;5;124;43myearID,\u001b[39;49m\u001b[38;5;124;43m'\u001b[39;49m\u001b[43m \u001b[49m\u001b[38;5;241;43m+\u001b[39;49m\u001b[43m \u001b[49m\u001b[43ms\u001b[49m\u001b[43m)\u001b[49m\u001b[43m)\u001b[49m\n\u001b[0;32m     21\u001b[0m \u001b[43m \u001b[49m\u001b[38;5;241;43m>>\u001b[39;49m\u001b[43m \u001b[49m\u001b[38;5;28;43mmap\u001b[39;49m\u001b[43m(\u001b[49m\u001b[43mrec\u001b[49m\u001b[38;5;241;43m.\u001b[39;49m\u001b[43mupdate\u001b[49m\u001b[43m(\u001b[49m\u001b[43mbody\u001b[49m\u001b[43m \u001b[49m\u001b[38;5;241;43m=\u001b[39;49m\u001b[43m \u001b[49m\u001b[38;5;28;43;01mlambda\u001b[39;49;00m\u001b[43m \u001b[49m\u001b[43mr\u001b[49m\u001b[43m:\u001b[49m\u001b[43m \u001b[49m\u001b[43mr\u001b[49m\u001b[38;5;241;43m.\u001b[39;49m\u001b[43mbody\u001b[49m\u001b[43m \u001b[49m\u001b[38;5;241;43m>>\u001b[39;49m\u001b[43m \u001b[49m\u001b[38;5;28;43mmap\u001b[39;49m\u001b[43m(\u001b[49m\u001b[38;5;28;43;01mlambda\u001b[39;49;00m\u001b[43m \u001b[49m\u001b[43mline\u001b[49m\u001b[43m:\u001b[49m\u001b[43m \u001b[49m\u001b[38;5;28;43mstr\u001b[39;49m\u001b[43m(\u001b[49m\u001b[43mr\u001b[49m\u001b[38;5;241;43m.\u001b[39;49m\u001b[43myear\u001b[49m\u001b[43m)\u001b[49m\u001b[43m \u001b[49m\u001b[38;5;241;43m+\u001b[39;49m\u001b[43m \u001b[49m\u001b[38;5;124;43m'\u001b[39;49m\u001b[38;5;124;43m,\u001b[39;49m\u001b[38;5;124;43m'\u001b[39;49m\u001b[43m \u001b[49m\u001b[38;5;241;43m+\u001b[39;49m\u001b[43m \u001b[49m\u001b[43mline\u001b[49m\u001b[43m)\u001b[49m\u001b[43m,\u001b[49m\n\u001b[0;32m     22\u001b[0m \u001b[43m                  \u001b[49m\u001b[43m)\u001b[49m\n\u001b[0;32m     23\u001b[0m \u001b[43m       \u001b[49m\u001b[43m)\u001b[49m\n\u001b[0;32m     24\u001b[0m \u001b[43m \u001b[49m\u001b[38;5;241;43m>>\u001b[39;49m\u001b[43m \u001b[49m\u001b[43mrec\u001b[49m\u001b[38;5;241;43m.\u001b[39;49m\u001b[43mgroup_by\u001b[49m\u001b[43m(\u001b[49m\u001b[38;5;124;43m'\u001b[39;49m\u001b[38;5;124;43mtype_\u001b[39;49m\u001b[38;5;124;43m'\u001b[39;49m\u001b[43m)\u001b[49m\n\u001b[0;32m     25\u001b[0m \u001b[43m \u001b[49m\u001b[38;5;241;43m>>\u001b[39;49m\u001b[43m \u001b[49m\u001b[43mrec\u001b[49m\u001b[38;5;241;43m.\u001b[39;49m\u001b[43mmap\u001b[49m\u001b[43m(\u001b[49m\u001b[43mrec\u001b[49m\u001b[38;5;241;43m.\u001b[39;49m\u001b[43mzip_at\u001b[49m\u001b[43m(\u001b[49m\u001b[43m[\u001b[49m\u001b[38;5;124;43m'\u001b[39;49m\u001b[38;5;124;43mfolder\u001b[39;49m\u001b[38;5;124;43m'\u001b[39;49m\u001b[43m,\u001b[49m\u001b[43m \u001b[49m\u001b[38;5;124;43m'\u001b[39;49m\u001b[38;5;124;43mheader\u001b[39;49m\u001b[38;5;124;43m'\u001b[39;49m\u001b[43m,\u001b[49m\u001b[43m \u001b[49m\u001b[38;5;124;43m'\u001b[39;49m\u001b[38;5;124;43mtype_\u001b[39;49m\u001b[38;5;124;43m'\u001b[39;49m\u001b[43m,\u001b[49m\u001b[43m \u001b[49m\u001b[38;5;124;43m'\u001b[39;49m\u001b[38;5;124;43mbody\u001b[39;49m\u001b[38;5;124;43m'\u001b[39;49m\u001b[43m]\u001b[49m\u001b[43m)\u001b[49m\u001b[43m)\u001b[49m\n\u001b[0;32m     26\u001b[0m \u001b[43m \u001b[49m\u001b[38;5;241;43m>>\u001b[39;49m\u001b[43m \u001b[49m\u001b[43mrec\u001b[49m\u001b[38;5;241;43m.\u001b[39;49m\u001b[43mmap\u001b[49m\u001b[43m(\u001b[49m\u001b[43mrec\u001b[49m\u001b[38;5;241;43m.\u001b[39;49m\u001b[43mapply\u001b[49m\u001b[43m(\u001b[49m\u001b[43mheader\u001b[49m\u001b[43m \u001b[49m\u001b[38;5;241;43m=\u001b[39;49m\u001b[43m \u001b[49m\u001b[43mtup\u001b[49m\u001b[38;5;241;43m.\u001b[39;49m\u001b[43mfirst\u001b[49m\u001b[43m,\u001b[49m\n\u001b[0;32m     27\u001b[0m \u001b[43m                      \u001b[49m\u001b[43mfolder\u001b[49m\u001b[43m \u001b[49m\u001b[38;5;241;43m=\u001b[39;49m\u001b[43m \u001b[49m\u001b[43mtup\u001b[49m\u001b[38;5;241;43m.\u001b[39;49m\u001b[43mrest\u001b[49m\u001b[43m,\u001b[49m\n\u001b[0;32m     28\u001b[0m \u001b[43m                      \u001b[49m\u001b[43mtype_\u001b[49m\u001b[43m \u001b[49m\u001b[38;5;241;43m=\u001b[39;49m\u001b[43m \u001b[49m\u001b[43mtup\u001b[49m\u001b[38;5;241;43m.\u001b[39;49m\u001b[43mfirst\u001b[49m\u001b[43m,\u001b[49m\u001b[43m \u001b[49m\n\u001b[0;32m     29\u001b[0m \u001b[43m                     \u001b[49m\u001b[43m)\u001b[49m\n\u001b[0;32m     30\u001b[0m \u001b[43m           \u001b[49m\u001b[43m)\u001b[49m\n\u001b[0;32m     31\u001b[0m \u001b[43m \u001b[49m\u001b[38;5;241;43m>>\u001b[39;49m\u001b[43m \u001b[49m\u001b[43mrec\u001b[49m\u001b[38;5;241;43m.\u001b[39;49m\u001b[43mmap\u001b[49m\u001b[43m(\u001b[49m\u001b[43mrec\u001b[49m\u001b[38;5;241;43m.\u001b[39;49m\u001b[43mupdate\u001b[49m\u001b[43m(\u001b[49m\u001b[43moutpath\u001b[49m\u001b[43m \u001b[49m\u001b[38;5;241;43m=\u001b[39;49m\u001b[43m \u001b[49m\u001b[38;5;28;43;01mlambda\u001b[39;49;00m\u001b[43m \u001b[49m\u001b[43mr\u001b[49m\u001b[43m:\u001b[49m\u001b[43m \u001b[49m\u001b[43mr\u001b[49m\u001b[43m[\u001b[49m\u001b[38;5;124;43m'\u001b[39;49m\u001b[38;5;124;43mfolder\u001b[39;49m\u001b[38;5;124;43m'\u001b[39;49m\u001b[43m]\u001b[49m\u001b[43m \u001b[49m\u001b[38;5;241;43m+\u001b[39;49m\u001b[43m \u001b[49m\u001b[43mr\u001b[49m\u001b[43m[\u001b[49m\u001b[38;5;124;43m'\u001b[39;49m\u001b[38;5;124;43mtype_\u001b[39;49m\u001b[38;5;124;43m'\u001b[39;49m\u001b[43m]\u001b[49m\u001b[43m \u001b[49m\u001b[38;5;241;43m+\u001b[39;49m\u001b[43m \u001b[49m\u001b[38;5;124;43m'\u001b[39;49m\u001b[38;5;124;43m.csv\u001b[39;49m\u001b[38;5;124;43m'\u001b[39;49m\u001b[43m)\u001b[49m\u001b[43m)\u001b[49m \u001b[38;5;66;03m# this is how you access from dict\u001b[39;00m\n\u001b[0;32m     32\u001b[0m  \u001b[38;5;241m>>\u001b[39m rec\u001b[38;5;241m.\u001b[39mmap(rec\u001b[38;5;241m.\u001b[39mupdate(body \u001b[38;5;241m=\u001b[39m \u001b[38;5;28;01mlambda\u001b[39;00m r: r[\u001b[38;5;124m'\u001b[39m\u001b[38;5;124mbody\u001b[39m\u001b[38;5;124m'\u001b[39m] \u001b[38;5;241m>>\u001b[39m fold(add, [r[\u001b[38;5;124m'\u001b[39m\u001b[38;5;124mheader\u001b[39m\u001b[38;5;124m'\u001b[39m]]),\n\u001b[0;32m     33\u001b[0m                       )\n\u001b[0;32m     34\u001b[0m            )\n\u001b[0;32m     35\u001b[0m \u001b[38;5;66;03m#)\u001b[39;00m\n\u001b[0;32m     36\u001b[0m \u001b[38;5;66;03m# ) >> map(rec.readable_output(num_keys=10, max_len_seq=5)) # for list[] of records\u001b[39;00m\n\u001b[0;32m     37\u001b[0m ) \u001b[38;5;241m>>\u001b[39m rec\u001b[38;5;241m.\u001b[39mreadable_output(num_keys\u001b[38;5;241m=\u001b[39m\u001b[38;5;241m5\u001b[39m, max_len_seq\u001b[38;5;241m=\u001b[39m\u001b[38;5;241m3\u001b[39m) \u001b[38;5;66;03m# for record of lists\u001b[39;00m\n",
      "File \u001b[1;32m~\\AppData\\Local\\anaconda3\\envs\\polars\\Lib\\site-packages\\composable\\pipeable.py:18\u001b[0m, in \u001b[0;36mpipeable.__rrshift__\u001b[1;34m(self, other)\u001b[0m\n\u001b[0;32m     13\u001b[0m \u001b[38;5;28;01mdef\u001b[39;00m \u001b[38;5;21m__rrshift__\u001b[39m(\u001b[38;5;28mself\u001b[39m, other):\n\u001b[0;32m     14\u001b[0m \u001b[38;5;250m    \u001b[39m\u001b[38;5;124;03m\"\"\" Use rightshift to represent piping (i.e. `x >> f` is `f(x)`).\u001b[39;00m\n\u001b[0;32m     15\u001b[0m \n\u001b[0;32m     16\u001b[0m \u001b[38;5;124;03m    Note that this form of piping assumes a unary function call.\u001b[39;00m\n\u001b[0;32m     17\u001b[0m \u001b[38;5;124;03m    Use a curried/partial function to allow piping n-ary functions.\"\"\"\u001b[39;00m\n\u001b[1;32m---> 18\u001b[0m     \u001b[38;5;28;01mreturn\u001b[39;00m \u001b[38;5;28;43mself\u001b[39;49m\u001b[38;5;241;43m.\u001b[39;49m\u001b[38;5;21;43m__call__\u001b[39;49m\u001b[43m(\u001b[49m\u001b[43mother\u001b[49m\u001b[43m)\u001b[49m\n",
      "File \u001b[1;32m~\\AppData\\Local\\anaconda3\\envs\\polars\\Lib\\site-packages\\toolz\\functoolz.py:306\u001b[0m, in \u001b[0;36mcurry.__call__\u001b[1;34m(self, *args, **kwargs)\u001b[0m\n\u001b[0;32m    304\u001b[0m \u001b[38;5;28;01mdef\u001b[39;00m \u001b[38;5;21m__call__\u001b[39m(\u001b[38;5;28mself\u001b[39m, \u001b[38;5;241m*\u001b[39margs, \u001b[38;5;241m*\u001b[39m\u001b[38;5;241m*\u001b[39mkwargs):\n\u001b[0;32m    305\u001b[0m     \u001b[38;5;28;01mtry\u001b[39;00m:\n\u001b[1;32m--> 306\u001b[0m         \u001b[38;5;28;01mreturn\u001b[39;00m \u001b[38;5;28;43mself\u001b[39;49m\u001b[38;5;241;43m.\u001b[39;49m\u001b[43m_partial\u001b[49m\u001b[43m(\u001b[49m\u001b[38;5;241;43m*\u001b[39;49m\u001b[43margs\u001b[49m\u001b[43m,\u001b[49m\u001b[43m \u001b[49m\u001b[38;5;241;43m*\u001b[39;49m\u001b[38;5;241;43m*\u001b[39;49m\u001b[43mkwargs\u001b[49m\u001b[43m)\u001b[49m\n\u001b[0;32m    307\u001b[0m     \u001b[38;5;28;01mexcept\u001b[39;00m \u001b[38;5;167;01mTypeError\u001b[39;00m \u001b[38;5;28;01mas\u001b[39;00m exc:\n\u001b[0;32m    308\u001b[0m         \u001b[38;5;28;01mif\u001b[39;00m \u001b[38;5;28mself\u001b[39m\u001b[38;5;241m.\u001b[39m_should_curry(args, kwargs, exc):\n",
      "File \u001b[1;32m~\\OneDrive - Minnesota State\\Desktop\\Spring_2025\\DSCI_330\\act_2.8\\act2_8_composable_file_management_demo\\act2_8_composable_file_management_demo\\composable_records.py:94\u001b[0m, in \u001b[0;36mmap\u001b[1;34m(func, record)\u001b[0m\n\u001b[0;32m     82\u001b[0m \u001b[38;5;129m@pipeable\u001b[39m\n\u001b[0;32m     83\u001b[0m \u001b[38;5;28;01mdef\u001b[39;00m \u001b[38;5;21mmap\u001b[39m(func, record):\n\u001b[0;32m     84\u001b[0m \u001b[38;5;250m    \u001b[39m\u001b[38;5;124;03m\"\"\" Maps `func` to all values of a record.\u001b[39;00m\n\u001b[0;32m     85\u001b[0m \n\u001b[0;32m     86\u001b[0m \u001b[38;5;124;03m    Args.\u001b[39;00m\n\u001b[1;32m   (...)\u001b[0m\n\u001b[0;32m     92\u001b[0m \n\u001b[0;32m     93\u001b[0m \u001b[38;5;124;03m    \"\"\"\u001b[39;00m\n\u001b[1;32m---> 94\u001b[0m     out_dict \u001b[38;5;241m=\u001b[39m {k:\u001b[43mfunc\u001b[49m\u001b[43m(\u001b[49m\u001b[43mval\u001b[49m\u001b[43m)\u001b[49m \u001b[38;5;28;01mfor\u001b[39;00m k, val \u001b[38;5;129;01min\u001b[39;00m record\u001b[38;5;241m.\u001b[39mitems()}\n\u001b[0;32m     95\u001b[0m     \u001b[38;5;28;01mreturn\u001b[39;00m _maybe_return_record(record, out_dict)\n",
      "File \u001b[1;32m~\\AppData\\Local\\anaconda3\\envs\\polars\\Lib\\site-packages\\toolz\\functoolz.py:306\u001b[0m, in \u001b[0;36mcurry.__call__\u001b[1;34m(self, *args, **kwargs)\u001b[0m\n\u001b[0;32m    304\u001b[0m \u001b[38;5;28;01mdef\u001b[39;00m \u001b[38;5;21m__call__\u001b[39m(\u001b[38;5;28mself\u001b[39m, \u001b[38;5;241m*\u001b[39margs, \u001b[38;5;241m*\u001b[39m\u001b[38;5;241m*\u001b[39mkwargs):\n\u001b[0;32m    305\u001b[0m     \u001b[38;5;28;01mtry\u001b[39;00m:\n\u001b[1;32m--> 306\u001b[0m         \u001b[38;5;28;01mreturn\u001b[39;00m \u001b[38;5;28;43mself\u001b[39;49m\u001b[38;5;241;43m.\u001b[39;49m\u001b[43m_partial\u001b[49m\u001b[43m(\u001b[49m\u001b[38;5;241;43m*\u001b[39;49m\u001b[43margs\u001b[49m\u001b[43m,\u001b[49m\u001b[43m \u001b[49m\u001b[38;5;241;43m*\u001b[39;49m\u001b[38;5;241;43m*\u001b[39;49m\u001b[43mkwargs\u001b[49m\u001b[43m)\u001b[49m\n\u001b[0;32m    307\u001b[0m     \u001b[38;5;28;01mexcept\u001b[39;00m \u001b[38;5;167;01mTypeError\u001b[39;00m \u001b[38;5;28;01mas\u001b[39;00m exc:\n\u001b[0;32m    308\u001b[0m         \u001b[38;5;28;01mif\u001b[39;00m \u001b[38;5;28mself\u001b[39m\u001b[38;5;241m.\u001b[39m_should_curry(args, kwargs, exc):\n",
      "File \u001b[1;32m~\\OneDrive - Minnesota State\\Desktop\\Spring_2025\\DSCI_330\\act_2.8\\act2_8_composable_file_management_demo\\act2_8_composable_file_management_demo\\composable_records.py:132\u001b[0m, in \u001b[0;36mupdate\u001b[1;34m(record, sequential, **funcs)\u001b[0m\n\u001b[0;32m    130\u001b[0m     \u001b[38;5;28;01mreturn\u001b[39;00m base_reduce(update_record, funcs\u001b[38;5;241m.\u001b[39mitems(), record)\n\u001b[0;32m    131\u001b[0m \u001b[38;5;28;01melse\u001b[39;00m:\n\u001b[1;32m--> 132\u001b[0m     updates \u001b[38;5;241m=\u001b[39m {k:\u001b[43mf\u001b[49m\u001b[43m(\u001b[49m\u001b[43mrecord\u001b[49m\u001b[43m)\u001b[49m \u001b[38;5;28;01mfor\u001b[39;00m k, f \u001b[38;5;129;01min\u001b[39;00m funcs\u001b[38;5;241m.\u001b[39mitems()}\n\u001b[0;32m    133\u001b[0m     \u001b[38;5;28;01mreturn\u001b[39;00m _maybe_return_record(record, record \u001b[38;5;241m|\u001b[39m updates)\n",
      "Cell \u001b[1;32mIn[63], line 31\u001b[0m, in \u001b[0;36m<lambda>\u001b[1;34m(r)\u001b[0m\n\u001b[0;32m      1\u001b[0m (new_paths \n\u001b[0;32m      2\u001b[0m  \u001b[38;5;241m>>\u001b[39m \u001b[38;5;28mmap\u001b[39m(rec\u001b[38;5;241m.\u001b[39mcreate (path \u001b[38;5;241m=\u001b[39m identity,                           \u001b[38;5;66;03m# use map - outside is a list[]\u001b[39;00m\n\u001b[0;32m      3\u001b[0m                     lines \u001b[38;5;241m=\u001b[39m  with_open(obj\u001b[38;5;241m.\u001b[39mreadlines()),       \u001b[38;5;66;03m# read in lines, you could use lambda\u001b[39;00m\n\u001b[0;32m      4\u001b[0m                    )\n\u001b[0;32m      5\u001b[0m        ) \n\u001b[0;32m      6\u001b[0m  \u001b[38;5;241m>>\u001b[39m \u001b[38;5;28mmap\u001b[39m(rec\u001b[38;5;241m.\u001b[39mupdate(len_lines \u001b[38;5;241m=\u001b[39m \u001b[38;5;28;01mlambda\u001b[39;00m r: \u001b[38;5;28mlen\u001b[39m(r\u001b[38;5;241m.\u001b[39mlines),         \u001b[38;5;66;03m# get the length of lines \u001b[39;00m\n\u001b[0;32m      7\u001b[0m                   )\n\u001b[0;32m      8\u001b[0m        )\n\u001b[0;32m      9\u001b[0m  \u001b[38;5;241m>>\u001b[39m \u001b[38;5;28mfilter\u001b[39m(\u001b[38;5;28;01mlambda\u001b[39;00m r: r\u001b[38;5;241m.\u001b[39mlen_lines \u001b[38;5;241m>\u001b[39m \u001b[38;5;241m1\u001b[39m)                          \u001b[38;5;66;03m# filter out the length bigger than 1 \u001b[39;00m\n\u001b[0;32m     10\u001b[0m  \u001b[38;5;241m>>\u001b[39m \u001b[38;5;28mmap\u001b[39m(rec\u001b[38;5;241m.\u001b[39mupdate(file \u001b[38;5;241m=\u001b[39m \u001b[38;5;28;01mlambda\u001b[39;00m r: r\u001b[38;5;241m.\u001b[39mpath \u001b[38;5;241m>>\u001b[39m obj\u001b[38;5;241m.\u001b[39msplit(\u001b[38;5;124m'\u001b[39m\u001b[38;5;124m/\u001b[39m\u001b[38;5;124m'\u001b[39m) \u001b[38;5;241m>>\u001b[39m get(\u001b[38;5;241m-\u001b[39m\u001b[38;5;241m1\u001b[39m),\n\u001b[0;32m     11\u001b[0m                    file_name \u001b[38;5;241m=\u001b[39m \u001b[38;5;28;01mlambda\u001b[39;00m r: r\u001b[38;5;241m.\u001b[39mfile\u001b[38;5;241m.\u001b[39msplit(\u001b[38;5;124m'\u001b[39m\u001b[38;5;124m.\u001b[39m\u001b[38;5;124m'\u001b[39m) \u001b[38;5;241m>>\u001b[39m get(\u001b[38;5;241m0\u001b[39m),\n\u001b[0;32m     12\u001b[0m                    year \u001b[38;5;241m=\u001b[39m \u001b[38;5;28;01mlambda\u001b[39;00m r: r\u001b[38;5;241m.\u001b[39mfile_name\u001b[38;5;241m.\u001b[39msplit(\u001b[38;5;124m'\u001b[39m\u001b[38;5;124m_\u001b[39m\u001b[38;5;124m'\u001b[39m) \u001b[38;5;241m>>\u001b[39m get(\u001b[38;5;241m0\u001b[39m) \u001b[38;5;241m>>\u001b[39m apply(\u001b[38;5;28mint\u001b[39m), \u001b[38;5;66;03m# so that you can filter out in order\u001b[39;00m\n\u001b[0;32m     13\u001b[0m                    folder \u001b[38;5;241m=\u001b[39m \u001b[38;5;28;01mlambda\u001b[39;00m r: r\u001b[38;5;241m.\u001b[39mpath\u001b[38;5;241m.\u001b[39msplit(\u001b[38;5;124m'\u001b[39m\u001b[38;5;124m/20\u001b[39m\u001b[38;5;124m'\u001b[39m) \u001b[38;5;241m>>\u001b[39m get(\u001b[38;5;241m0\u001b[39m) \u001b[38;5;241m>>\u001b[39m apply(\u001b[38;5;28;01mlambda\u001b[39;00m s: s \u001b[38;5;241m+\u001b[39m \u001b[38;5;124m'\u001b[39m\u001b[38;5;124m/\u001b[39m\u001b[38;5;124m'\u001b[39m),\n\u001b[0;32m     14\u001b[0m                    type_ \u001b[38;5;241m=\u001b[39m \u001b[38;5;28;01mlambda\u001b[39;00m r: r\u001b[38;5;241m.\u001b[39mfile_name\u001b[38;5;241m.\u001b[39msplit(\u001b[38;5;124m'\u001b[39m\u001b[38;5;124m_\u001b[39m\u001b[38;5;124m'\u001b[39m) \u001b[38;5;241m>>\u001b[39m get(\u001b[38;5;241m-\u001b[39m\u001b[38;5;241m1\u001b[39m),\n\u001b[0;32m     15\u001b[0m                    header \u001b[38;5;241m=\u001b[39m \u001b[38;5;28;01mlambda\u001b[39;00m r: r\u001b[38;5;241m.\u001b[39mlines \u001b[38;5;241m>>\u001b[39m tup\u001b[38;5;241m.\u001b[39mfirst, \u001b[38;5;66;03m#get(0),\u001b[39;00m\n\u001b[0;32m     16\u001b[0m                    body \u001b[38;5;241m=\u001b[39m \u001b[38;5;28;01mlambda\u001b[39;00m r: r\u001b[38;5;241m.\u001b[39mlines \u001b[38;5;241m>>\u001b[39m tup\u001b[38;5;241m.\u001b[39mrest,\n\u001b[0;32m     17\u001b[0m                    sequential \u001b[38;5;241m=\u001b[39m \u001b[38;5;28;01mTrue\u001b[39;00m\n\u001b[0;32m     18\u001b[0m                   )\n\u001b[0;32m     19\u001b[0m        )\n\u001b[0;32m     20\u001b[0m  \u001b[38;5;241m>>\u001b[39m \u001b[38;5;28mmap\u001b[39m(rec\u001b[38;5;241m.\u001b[39mapply(header \u001b[38;5;241m=\u001b[39m \u001b[38;5;28;01mlambda\u001b[39;00m s: \u001b[38;5;124m'\u001b[39m\u001b[38;5;124myearID,\u001b[39m\u001b[38;5;124m'\u001b[39m \u001b[38;5;241m+\u001b[39m s))\n\u001b[0;32m     21\u001b[0m  \u001b[38;5;241m>>\u001b[39m \u001b[38;5;28mmap\u001b[39m(rec\u001b[38;5;241m.\u001b[39mupdate(body \u001b[38;5;241m=\u001b[39m \u001b[38;5;28;01mlambda\u001b[39;00m r: r\u001b[38;5;241m.\u001b[39mbody \u001b[38;5;241m>>\u001b[39m \u001b[38;5;28mmap\u001b[39m(\u001b[38;5;28;01mlambda\u001b[39;00m line: \u001b[38;5;28mstr\u001b[39m(r\u001b[38;5;241m.\u001b[39myear) \u001b[38;5;241m+\u001b[39m \u001b[38;5;124m'\u001b[39m\u001b[38;5;124m,\u001b[39m\u001b[38;5;124m'\u001b[39m \u001b[38;5;241m+\u001b[39m line),\n\u001b[0;32m     22\u001b[0m                   )\n\u001b[0;32m     23\u001b[0m        )\n\u001b[0;32m     24\u001b[0m  \u001b[38;5;241m>>\u001b[39m rec\u001b[38;5;241m.\u001b[39mgroup_by(\u001b[38;5;124m'\u001b[39m\u001b[38;5;124mtype_\u001b[39m\u001b[38;5;124m'\u001b[39m)\n\u001b[0;32m     25\u001b[0m  \u001b[38;5;241m>>\u001b[39m rec\u001b[38;5;241m.\u001b[39mmap(rec\u001b[38;5;241m.\u001b[39mzip_at([\u001b[38;5;124m'\u001b[39m\u001b[38;5;124mfolder\u001b[39m\u001b[38;5;124m'\u001b[39m, \u001b[38;5;124m'\u001b[39m\u001b[38;5;124mheader\u001b[39m\u001b[38;5;124m'\u001b[39m, \u001b[38;5;124m'\u001b[39m\u001b[38;5;124mtype_\u001b[39m\u001b[38;5;124m'\u001b[39m, \u001b[38;5;124m'\u001b[39m\u001b[38;5;124mbody\u001b[39m\u001b[38;5;124m'\u001b[39m]))\n\u001b[0;32m     26\u001b[0m  \u001b[38;5;241m>>\u001b[39m rec\u001b[38;5;241m.\u001b[39mmap(rec\u001b[38;5;241m.\u001b[39mapply(header \u001b[38;5;241m=\u001b[39m tup\u001b[38;5;241m.\u001b[39mfirst,\n\u001b[0;32m     27\u001b[0m                       folder \u001b[38;5;241m=\u001b[39m tup\u001b[38;5;241m.\u001b[39mrest,\n\u001b[0;32m     28\u001b[0m                       type_ \u001b[38;5;241m=\u001b[39m tup\u001b[38;5;241m.\u001b[39mfirst, \n\u001b[0;32m     29\u001b[0m                      )\n\u001b[0;32m     30\u001b[0m            )\n\u001b[1;32m---> 31\u001b[0m  \u001b[38;5;241m>>\u001b[39m rec\u001b[38;5;241m.\u001b[39mmap(rec\u001b[38;5;241m.\u001b[39mupdate(outpath \u001b[38;5;241m=\u001b[39m \u001b[38;5;28;01mlambda\u001b[39;00m r: \u001b[43mr\u001b[49m\u001b[43m[\u001b[49m\u001b[38;5;124;43m'\u001b[39;49m\u001b[38;5;124;43mfolder\u001b[39;49m\u001b[38;5;124;43m'\u001b[39;49m\u001b[43m]\u001b[49m\u001b[43m \u001b[49m\u001b[38;5;241;43m+\u001b[39;49m\u001b[43m \u001b[49m\u001b[43mr\u001b[49m\u001b[43m[\u001b[49m\u001b[38;5;124;43m'\u001b[39;49m\u001b[38;5;124;43mtype_\u001b[39;49m\u001b[38;5;124;43m'\u001b[39;49m\u001b[43m]\u001b[49m \u001b[38;5;241m+\u001b[39m \u001b[38;5;124m'\u001b[39m\u001b[38;5;124m.csv\u001b[39m\u001b[38;5;124m'\u001b[39m)) \u001b[38;5;66;03m# this is how you access from dict\u001b[39;00m\n\u001b[0;32m     32\u001b[0m  \u001b[38;5;241m>>\u001b[39m rec\u001b[38;5;241m.\u001b[39mmap(rec\u001b[38;5;241m.\u001b[39mupdate(body \u001b[38;5;241m=\u001b[39m \u001b[38;5;28;01mlambda\u001b[39;00m r: r[\u001b[38;5;124m'\u001b[39m\u001b[38;5;124mbody\u001b[39m\u001b[38;5;124m'\u001b[39m] \u001b[38;5;241m>>\u001b[39m fold(add, [r[\u001b[38;5;124m'\u001b[39m\u001b[38;5;124mheader\u001b[39m\u001b[38;5;124m'\u001b[39m]]),\n\u001b[0;32m     33\u001b[0m                       )\n\u001b[0;32m     34\u001b[0m            )\n\u001b[0;32m     35\u001b[0m \u001b[38;5;66;03m#)\u001b[39;00m\n\u001b[0;32m     36\u001b[0m \u001b[38;5;66;03m# ) >> map(rec.readable_output(num_keys=10, max_len_seq=5)) # for list[] of records\u001b[39;00m\n\u001b[0;32m     37\u001b[0m ) \u001b[38;5;241m>>\u001b[39m rec\u001b[38;5;241m.\u001b[39mreadable_output(num_keys\u001b[38;5;241m=\u001b[39m\u001b[38;5;241m5\u001b[39m, max_len_seq\u001b[38;5;241m=\u001b[39m\u001b[38;5;241m3\u001b[39m) \u001b[38;5;66;03m# for record of lists\u001b[39;00m\n",
      "\u001b[1;31mTypeError\u001b[0m: can only concatenate list (not \"str\") to list"
     ]
    }
   ],
   "source": [
    "(new_paths \n",
    " >> map(rec.create (path = identity,                           # use map - outside is a list[]\n",
    "                    lines =  with_open(obj.readlines()),       # read in lines, you could use lambda\n",
    "                   )\n",
    "       ) \n",
    " >> map(rec.update(len_lines = lambda r: len(r.lines),         # get the length of lines \n",
    "                  )\n",
    "       )\n",
    " >> filter(lambda r: r.len_lines > 1)                          # filter out the length bigger than 1 \n",
    " >> map(rec.update(file = lambda r: r.path >> obj.split('/') >> get(-1),\n",
    "                   file_name = lambda r: r.file.split('.') >> get(0),\n",
    "                   year = lambda r: r.file_name.split('_') >> get(0) >> apply(int), # so that you can filter out in order\n",
    "                   folder = lambda r: r.path.split('/20') >> get(0) >> apply(lambda s: s + '/'),\n",
    "                   type_ = lambda r: r.file_name.split('_') >> get(-1),\n",
    "                   header = lambda r: r.lines >> tup.first, #get(0),\n",
    "                   body = lambda r: r.lines >> tup.rest,\n",
    "                   sequential = True\n",
    "                  )\n",
    "       )\n",
    " >> map(rec.apply(header = lambda s: 'yearID,' + s))\n",
    " >> map(rec.update(body = lambda r: r.body >> map(lambda line: str(r.year) + ',' + line),\n",
    "                  )\n",
    "       )\n",
    " >> rec.group_by('type_')\n",
    " >> rec.map(rec.zip_at(['folder', 'header', 'type_', 'body']))\n",
    " >> rec.map(rec.apply(header = tup.first,\n",
    "                      folder = tup.rest,\n",
    "                      type_ = tup.first, \n",
    "                     )\n",
    "           )\n",
    " >> rec.map(rec.update(outpath = lambda r: r['folder'] + r['type_'] + '.csv')) # this is how you access from dict\n",
    " >> rec.map(rec.update(body = lambda r: r['body'] >> fold(add, [r['header']]),\n",
    "                      )\n",
    "           )\n",
    "#)\n",
    "# ) >> map(rec.readable_output(num_keys=10, max_len_seq=5)) # for list[] of records\n",
    ") >> rec.readable_output(num_keys=5, max_len_seq=3) # for record of lists"
   ]
  },
  {
   "cell_type": "code",
   "execution_count": 50,
   "id": "23bbc507-d8d8-46b1-8817-58bfd64e572f",
   "metadata": {},
   "outputs": [
    {
     "data": {
      "text/plain": [
       "[{'file': '2022_Pitching.csv',\n",
       "  'folder': './data/baseballdatabank_2020_to_2023/core/',\n",
       "  'year': 2022,\n",
       "  'name': '2022_Pitching',\n",
       "  'type_': 'Pitching',\n",
       "  'lines': ['playerID,stint,teamID,lgID,W,L,G,GS,CG,SHO,SV,IPouts,H,ER,HR,BB,SO,BAOpp,ERA,IBB,WP,HBP,BK,BFP,GF,R,SH,SF,GIDP\\n',\n",
       "   'abbotco01,1,WAS,NL,0,5,16,9,0,0,0,144,44,28,12,25,45,0.239,5.25,0,2,5,0,216,7,30,0,2,0\\n'],\n",
       "  'header': 'playerID,stint,teamID,lgID,W,L,G,GS,CG,SHO,SV,IPouts,H,ER,HR,BB,SO,BAOpp,ERA,IBB,WP,HBP,BK,BFP,GF,R,SH,SF,GIDP\\n',\n",
       "  'body': ['abbotco01,1,WAS,NL,0,5,16,9,0,0,0,144,44,28,12,25,45,0.239,5.25,0,2,5,0,216,7,30,0,2,0\\n',\n",
       "   'abreual01,1,TEX,AL,0,0,7,0,0,0,0,26,4,3,2,12,9,0.138,3.12,0,0,1,0,42,0,3,0,0,1\\n']},\n",
       " {'file': '2021_Pitching.csv',\n",
       "  'folder': './data/baseballdatabank_2020_to_2023/core/',\n",
       "  'year': 2021,\n",
       "  'name': '2021_Pitching',\n",
       "  'type_': 'Pitching',\n",
       "  'lines': ['playerID,stint,teamID,lgID,W,L,G,GS,CG,SHO,SV,IPouts,H,ER,HR,BB,SO,BAOpp,ERA,IBB,WP,HBP,BK,BFP,GF,R,SH,SF,GIDP\\n',\n",
       "   'abadfe01,1,BAL,AL,0,0,16,0,0,0,0,53,23,11,1,7,10,0.307,5.6,1,0,0,0,82,4,12,0,0,3\\n'],\n",
       "  'header': 'playerID,stint,teamID,lgID,W,L,G,GS,CG,SHO,SV,IPouts,H,ER,HR,BB,SO,BAOpp,ERA,IBB,WP,HBP,BK,BFP,GF,R,SH,SF,GIDP\\n',\n",
       "  'body': ['abadfe01,1,BAL,AL,0,0,16,0,0,0,0,53,23,11,1,7,10,0.307,5.6,1,0,0,0,82,4,12,0,0,3\\n',\n",
       "   'abbotco01,1,CHN,NL,0,0,7,1,0,0,0,52,20,13,7,11,12,0.286,6.75,0,2,0,0,82,2,15,1,0,0\\n']},\n",
       " {'file': '2020_Pitching.csv',\n",
       "  'folder': './data/baseballdatabank_2020_to_2023/core/',\n",
       "  'year': 2020,\n",
       "  'name': '2020_Pitching',\n",
       "  'type_': 'Pitching',\n",
       "  'lines': ['playerID,stint,teamID,lgID,W,L,G,GS,CG,SHO,SV,IPouts,H,ER,HR,BB,SO,BAOpp,ERA,IBB,WP,HBP,BK,BFP,GF,R,SH,SF,GIDP\\n',\n",
       "   'abreual01,1,NYA,AL,0,1,2,0,0,0,0,4,4,3,1,2,2,0.5,20.25,0,0,1,0,11,1,4,0,0,0\\n'],\n",
       "  'header': 'playerID,stint,teamID,lgID,W,L,G,GS,CG,SHO,SV,IPouts,H,ER,HR,BB,SO,BAOpp,ERA,IBB,WP,HBP,BK,BFP,GF,R,SH,SF,GIDP\\n',\n",
       "  'body': ['abreual01,1,NYA,AL,0,1,2,0,0,0,0,4,4,3,1,2,2,0.5,20.25,0,0,1,0,11,1,4,0,0,0\\n',\n",
       "   'abreubr01,1,HOU,AL,0,0,4,0,0,0,0,10,1,1,0,7,3,0.091,2.7,0,0,2,0,20,1,2,0,0,0\\n']}]"
      ]
     },
     "execution_count": 50,
     "metadata": {},
     "output_type": "execute_result"
    }
   ],
   "source": [
    "(pitching_files :=\n",
    " \"./data/baseballdatabank_2020_to_2023/**/20*_Pitching.csv\"\n",
    " >> glob(recursive=True)\n",
    " >> map(rec.create(file   =  get_file,\n",
    "                   folder =  get_folder,\n",
    "                   year   =  get_year,\n",
    "                   name   =  get_name,\n",
    "                   type_  =  get_type,\n",
    "                   lines  =  with_open(obj.readlines()),\n",
    "                   use_record_class=False\n",
    "                  )\n",
    "       )\n",
    " >> map(rec.update(header = lambda r: r >> get('lines') >> tup.first,\n",
    "                   body = lambda r: r >> get('lines') >> tup.rest,\n",
    "                  )\n",
    "       )\n",
    ") >> map(rec.heads(2))\n"
   ]
  },
  {
   "attachments": {},
   "cell_type": "markdown",
   "id": "0951be58-8404-4288-a139-0379cbc9f014",
   "metadata": {},
   "source": [
    "#### Add the year to the header and each row of the body\n",
    "\n",
    "**Comprehension code.**\n",
    "```python\n",
    " [record | {'header': 'yearID,' + record['header'],\n",
    "            'body'  : [str(record['year']) + ',' + line \n",
    "                       for line in record['body']\n",
    "                      ],\n",
    "           }\n",
    "     for record in header_and_body\n",
    " ]\n",
    "```\n",
    "**Functional Code.**\n",
    "```python\n",
    "### Access multiple keys ==> UPDATE\n",
    "(...\n",
    " >> map(rec.update(header = lambda r: r >> get('header') >> add_yearID,\n",
    "                   body = lambda r: r >> get('body') >> map(add_year_to_line(r['year'])),\n",
    "                  )\n",
    "       )\n",
    ")\n",
    "```"
   ]
  },
  {
   "cell_type": "code",
   "execution_count": 51,
   "id": "dbee421b-aaa1-4e7d-bec1-038b4fc7bdf5",
   "metadata": {},
   "outputs": [
    {
     "data": {
      "text/plain": [
       "[{'path': './data/baseballdatabank_2020_to_2023/core/2022_Pitching.csv',\n",
       "  'folder': './data/baseballdatabank_2020_to_2023/core/',\n",
       "  'year': 2022,\n",
       "  'name': '2022_Pitching',\n",
       "  'type_': 'Pitching',\n",
       "  'lines': ['playerID,stint,teamID,lgID,W,L,G,GS,CG,SHO,SV,IPouts,H,ER,HR,BB,SO,BAOpp,ERA,IBB,WP,HBP,BK,BFP,GF,R,SH,SF,GIDP\\n',\n",
       "   'abbotco01,1,WAS,NL,0,5,16,9,0,0,0,144,44,28,12,25,45,0.239,5.25,0,2,5,0,216,7,30,0,2,0\\n'],\n",
       "  'header': 'yearID,playerID,stint,teamID,lgID,W,L,G,GS,CG,SHO,SV,IPouts,H,ER,HR,BB,SO,BAOpp,ERA,IBB,WP,HBP,BK,BFP,GF,R,SH,SF,GIDP\\n',\n",
       "  'body': ['2022,abbotco01,1,WAS,NL,0,5,16,9,0,0,0,144,44,28,12,25,45,0.239,5.25,0,2,5,0,216,7,30,0,2,0\\n',\n",
       "   '2022,abreual01,1,TEX,AL,0,0,7,0,0,0,0,26,4,3,2,12,9,0.138,3.12,0,0,1,0,42,0,3,0,0,1\\n']},\n",
       " {'path': './data/baseballdatabank_2020_to_2023/core/2021_Pitching.csv',\n",
       "  'folder': './data/baseballdatabank_2020_to_2023/core/',\n",
       "  'year': 2021,\n",
       "  'name': '2021_Pitching',\n",
       "  'type_': 'Pitching',\n",
       "  'lines': ['playerID,stint,teamID,lgID,W,L,G,GS,CG,SHO,SV,IPouts,H,ER,HR,BB,SO,BAOpp,ERA,IBB,WP,HBP,BK,BFP,GF,R,SH,SF,GIDP\\n',\n",
       "   'abadfe01,1,BAL,AL,0,0,16,0,0,0,0,53,23,11,1,7,10,0.307,5.6,1,0,0,0,82,4,12,0,0,3\\n'],\n",
       "  'header': 'yearID,playerID,stint,teamID,lgID,W,L,G,GS,CG,SHO,SV,IPouts,H,ER,HR,BB,SO,BAOpp,ERA,IBB,WP,HBP,BK,BFP,GF,R,SH,SF,GIDP\\n',\n",
       "  'body': ['2021,abadfe01,1,BAL,AL,0,0,16,0,0,0,0,53,23,11,1,7,10,0.307,5.6,1,0,0,0,82,4,12,0,0,3\\n',\n",
       "   '2021,abbotco01,1,CHN,NL,0,0,7,1,0,0,0,52,20,13,7,11,12,0.286,6.75,0,2,0,0,82,2,15,1,0,0\\n']},\n",
       " {'path': './data/baseballdatabank_2020_to_2023/core/2020_Pitching.csv',\n",
       "  'folder': './data/baseballdatabank_2020_to_2023/core/',\n",
       "  'year': 2020,\n",
       "  'name': '2020_Pitching',\n",
       "  'type_': 'Pitching',\n",
       "  'lines': ['playerID,stint,teamID,lgID,W,L,G,GS,CG,SHO,SV,IPouts,H,ER,HR,BB,SO,BAOpp,ERA,IBB,WP,HBP,BK,BFP,GF,R,SH,SF,GIDP\\n',\n",
       "   'abreual01,1,NYA,AL,0,1,2,0,0,0,0,4,4,3,1,2,2,0.5,20.25,0,0,1,0,11,1,4,0,0,0\\n'],\n",
       "  'header': 'yearID,playerID,stint,teamID,lgID,W,L,G,GS,CG,SHO,SV,IPouts,H,ER,HR,BB,SO,BAOpp,ERA,IBB,WP,HBP,BK,BFP,GF,R,SH,SF,GIDP\\n',\n",
       "  'body': ['2020,abreual01,1,NYA,AL,0,1,2,0,0,0,0,4,4,3,1,2,2,0.5,20.25,0,0,1,0,11,1,4,0,0,0\\n',\n",
       "   '2020,abreubr01,1,HOU,AL,0,0,4,0,0,0,0,10,1,1,0,7,3,0.091,2.7,0,0,2,0,20,1,2,0,0,0\\n']}]"
      ]
     },
     "execution_count": 51,
     "metadata": {},
     "output_type": "execute_result"
    }
   ],
   "source": [
    "add_yearID = pipeable(lambda header: 'yearID,' + header)\n",
    "add_year_to_line =  pipeable(lambda year, line: str(year) + ',' + line)\n",
    "                         \n",
    "(pitching_files :=\n",
    " \"./data/baseballdatabank_2020_to_2023/**/20*_Pitching.csv\"\n",
    " >> glob(recursive=True)\n",
    " >> map(rec.create(path   =  identity,\n",
    "                   folder =  get_folder,\n",
    "                   year   =  get_year,\n",
    "                   name   =  get_name,\n",
    "                   type_  =  get_type,\n",
    "                   lines  =  with_open(obj.readlines()),\n",
    "                   use_record_class=False\n",
    "                  )\n",
    "       )\n",
    " >> map(rec.update(header = lambda r: r >> get('lines') >> tup.first,\n",
    "                   body = lambda r: r >> get('lines') >> tup.rest,\n",
    "                  )\n",
    "       )\n",
    " >> map(rec.update(header = lambda r: r >> get('header') >> add_yearID,\n",
    "                   body = lambda r: r >> get('body') >> map(add_year_to_line(r['year'])),\n",
    "                  )\n",
    "       )\n",
    ") >> map(rec.heads(2))"
   ]
  },
  {
   "attachments": {},
   "cell_type": "markdown",
   "id": "a788c744-8133-410b-b774-65eebfa1d953",
   "metadata": {},
   "source": [
    "#### Zip up the relevant keys.\n",
    "\n",
    "**Comprehension code.**\n",
    "```python\n",
    "  { key: [get(key, rec, None) for rec in with_year_columns]\n",
    "    for key in ['type', 'folder', 'header', 'body']\n",
    "  }\n",
    "```\n",
    "**Functional Code.**\n",
    "```python\n",
    "### Combine all values at the given keys ==> ZIP AT\n",
    "(...\n",
    " >> rec.zip_at(['type_', 'folder', 'header', 'body'])\n",
    ")\n",
    "```"
   ]
  },
  {
   "cell_type": "code",
   "execution_count": 52,
   "id": "d9b80fa7-2e3c-4de3-8e4e-7c3eb20f3004",
   "metadata": {},
   "outputs": [
    {
     "data": {
      "text/plain": [
       "{'type_': ['Pitching', 'Pitching', 'Pitching'],\n",
       " 'folder': ['./data/baseballdatabank_2020_to_2023/core/',\n",
       "  './data/baseballdatabank_2020_to_2023/core/',\n",
       "  './data/baseballdatabank_2020_to_2023/core/'],\n",
       " 'header': ['yearID,playerID,stint,teamID,lgID,W,L,G,GS,CG,SHO,SV,IPouts,H,ER,HR,BB,SO,BAOpp,ERA,IBB,WP,HBP,BK,BFP,GF,R,SH,SF,GIDP\\n',\n",
       "  'yearID,playerID,stint,teamID,lgID,W,L,G,GS,CG,SHO,SV,IPouts,H,ER,HR,BB,SO,BAOpp,ERA,IBB,WP,HBP,BK,BFP,GF,R,SH,SF,GIDP\\n',\n",
       "  'yearID,playerID,stint,teamID,lgID,W,L,G,GS,CG,SHO,SV,IPouts,H,ER,HR,BB,SO,BAOpp,ERA,IBB,WP,HBP,BK,BFP,GF,R,SH,SF,GIDP\\n'],\n",
       " 'body': [['2022,abbotco01,1,WAS,NL,0,5,16,9,0,0,0,144,44,28,12,25,45,0.239,5.25,0,2,5,0,216,7,30,0,2,0\\n',\n",
       "   '2022,abreual01,1,TEX,AL,0,0,7,0,0,0,0,26,4,3,2,12,9,0.138,3.12,0,0,1,0,42,0,3,0,0,1\\n'],\n",
       "  ['2021,abadfe01,1,BAL,AL,0,0,16,0,0,0,0,53,23,11,1,7,10,0.307,5.6,1,0,0,0,82,4,12,0,0,3\\n',\n",
       "   '2021,abbotco01,1,CHN,NL,0,0,7,1,0,0,0,52,20,13,7,11,12,0.286,6.75,0,2,0,0,82,2,15,1,0,0\\n'],\n",
       "  ['2020,abreual01,1,NYA,AL,0,1,2,0,0,0,0,4,4,3,1,2,2,0.5,20.25,0,0,1,0,11,1,4,0,0,0\\n',\n",
       "   '2020,abreubr01,1,HOU,AL,0,0,4,0,0,0,0,10,1,1,0,7,3,0.091,2.7,0,0,2,0,20,1,2,0,0,0\\n']]}"
      ]
     },
     "execution_count": 52,
     "metadata": {},
     "output_type": "execute_result"
    }
   ],
   "source": [
    "(pitching_files :=\n",
    " \"./data/baseballdatabank_2020_to_2023/**/20*_Pitching.csv\"\n",
    " >> glob(recursive=True)\n",
    " >> map(rec.create(path   =  identity,\n",
    "                   folder =  get_folder,\n",
    "                   year   =  get_year,\n",
    "                   name   =  get_name,\n",
    "                   type_  =  get_type,\n",
    "                   lines  =  with_open(obj.readlines()),\n",
    "                   use_record_class=False\n",
    "                  )\n",
    "       )\n",
    " >> map(rec.update(header = lambda r: r >> get('lines') >> tup.first,\n",
    "                   body = lambda r: r >> get('lines') >> tup.rest,\n",
    "                  )\n",
    "       )\n",
    " >> map(rec.update(header = lambda r: r >> get('header') >> add_yearID,\n",
    "                   body = lambda r: r >> get('body') >> map(add_year_to_line(r['year'])),\n",
    "                  )\n",
    "       )\n",
    " >> rec.zip_at(['type_', 'folder', 'header', 'body'])\n",
    ") >> rec.apply(body = map(tup.head(2)))"
   ]
  },
  {
   "attachments": {},
   "cell_type": "markdown",
   "id": "04fcac99-c521-42a9-bbbc-a1d1d07aef1a",
   "metadata": {},
   "source": [
    "#### Extract the folder, type, and header\n",
    "\n",
    "**Comprehension code.**\n",
    "```python\n",
    "  zipped_batting | {'folder':zipped_batting['folder'][0],\n",
    "                    'type':zipped_batting['type'][0],\n",
    "                    'header':zipped_batting['header'][0],\n",
    "                   } \n",
    "```\n",
    "**Functional Code.**\n",
    "```python\n",
    "### Only need value at given key ==> APPLY\n",
    "(...\n",
    " >> rec.apply(folder = tup.first,\n",
    "              type_ = tup.first,\n",
    "              header = tup.first,\n",
    "             )\n",
    ")\n",
    "```"
   ]
  },
  {
   "cell_type": "code",
   "execution_count": 53,
   "id": "9ac4877d-9a39-4d78-95a5-e36d5c87935a",
   "metadata": {},
   "outputs": [
    {
     "data": {
      "text/plain": [
       "{'type_': 'Pitching',\n",
       " 'folder': './data/baseballdatabank_2020_to_2023/core/',\n",
       " 'header': 'yearID,playerID,stint,teamID,lgID,W,L,G,GS,CG,SHO,SV,IPouts,H,ER,HR,BB,SO,BAOpp,ERA,IBB,WP,HBP,BK,BFP,GF,R,SH,SF,GIDP\\n',\n",
       " 'body': [['2022,abbotco01,1,WAS,NL,0,5,16,9,0,0,0,144,44,28,12,25,45,0.239,5.25,0,2,5,0,216,7,30,0,2,0\\n',\n",
       "   '2022,abreual01,1,TEX,AL,0,0,7,0,0,0,0,26,4,3,2,12,9,0.138,3.12,0,0,1,0,42,0,3,0,0,1\\n'],\n",
       "  ['2021,abadfe01,1,BAL,AL,0,0,16,0,0,0,0,53,23,11,1,7,10,0.307,5.6,1,0,0,0,82,4,12,0,0,3\\n',\n",
       "   '2021,abbotco01,1,CHN,NL,0,0,7,1,0,0,0,52,20,13,7,11,12,0.286,6.75,0,2,0,0,82,2,15,1,0,0\\n'],\n",
       "  ['2020,abreual01,1,NYA,AL,0,1,2,0,0,0,0,4,4,3,1,2,2,0.5,20.25,0,0,1,0,11,1,4,0,0,0\\n',\n",
       "   '2020,abreubr01,1,HOU,AL,0,0,4,0,0,0,0,10,1,1,0,7,3,0.091,2.7,0,0,2,0,20,1,2,0,0,0\\n']]}"
      ]
     },
     "execution_count": 53,
     "metadata": {},
     "output_type": "execute_result"
    }
   ],
   "source": [
    "(pitching_files :=\n",
    " \"./data/baseballdatabank_2020_to_2023/**/20*_Pitching.csv\"\n",
    " >> glob(recursive=True)\n",
    " >> map(rec.create(path   =  identity,\n",
    "                   folder =  get_folder,\n",
    "                   year   =  get_year,\n",
    "                   name   =  get_name,\n",
    "                   type_  =  get_type,\n",
    "                   lines  =  with_open(obj.readlines()),\n",
    "                   use_record_class=False\n",
    "                  )\n",
    "       )\n",
    " >> map(rec.update(header = lambda r: r >> get('lines') >> tup.first,\n",
    "                   body = lambda r: r >> get('lines') >> tup.rest,\n",
    "                  )\n",
    "       )\n",
    " >> map(rec.update(header = lambda r: r >> get('header') >> add_yearID,\n",
    "                   body = lambda r: r >> get('body') >> map(add_year_to_line(r['year'])),\n",
    "                  )\n",
    "       )\n",
    " >> rec.zip_at(['type_', 'folder', 'header', 'body'])\n",
    " >> rec.apply(folder = tup.first,\n",
    "              type_ = tup.first,\n",
    "              header = tup.first,\n",
    "             )\n",
    ") >> rec.apply(body = map(tup.head(2)))\n"
   ]
  },
  {
   "attachments": {},
   "cell_type": "markdown",
   "id": "7043bc5d-291c-468c-8a39-0e99b3290f98",
   "metadata": {},
   "source": [
    "#### Fold the bodies starting with the header\n",
    "\n",
    "**Comprehension code.**\n",
    "```python\n",
    "  combine_file_info | {'body':fold(lambda acc, el: acc + el,\n",
    "                                [combine_file_info['header']],\n",
    "                                combine_file_info['body']\n",
    "                               )\n",
    "                        } \n",
    "```\n",
    "**Functional Code.**\n",
    "```python\n",
    "### Access multiple keys ==> UPDATE\n",
    "(...\n",
    " >> rec.update(body = lambda r: r >> get('body') >> fold(add, [r['header']])\n",
    "              )\n",
    ")\n",
    "```"
   ]
  },
  {
   "cell_type": "code",
   "execution_count": 55,
   "id": "d1b73e34-9367-44c3-91c8-5aacb7f22815",
   "metadata": {},
   "outputs": [
    {
     "data": {
      "text/plain": [
       "{'type_': 'Pitching',\n",
       " 'folder': './data/baseballdatabank_2020_to_2023/core/',\n",
       " 'header': 'yearID,playerID,stint,teamID,lgID,W,L,G,GS,CG,SHO,SV,IPouts,H,ER,HR,BB,SO,BAOpp,ERA,IBB,WP,HBP,BK,BFP,GF,R,SH,SF,GIDP\\n',\n",
       " 'body': ['yearID,playerID,stint,teamID,lgID,W,L,G,GS,CG,SHO,SV,IPouts,H,ER,HR,BB,SO,BAOpp,ERA,IBB,WP,HBP,BK,BFP,GF,R,SH,SF,GIDP\\n',\n",
       "  '2022,abbotco01,1,WAS,NL,0,5,16,9,0,0,0,144,44,28,12,25,45,0.239,5.25,0,2,5,0,216,7,30,0,2,0\\n',\n",
       "  '2022,abreual01,1,TEX,AL,0,0,7,0,0,0,0,26,4,3,2,12,9,0.138,3.12,0,0,1,0,42,0,3,0,0,1\\n',\n",
       "  '2022,abreual01,2,KCA,AL,0,0,4,0,0,0,0,13,6,2,1,4,3,0.353,4.15,0,1,1,0,22,3,2,0,0,2\\n',\n",
       "  '2022,abreual01,3,NYA,AL,2,2,22,0,0,0,0,77,25,9,2,6,26,0.255,3.16,0,5,1,0,108,8,10,1,2,2\\n']}"
      ]
     },
     "execution_count": 55,
     "metadata": {},
     "output_type": "execute_result"
    }
   ],
   "source": [
    "(pitching_files :=\n",
    " \"./data/baseballdatabank_2020_to_2023/**/20*_Pitching.csv\"\n",
    " >> glob(recursive=True)\n",
    " >> map(rec.create(path   =  identity,\n",
    "                   folder =  get_folder,\n",
    "                   year   =  get_year,\n",
    "                   name   =  get_name,\n",
    "                   type_  =  get_type,\n",
    "                   lines  =  with_open(obj.readlines()),\n",
    "                   use_record_class=False\n",
    "                  )\n",
    "       )\n",
    " >> map(rec.update(header = lambda r: r >> get('lines') >> tup.first,\n",
    "                   body = lambda r: r >> get('lines') >> tup.rest,\n",
    "                  )\n",
    "       )\n",
    " >> map(rec.update(header = lambda r: r >> get('header') >> add_yearID,\n",
    "                   body = lambda r: r >> get('body') >> map(add_year_to_line(r['year'])),\n",
    "                  )\n",
    "       )\n",
    " >> rec.zip_at(['type_', 'folder', 'header', 'body'])\n",
    " >> rec.apply(folder = tup.first,\n",
    "              type_ = tup.first,\n",
    "              header = tup.first,\n",
    "             )\n",
    " >> rec.update(body = lambda r: r >> get('body') >> fold(add, [r['header']])\n",
    "              )\n",
    ") >> rec.apply(body = tup.head(5))\n"
   ]
  },
  {
   "cell_type": "markdown",
   "id": "b88ef7b3-69ac-4ce2-b816-f81ff09ef7e5",
   "metadata": {},
   "source": [
    "#### Make the output path\n",
    "\n",
    "**Comprehension code.**\n",
    "```python\n",
    "  combined_body | {'out_path':combined_body['folder'] + combined_body['type'] + '.csv',\n",
    "                   } \n",
    "```\n",
    "\n",
    "**Functional Code.**\n",
    "```python\n",
    "get_out_path = lambda r: r['folder'] + r['type_'] + '.csv'\n",
    "\n",
    "### Create a new pair ==> UPDATE\n",
    "(...\n",
    " >> rec.update(out_path = get_out_path)\n",
    ")\n",
    "```"
   ]
  },
  {
   "cell_type": "code",
   "execution_count": 56,
   "id": "5b6b6963-7fb2-40d5-8783-a10f5f01d79a",
   "metadata": {},
   "outputs": [
    {
     "data": {
      "text/plain": [
       "{'type_': 'Pitching',\n",
       " 'folder': './data/baseballdatabank_2020_to_2023/core/',\n",
       " 'header': 'yearID,playerID,stint,teamID,lgID,W,L,G,GS,CG,SHO,SV,IPouts,H,ER,HR,BB,SO,BAOpp,ERA,IBB,WP,HBP,BK,BFP,GF,R,SH,SF,GIDP\\n',\n",
       " 'body': ['yearID,playerID,stint,teamID,lgID,W,L,G,GS,CG,SHO,SV,IPouts,H,ER,HR,BB,SO,BAOpp,ERA,IBB,WP,HBP,BK,BFP,GF,R,SH,SF,GIDP\\n',\n",
       "  '2022,abbotco01,1,WAS,NL,0,5,16,9,0,0,0,144,44,28,12,25,45,0.239,5.25,0,2,5,0,216,7,30,0,2,0\\n',\n",
       "  '2022,abreual01,1,TEX,AL,0,0,7,0,0,0,0,26,4,3,2,12,9,0.138,3.12,0,0,1,0,42,0,3,0,0,1\\n',\n",
       "  '2022,abreual01,2,KCA,AL,0,0,4,0,0,0,0,13,6,2,1,4,3,0.353,4.15,0,1,1,0,22,3,2,0,0,2\\n',\n",
       "  '2022,abreual01,3,NYA,AL,2,2,22,0,0,0,0,77,25,9,2,6,26,0.255,3.16,0,5,1,0,108,8,10,1,2,2\\n'],\n",
       " 'out_path': './data/baseballdatabank_2020_to_2023/core/Pitching.csv'}"
      ]
     },
     "execution_count": 56,
     "metadata": {},
     "output_type": "execute_result"
    }
   ],
   "source": [
    "get_out_path = lambda r: r['folder'] + r['type_'] + '.csv'\n",
    "\n",
    "(pitching_files :=\n",
    " \"./data/baseballdatabank_2020_to_2023/**/20*_Pitching.csv\"\n",
    " >> glob(recursive=True)\n",
    " >> map(rec.create(path   =  identity,\n",
    "                   folder =  get_folder,\n",
    "                   year   =  get_year,\n",
    "                   name   =  get_name,\n",
    "                   type_  =  get_type,\n",
    "                   lines  =  with_open(obj.readlines()),\n",
    "                   use_record_class=False\n",
    "                  )\n",
    "       )\n",
    " >> map(rec.update(header = lambda r: r >> get('lines') >> tup.first,\n",
    "                   body = lambda r: r >> get('lines') >> tup.rest,\n",
    "                  )\n",
    "       )\n",
    " >> map(rec.update(header = lambda r: r >> get('header') >> add_yearID,\n",
    "                   body = lambda r: r >> get('body') >> map(add_year_to_line(r['year'])),\n",
    "                  )\n",
    "       )\n",
    " >> rec.zip_at(['type_', 'folder', 'header', 'body'])\n",
    " >> rec.apply(folder = tup.first,\n",
    "              type_ = tup.first,\n",
    "              header = tup.first,\n",
    "             )\n",
    " >> rec.update(body = lambda r: r >> get('body') >> fold(add, [r['header']])\n",
    "              )\n",
    " >> rec.update(out_path = get_out_path)\n",
    ") >> rec.apply(body = tup.head(5))\n"
   ]
  },
  {
   "cell_type": "code",
   "execution_count": null,
   "id": "0b3d10cc-b007-48e1-a8d4-457c084f1b04",
   "metadata": {},
   "outputs": [],
   "source": []
  }
 ],
 "metadata": {
  "kernelspec": {
   "display_name": "Python 3 (ipykernel)",
   "language": "python",
   "name": "python3"
  },
  "language_info": {
   "codemirror_mode": {
    "name": "ipython",
    "version": 3
   },
   "file_extension": ".py",
   "mimetype": "text/x-python",
   "name": "python",
   "nbconvert_exporter": "python",
   "pygments_lexer": "ipython3",
   "version": "3.12.7"
  }
 },
 "nbformat": 4,
 "nbformat_minor": 5
}
