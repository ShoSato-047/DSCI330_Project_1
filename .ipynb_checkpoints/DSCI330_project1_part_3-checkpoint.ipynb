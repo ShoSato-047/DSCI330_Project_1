{
 "cells": [
  {
   "cell_type": "code",
   "execution_count": 1,
   "id": "70ddcd6f-af66-4d85-8eb7-284bbcc404e2",
   "metadata": {},
   "outputs": [
    {
     "name": "stdout",
     "output_type": "stream",
     "text": [
      "Requirement already satisfied: composable in /home/mp5667di/anaconda3/lib/python3.12/site-packages (0.5.4)\n",
      "Requirement already satisfied: python-forge<19.0,>=18.6 in /home/mp5667di/anaconda3/lib/python3.12/site-packages (from composable) (18.6.0)\n",
      "Requirement already satisfied: toolz<0.12.0,>=0.11.1 in /home/mp5667di/anaconda3/lib/python3.12/site-packages (from composable) (0.11.2)\n",
      "Note: you may need to restart the kernel to use updated packages.\n"
     ]
    }
   ],
   "source": [
    "%pip install composable"
   ]
  },
  {
   "cell_type": "code",
   "execution_count": 5,
   "id": "e15f69da-eb8e-4284-ad38-e22d8f282593",
   "metadata": {},
   "outputs": [],
   "source": [
    "from composable import pipeable\n",
    "from composable.strict import map, filter\n",
    "import composable_records as rec\n",
    "import composable_tuples as tup\n",
    "from composable_glob import glob\n",
    "from composable_utility import get, with_open, identity, apply\n",
    "from composable_object import obj, attr\n",
    "from composable_origami import fold\n",
    "from operator import add"
   ]
  },
  {
   "cell_type": "markdown",
   "id": "a2b29ece-d3d4-4259-83a1-475bdfc4b1b0",
   "metadata": {},
   "source": [
    "# Project Overview"
   ]
  },
  {
   "cell_type": "code",
   "execution_count": null,
   "id": "56bee56a-20d7-4554-a194-02061f94db3d",
   "metadata": {},
   "outputs": [],
   "source": []
  }
 ],
 "metadata": {
  "kernelspec": {
   "display_name": "Python 3 (ipykernel)",
   "language": "python",
   "name": "python3"
  },
  "language_info": {
   "codemirror_mode": {
    "name": "ipython",
    "version": 3
   },
   "file_extension": ".py",
   "mimetype": "text/x-python",
   "name": "python",
   "nbconvert_exporter": "python",
   "pygments_lexer": "ipython3",
   "version": "3.12.2"
  }
 },
 "nbformat": 4,
 "nbformat_minor": 5
}
