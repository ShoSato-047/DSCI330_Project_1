{
 "cells": [
  {
   "cell_type": "code",
   "execution_count": null,
   "id": "21114a3e-56bc-4407-a92d-cee0ff44c6d9",
   "metadata": {},
   "outputs": [],
   "source": [
    "from composable_glob import glob\n",
    "from composable.strict import map, filter\n",
    "from composable_utility import with_open, identity\n",
    "import composable_records as rec\n",
    "from composable_object import obj"
   ]
  },
  {
   "cell_type": "markdown",
   "id": "f6073307-ac74-45b3-83d9-571a7ed3cd9f",
   "metadata": {},
   "source": [
    "# Project Overview.  \n",
    "In this project, you will combine all of the text files by their type (attendance or practice quiz) in two ways: with comprehensions and using composable functions.\n",
    "\n",
    "## Goal for part 1: \n",
    "\n",
    "1. **Combine all attendance files into one CSV file.**\n",
    "2. **Add the course and section information as columns in the resulting file.**\n",
    "3. Use comprehensions with records to accomplish this part.\n",
    "4. You will need to make your own headers based on the README files.\n",
    "5. There is no missing data, so you can use string split to split up the fixed widths.  BONUS: Do this using unfold instead of string split.\n",
    "    - Hint for splitting.  Feel free to split the date-time column into two separate columns when splitting, just make sure you adjust the header accordingly.\n",
    "    - BONUS: Do this using unfold instead of string split.\n",
    "7. See Activity 2.7.1 - Combining a single type file with comprehensions for a demonstration of a similar problem."
   ]
  },
  {
   "cell_type": "code",
   "execution_count": 2,
   "id": "4f3d1f8c-1543-45cb-b087-8ae9d8b1aba0",
   "metadata": {},
   "outputs": [],
   "source": [
    "glob_wc = \"./data/attendance_example_fixed_width/**/*.txt\""
   ]
  },
  {
   "cell_type": "code",
   "execution_count": 5,
   "id": "f24f8b42-90a2-4a56-9431-dcfe02e48404",
   "metadata": {},
   "outputs": [
    {
     "data": {
      "text/plain": [
       "['./data/attendance_example_fixed_width\\\\dsci494s7\\\\Attendance Quiz - User Attempts.txt',\n",
       " './data/attendance_example_fixed_width\\\\stat180s18\\\\Attendance Quiz - User Attempts.txt',\n",
       " './data/attendance_example_fixed_width\\\\stat491s1\\\\Attendance Quiz - User Attempts.txt']"
      ]
     },
     "execution_count": 5,
     "metadata": {},
     "output_type": "execute_result"
    }
   ],
   "source": [
    "(paths :=\n",
    " glob_wc\n",
    " >> glob(recursive=True)\n",
    " >> filter(lambda p: 'Attendance' in p)\n",
    ")"
   ]
  },
  {
   "cell_type": "code",
   "execution_count": 22,
   "id": "18e595fc-37d2-4c4d-a562-46b2264748a7",
   "metadata": {},
   "outputs": [
    {
     "data": {
      "text/plain": [
       "[{'path': './data/attendance_example_fixed_width\\\\dsci494s7\\\\Attendance Quiz - User Attempts.txt',\n",
       "  'lines': ['14460432 au9747cp Jericho     Greer       1  1  1  2019-01-14 14:00:00 2019-01-14 14:06:00 100%',\n",
       "   '14460432 au9747cp Jericho     Greer       2  1  1  2019-01-16 14:00:00 2019-01-16 14:08:00 100%',\n",
       "   '14460432 au9747cp Jericho     Greer       3  1  1  2019-01-18 14:00:00 2019-01-18 14:05:00 100%',\n",
       "   '14460432 au9747cp Jericho     Greer       4  1  1  2019-01-23 14:00:00 2019-01-23 14:06:00 100%',\n",
       "   '14460432 au9747cp Jericho     Greer       5  1  1  2019-01-25 14:00:00 2019-01-25 14:10:00 100%']},\n",
       " {'path': './data/attendance_example_fixed_width\\\\stat180s18\\\\Attendance Quiz - User Attempts.txt',\n",
       "  'lines': ['14105436 uc4365aw Orville     Nyquist     15 1  1  2019-02-27 15:02:00 2019-02-27 15:10:00 100%',\n",
       "   '14105436 uc4365aw Orville     Nyquist     16 1  1  2019-03-04 15:07:00 2019-03-04 15:13:00 100%',\n",
       "   '14105436 uc4365aw Orville     Nyquist     17 1  1  2019-03-06 15:02:00 2019-03-06 15:09:00 100%',\n",
       "   '14105436 uc4365aw Orville     Nyquist     1  1  1  2019-01-14 15:22:00 2019-01-14 15:30:00 100%',\n",
       "   '14105436 uc4365aw Orville     Nyquist     2  1  1  2019-01-16 15:01:00 2019-01-16 15:10:00 100%']},\n",
       " {'path': './data/attendance_example_fixed_width\\\\stat491s1\\\\Attendance Quiz - User Attempts.txt',\n",
       "  'lines': ['15135961 wd8670of McKinley    Sabina      7  1  1  2019-02-05 09:07:00 2019-02-05 09:11:00 100%',\n",
       "   '15135961 wd8670of McKinley    Sabina      8  1  1  2019-02-07 09:01:00 2019-02-07 09:07:00 100%',\n",
       "   '15135961 wd8670of McKinley    Sabina      9  1  1  2019-02-14 09:00:00 2019-02-14 09:01:00 100%',\n",
       "   '15135961 wd8670of McKinley    Sabina      10 1  1  2019-02-21 09:08:00 2019-02-21 09:17:00 100%',\n",
       "   '15135961 wd8670of McKinley    Sabina      11 1  1  2019-02-26 09:04:00 2019-02-26 09:07:00 100%']}]"
      ]
     },
     "execution_count": 22,
     "metadata": {},
     "output_type": "execute_result"
    }
   ],
   "source": [
    "(paths\n",
    " >> map(rec.create(path = identity,\n",
    "                   lines = with_open(lambda f: f.read().replace('%', '%\\n').split('\\n')),\n",
    "                   use_record_class=False\n",
    "                  )\n",
    "        )\n",
    ") >> map(rec.heads(5))"
   ]
  },
  {
   "cell_type": "code",
   "execution_count": 23,
   "id": "e1d951af-155b-45fe-a8ca-5ba7ac06e68b",
   "metadata": {},
   "outputs": [
    {
     "ename": "TypeError",
     "evalue": "string indices must be integers, not 'str'",
     "output_type": "error",
     "traceback": [
      "\u001b[1;31m---------------------------------------------------------------------------\u001b[0m",
      "\u001b[1;31mTypeError\u001b[0m                                 Traceback (most recent call last)",
      "Cell \u001b[1;32mIn[23], line 1\u001b[0m\n\u001b[1;32m----> 1\u001b[0m \u001b[43mpaths\u001b[49m\u001b[43m[\u001b[49m\u001b[38;5;241;43m0\u001b[39;49m\u001b[43m]\u001b[49m\u001b[43m[\u001b[49m\u001b[38;5;124;43m'\u001b[39;49m\u001b[38;5;124;43mlines\u001b[39;49m\u001b[38;5;124;43m'\u001b[39;49m\u001b[43m]\u001b[49m[:\u001b[38;5;241m5\u001b[39m]\n",
      "\u001b[1;31mTypeError\u001b[0m: string indices must be integers, not 'str'"
     ]
    }
   ],
   "source": [
    "paths[0]['lines'][:5]"
   ]
  },
  {
   "cell_type": "code",
   "execution_count": 24,
   "id": "cda4258c-0175-4817-9430-c9de3c39be9c",
   "metadata": {},
   "outputs": [
    {
     "ename": "AttributeError",
     "evalue": "'str' object has no attribute 'lines'",
     "output_type": "error",
     "traceback": [
      "\u001b[1;31m---------------------------------------------------------------------------\u001b[0m",
      "\u001b[1;31mAttributeError\u001b[0m                            Traceback (most recent call last)",
      "Cell \u001b[1;32mIn[24], line 1\u001b[0m\n\u001b[1;32m----> 1\u001b[0m \u001b[43mpaths\u001b[49m\u001b[43m[\u001b[49m\u001b[38;5;241;43m0\u001b[39;49m\u001b[43m]\u001b[49m\u001b[38;5;241;43m.\u001b[39;49m\u001b[43mlines\u001b[49m[:\u001b[38;5;241m5\u001b[39m]\n",
      "\u001b[1;31mAttributeError\u001b[0m: 'str' object has no attribute 'lines'"
     ]
    }
   ],
   "source": [
    "paths[0].lines[:5]"
   ]
  },
  {
   "cell_type": "code",
   "execution_count": null,
   "id": "ffea8cec-d0a4-4e1b-92d8-7f7e293f98f8",
   "metadata": {},
   "outputs": [],
   "source": []
  }
 ],
 "metadata": {
  "kernelspec": {
   "display_name": "Python 3 (ipykernel)",
   "language": "python",
   "name": "python3"
  },
  "language_info": {
   "codemirror_mode": {
    "name": "ipython",
    "version": 3
   },
   "file_extension": ".py",
   "mimetype": "text/x-python",
   "name": "python",
   "nbconvert_exporter": "python",
   "pygments_lexer": "ipython3",
   "version": "3.12.7"
  }
 },
 "nbformat": 4,
 "nbformat_minor": 5
}
